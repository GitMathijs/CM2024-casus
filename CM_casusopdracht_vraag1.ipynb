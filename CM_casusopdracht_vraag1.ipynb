{
 "cells": [
  {
   "cell_type": "markdown",
   "id": "7a0bfec9d5894ba0",
   "metadata": {},
   "source": [
    "# Casusopdracht - Onderzoeksvraag 1\n",
    "\n",
    "*Klas*: V2B\n",
    "*Studenten*: \n",
    "- Roan Gaasbeek\n",
    "- Luc Pikaar\n",
    "- Mathijs de Jong\n"
   ]
  },
  {
   "cell_type": "markdown",
   "id": "b98a62fe9d347b",
   "metadata": {},
   "source": [
    "Dit bestand bouwt voort op de algemene stappen die zijn uitgevoerd in het bestand `CM_casusopdracht.ipynb`. In dat bestand zijn de fasen **Business Understanding**, **Data Understanding** en **Algemene Data Preparation** behandeld. In dit bestand gaan we verder met **Data Preparation** specifiek voor deze onderzoeksvraag en starten we de **Modelling**-fase."
   ]
  },
  {
   "cell_type": "markdown",
   "id": "792092a219e4c893",
   "metadata": {},
   "source": [
    "\n",
    "\n",
    "### Onderzoeksvraag\n",
    "In hoeverre is de bruto-omzet van een film te voorspellen op basis van de populariteit op **Facebook** en **IMDB**?"
   ]
  },
  {
   "cell_type": "code",
   "execution_count": null,
   "id": "initial_id",
   "metadata": {
    "collapsed": true
   },
   "outputs": [],
   "source": [
    "import numpy as np\n",
    "import pandas as pd\n",
    "import seaborn as sns\n",
    "import matplotlib.pyplot as plt\n",
    "from sklearn.model_selection import train_test_split, GridSearchCV\n",
    "from sklearn.linear_model import LinearRegression\n",
    "from sklearn.metrics import r2_score\n",
    "from sklearn.preprocessing import StandardScaler\n",
    "\n"
   ]
  },
  {
   "cell_type": "code",
   "execution_count": null,
   "id": "dd878da2",
   "metadata": {},
   "outputs": [],
   "source": [
    "# De schone dataset inladen\n",
    "dataset = pd.read_csv('films.csv')\n"
   ]
  },
  {
   "cell_type": "markdown",
   "id": "d016a9ef",
   "metadata": {},
   "source": [
    "## 2. Data understanding\n",
    "\n",
    "### Features\n",
    "In dit deel van het onderzoek richten we ons op de volgende kenmerken (features) die van invloed kunnen zijn op de bruto-omzet van een film.\n",
    "\n",
    "**Film_likes**: Het aantal facebook likes dat de film heeft. Deze feature geeft een indicatie van de populariteit van de film op sociale media, wat kan bijdragen aan meer zichtbaarheid en mogelijk een hogere bruto-omzet.\n",
    "\n",
    "**Directeur_likes**: Het aantal likes dat de regisseur heeft op facebook. Deze feature geeft een indicatie van de populariteit van de film op sociale media, wat kan bijdragen aan meer zichtbaarheid en mogelijk een hogere bruto-omzet.\n",
    "\n",
    "**Acteur_1_likes**: Het aanta likes dat de hoofdrolspeler van de film heeft op facebook. Deze feature geeft een indicatie van de aantrekkingskracht van de hoofdrolspeler, wat een grote invloed kan hebben op de populariteit van de film en de bruto-omzet.\n",
    "\n",
    "**Acteur_2_likes**: Het aantal likes dat de tweede belangrijkste acteur van de film heeft facebook. Deze feature geeft een indicatie van de populariteit van de film op sociale media, wat kan bijdragen aan meer zichtbaarheid en mogelijk een hogere bruto-omzet.\n",
    "\n",
    "**Acteur_3_likes**: Het aantal likes dat de derde belangrijkste acteur van de film heeft op facebook. Deze feature geeft een indicatie van de populariteit van de film op sociale media, wat kan bijdragen aan meer zichtbaarheid en mogelijk een hogere bruto-omzet.\n",
    "\n",
    "**Cast_totaal_likes**: Het totale aantal likes facebook van de volledige cast. Deze feature geeft breed beeld van de populariteit van de cast, wat kan bijdragen aan meer zichtbaarheid en mogelijk een hogere bruto-omzet.\n",
    "\n",
    "**IMDB-score**: De gemiddelde beoordeling van de film door gebruikers op IMDB. Deze feature geeft een indicatie van de populariteit en kwaliteit van een film, zoals beoordeeld door het publiek.\n",
    "\n",
    "\n"
   ]
  },
  {
   "cell_type": "markdown",
   "id": "dee02be9",
   "metadata": {},
   "source": [
    "## Correlation Analysis\n",
    "\n"
   ]
  },
  {
   "cell_type": "markdown",
   "id": "d4afdc4d",
   "metadata": {},
   "source": [
    "### Scatterplot van Totale Likes versus Omzet\n",
    "\n",
    "In deze analyse visualiseren we de relatie tussen het totale aantal likes en de omzet (in USD) van films. Het doel is om te onderzoeken of er een correlatie bestaat tussen de populariteit van een film op sociale media en de bruto-omzet.\n",
    "\n",
    "We maken gebruik van een scatterplot om deze twee variabelen te plotten. Elke datapunt in de scatterplot vertegenwoordigt een film, waarbij de x-as het totale aantal likes en de y-as de omzet in USD weergeeft. Daarnaast berekenen we de correlatiecoëfficiënt om de sterkte van de lineaire relatie tussen de twee variabelen te bepalen.\n",
    "\n",
    "Een positieve correlatie zou erop wijzen dat films met meer likes meestal een hogere omzet genereren, terwijl een zwakke correlatie zou aangeven dat sociale media populariteit geen goede voorspeller is.\n"
   ]
  },
  {
   "cell_type": "code",
   "execution_count": null,
   "id": "c2ac9d07",
   "metadata": {},
   "outputs": [],
   "source": [
    "#Totaal aantal likes optellen\n",
    "dataset['totaal_likes'] = dataset['cast_totaal_likes'] + dataset['film_likes']\n",
    "#Plot wordt aangemaakt\n",
    "plt.figure(figsize=(8, 8))\n",
    "plt.scatter(dataset['totaal_likes'], dataset['omzet'])\n",
    "plt.title('Scatterplot van totale likes vs omzet')\n",
    "plt.xlabel('Totaal aantal likes')\n",
    "plt.ylabel('Omzet (USD)')\n",
    "plt.grid(True)\n",
    "plt.show()\n",
    "#Correlatie berekenen en printen\n",
    "correlatie = np.corrcoef(dataset['totaal_likes'], dataset['omzet'])[0,1]\n",
    "print(f\"De correlatie is {correlatie}\")"
   ]
  },
  {
   "cell_type": "markdown",
   "id": "b3ca7f73",
   "metadata": {},
   "source": [
    "Hoewel de relatie niet heel sterk is, kunnen de likes nog een goede voorspellende waarde hebben, maar dan in combinatie met andere features. Als je puur naar het totale aantal likes kijkt, dan is er geen directie correlatie met de bruto-omzet."
   ]
  },
  {
   "cell_type": "markdown",
   "id": "815c8df3",
   "metadata": {},
   "source": [
    "### Budget"
   ]
  },
  {
   "cell_type": "markdown",
   "id": "5efa0cc9",
   "metadata": {},
   "source": [
    "# Scatterplot van Budget versus Omzet\n",
    "\n",
    "In deze analyse visualiseren we de relatie tussen het budget en de omzet (in USD) van films. Het doel is om te onderzoeken of er een correlatie bestaat tussen het budget en de bruto-omzet.\n",
    "\n",
    "We maken gebruik van een scatterplot om deze twee variabelen te plotten. Elke datapunt in de scatterplot vertegenwoordigt een film, waarbij de x-as het budget en de y-as de omzet in USD weergeeft. Daarnaast berekenen we de correlatiecoëfficiënt om de sterkte van de lineaire relatie tussen de twee variabelen te bepalen.\n",
    "\n",
    "Een sterke positieve correlatie zou erop wijzen dat een hoger budget meestal leidt tot een hogere omzet, terwijl een zwakke correlatie zou aangeven dat het budget geen directe voorspeller is voor de bruto-omzet van een film.\n",
    "\n"
   ]
  },
  {
   "cell_type": "code",
   "execution_count": null,
   "id": "7f736f47",
   "metadata": {},
   "outputs": [],
   "source": [
    "#Plot wordt gemaakt\n",
    "plt.figure(figsize=(8, 8))\n",
    "plt.scatter(dataset['budget'], dataset['omzet'])\n",
    "plt.title('Scatterplot van budget vs omzet')\n",
    "plt.xlabel('Budget')\n",
    "plt.ylabel('Omzet (USD)')\n",
    "plt.grid(True)\n",
    "plt.show()\n",
    "\n",
    "#Correlatie berekenen en printen\n",
    "correlatie = np.corrcoef(dataset['budget'], dataset['omzet'])[0,1]\n",
    "print(f\"De correlatie is {correlatie}\")"
   ]
  },
  {
   "cell_type": "markdown",
   "id": "3722078d",
   "metadata": {},
   "source": [
    "Er is een redelijke correlatie tussen het budget en de bruto-omzet van een film. Er zit wel veel spreiding in, dit betekent dat een hoog budget kan bijdragen aan een succesvolle film (met een hoog bruto-omzet) maar dat er geen garantie is.\n"
   ]
  },
  {
   "cell_type": "markdown",
   "id": "7db096b6",
   "metadata": {},
   "source": [
    "### IMDB Score"
   ]
  },
  {
   "cell_type": "markdown",
   "id": "043225a3",
   "metadata": {},
   "source": [
    "# Scatterplot van IMDB-score versus Omzet\n",
    "\n",
    "In deze analyse visualiseren we de relatie tussen de IMDB-score en de omzet (in USD) van films. Het doel is om te onderzoeken of er een correlatie bestaat tussen de IMDB-score en de bruto-omzet.\n",
    "\n",
    "We maken gebruik van een scatterplot om deze twee variabelen te plotten. Elke datapunt in de scatterplot vertegenwoordigt een film, waarbij de x-as de IMDB-score en de y-as de omzet in USD weergeeft. Daarnaast berekenen we de correlatiecoëfficiënt om de sterkte van de lineaire relatie tussen de twee variabelen te bepalen.\n",
    "\n",
    "Een sterke positieve correlatie zou erop wijzen dat een hogere IMDB-score meestal leidt tot een hogere omzet, terwijl een zwakke correlatie zou aangeven dat de IMDB-score geen directe voorspeller is voor de bruto-omzet van een film.\n",
    "\n"
   ]
  },
  {
   "cell_type": "code",
   "execution_count": null,
   "id": "678bce0b",
   "metadata": {},
   "outputs": [],
   "source": [
    "#Plot wordt gemaakt\n",
    "plt.figure(figsize=(8, 8))\n",
    "plt.scatter(dataset['imdb_score'], dataset['omzet'])\n",
    "plt.title('Scatterplot van imdb_score vs omzet')\n",
    "plt.xlabel('IMDB score')\n",
    "plt.ylabel('Omzet (USD)')\n",
    "plt.grid(True)\n",
    "plt.show()\n",
    "\n",
    "#Correlatie berekenen en printen\n",
    "correlatie = np.corrcoef(dataset['imdb_score'], dataset['omzet'])[0,1]\n",
    "print(f\"De correlatie is {correlatie}\")"
   ]
  },
  {
   "cell_type": "markdown",
   "id": "c210bcdc",
   "metadata": {},
   "source": [
    "In het scatterplot is te zien dat films met een hogere IMDB-score wel degelijk een hogere omzet hebben, maar dit betekent niet dat een film met een lagere IMDB-score geen hoge omzet kan hebben."
   ]
  },
  {
   "cell_type": "markdown",
   "id": "24d5ab7f",
   "metadata": {},
   "source": [
    "### Acteur \n",
    "\n",
    "Door films te herstructureren naar individuele film-acteur combinaties, kun je `acteur`-specifieke invloed op het succes van de film onderzoeken. Je kunt films clusteren op basis van de Facebook-likes van individuele acteurs en de bijbehorende filmomzet, en vervolgens patronen analyseren zoals welke acteurs de meeste invloed hebben op commerciële successen."
   ]
  },
  {
   "cell_type": "code",
   "execution_count": null,
   "id": "5905704a",
   "metadata": {},
   "outputs": [],
   "source": [
    "actor_dataset = dataset[['titel', 'acteur_1', 'acteur_2', 'acteur_3', 'acteur_1_likes', 'acteur_2_likes', 'acteur_3_likes', 'omzet']]\n",
    "\n",
    "# Hervormen van DataFrame\n",
    "actor_data = pd.DataFrame({\n",
    "    'titel': actor_dataset['titel'].values.repeat(3),\n",
    "    'acteur': actor_dataset[['acteur_1', 'acteur_2', 'acteur_3']].values.flatten(),\n",
    "    'likes': actor_dataset[['acteur_1_likes', 'acteur_2_likes', 'acteur_3_likes']].values.flatten(),\n",
    "    'omzet': actor_dataset['omzet'].values.repeat(3)\n",
    "}).dropna()\n",
    "\n",
    "actor_data.head()"
   ]
  },
  {
   "cell_type": "code",
   "execution_count": null,
   "id": "47541127",
   "metadata": {},
   "outputs": [],
   "source": [
    "idx = actor_data.groupby('titel')['likes'].idxmax()\n",
    "\n",
    "# Selecteer alleen de rijen met de meeste likes per film\n",
    "actor_data = actor_data.loc[idx].reset_index(drop=True)\n",
    "actor_data.head()"
   ]
  },
  {
   "cell_type": "markdown",
   "id": "1e7b4815",
   "metadata": {},
   "source": [
    "### Scatterplot van Acteur populariteit vs Film omzet\n",
    "\n",
    "In deze visualisatie wordt de populariteit van een acteur, gemeten in het aantal Facebook likes, vergeleken met de bruto-omzet. Elk punt in de scatterplot vertegenwoordigt een film, waarbij de x-as de populariteit van de acteur toont en de y-as de omzet van de film.\n",
    "\n",
    "Omdat Facebook likes over een groot bereik variëren (van enkele tientallen tot miljoenen), wordt de x-as weergegeven op een logaritmische schaal. Dit helpt om zowel films met een laag aantal likes als films met een zeer hoog aantal likes beter te visualiseren. De labels op de x-as zijn vertaald naar eenvoudig leesbare eenheden zoals \"1\", \"10\", \"100\", \"1k\", \"10k\", \"100k\", en \"1M\".\n",
    "\n",
    "Een sterke positieve correlatie zou erop wijzen dat een hoger aantal facebook likes meestal leidt tot een hogere omzet, terwijl een zwakke correlatie zou aangeven dat het aantal facebook likes van een acteur geen goede voorspeller is voor de bruto-omzet van een film.\n"
   ]
  },
  {
   "cell_type": "code",
   "execution_count": null,
   "id": "a046ba4f",
   "metadata": {},
   "outputs": [],
   "source": [
    "# Scatter plot: Likes vs Gross\n",
    "plt.figure(figsize=(8, 6))\n",
    "\n",
    "# Maak een nieuwe kolom met log10 van likes\n",
    "actor_data['log_likes'] = np.log10(actor_data['likes'] + 1)  # +1 om log(0) te vermijden\n",
    "\n",
    "# Scatterplot met log10 op de x-as\n",
    "sns.scatterplot(x='log_likes', y='omzet', data=actor_data)\n",
    "\n",
    "plt.title('Acteur Populariteit vs. Film omzet')\n",
    "plt.xlabel('Acteur Facebook Likes')\n",
    "plt.ylabel('Film omzet')\n",
    "plt.grid(True)\n",
    "plt.xticks(ticks=[0,1,2,3,4,5,6], labels=[\"1\", \"10\", \"100\", \"1k\", \"10k\", \"100k\", \"1M\"])  # Labels voor x-as\n",
    "plt.show()\n",
    "\n",
    "correlatie = np.corrcoef(actor_data['log_likes'], actor_data['omzet'])[0,1]\n",
    "print(f\"De correlatie is {correlatie}\")\n"
   ]
  },
  {
   "cell_type": "markdown",
   "id": "9c4c8279",
   "metadata": {},
   "source": [
    "De populariteit van een acteur, gemeten in Facebook likes, heeft geen sterk voorspellende waarde voor de omzet van een film. Hoewel er enige patronen te zien zijn, zoals clusters van likes en omzet, is er geen duidelijk bewijs dat meer likes consistent leiden tot meer omzet."
   ]
  },
  {
   "cell_type": "markdown",
   "id": "688a673c",
   "metadata": {},
   "source": [
    "## Train test split voor baseline en regressie model"
   ]
  },
  {
   "cell_type": "code",
   "execution_count": null,
   "id": "08f20a08",
   "metadata": {},
   "outputs": [],
   "source": [
    "# Hier kiezen we onze features en het target. Daarnaast splitsen we de training en validatie.\n",
    "\n",
    "features = dataset[['imdb_score', 'film_likes', 'directeur_likes', \n",
    "        'acteur_1_likes', 'acteur_2_likes', \n",
    "        'acteur_3_likes', 'cast_totaal_likes']]\n",
    "\n",
    "target = dataset['omzet']\n",
    "# De onafhankelijke variabelen en de afhankelijke variabele, random zorgt ervoor dat we de splitsing kunnen herhalen.\n",
    "# We gebruiken 23% van de data voor de validatieset.\n",
    "features_train, features_val, target_train, target_val = train_test_split(features, target, random_state=70, test_size=0.23)\n",
    "print(\"Training set:\", features_train.shape, target_train.shape)\n",
    "print(\"Validatie set:\", features_val.shape, target_val.shape)\n",
    "\n",
    "# Normaliseren van de data\n",
    "scaler = StandardScaler()\n",
    "\n",
    "features_train_standardized = scaler.fit_transform(features_train)\n",
    "\n",
    "features_val_standardized = scaler.transform(features_val)\n",
    "\n"
   ]
  },
  {
   "cell_type": "markdown",
   "id": "f7b6c8c2",
   "metadata": {},
   "source": [
    "### Baseline model"
   ]
  },
  {
   "cell_type": "code",
   "execution_count": null,
   "id": "95d5c7fe",
   "metadata": {},
   "outputs": [],
   "source": [
    "# In het baseline model berekenen we het gemiddelde uit van het target. We gebruiken een baseline model om te vergelijken met het\n",
    "# supervised learning model.\n",
    "\n",
    "gemiddelde_baseline = target_train.mean()\n",
    "\n",
    "baseline_voorspelling = [gemiddelde_baseline] * len(target_val)\n",
    "\n",
    "baseline_r2 = r2_score(target_val, baseline_voorspelling)\n",
    "score = baseline_r2 * 100\n",
    "print(f\"R2 score: {score:.2f}%\")"
   ]
  },
  {
   "cell_type": "markdown",
   "id": "564e8aca",
   "metadata": {},
   "source": [
    "Een score van -0.03% betekent dat het model slechter voorspelt dan het gemiddelde. Het baseline model is daarom geen goed model om de target variabele 'gross' te voorspellen. "
   ]
  },
  {
   "cell_type": "markdown",
   "id": "873cb297",
   "metadata": {},
   "source": [
    "### Supervised learning model"
   ]
  },
  {
   "cell_type": "markdown",
   "id": "0bc0c628",
   "metadata": {},
   "source": [
    "We gebruiken als supervised learning model lineaire regressie. We hebben dit model gekozen, omdat wij alleen gebruik maken van numerieke variabelen. Daarnaast kunnen resultaten van lineaire regressie gemakkelijk worden geïnterpreteerd. "
   ]
  },
  {
   "cell_type": "code",
   "execution_count": null,
   "id": "0573e6ab",
   "metadata": {},
   "outputs": [],
   "source": [
    "# We gebruiken het lineaire regressie model en deze wordt getrained\n",
    "model = LinearRegression()\n",
    "model.fit(features_train, target_train)\n",
    "\n",
    "target_pred = model.predict(features_val)\n",
    "r2 = r2_score(target_val, target_pred)\n",
    "score_percentage = r2 * 100\n",
    "\n",
    "print(f\"R2 score: {score_percentage:.2f}%\")"
   ]
  },
  {
   "cell_type": "markdown",
   "id": "6c136eb7",
   "metadata": {},
   "source": [
    "Wat betekent een R² score van 29% precies?\n",
    "Een R² van 0.29 betekent dat het model slechts 29% van de variatie in de afhankelijke variabele in dit geval omzet verklaart. Dit betekent dat 71% van de variatie niet wordt verklaard door het model en door andere factoren komt. \n",
    "\n",
    "R² = 1 (100%) betekent dat het model perfect past en alle variatie in de data verklaart.\n",
    "R² = 0 (0%) betekent dat het model helemaal geen verklaring biedt voor de variatie in de data. Dit is even 'slecht' als het gemiddelde."
   ]
  },
  {
   "cell_type": "code",
   "execution_count": null,
   "id": "1f72fe81",
   "metadata": {},
   "outputs": [],
   "source": [
    "#Hier berekenen we eerst MSE en daarna de wortel daarvan (de RMSE)\n",
    "mse = ((target_pred - target_val) ** 2).mean()\n",
    "rmse = np.sqrt(mse)\n",
    "#Hier printen we de RMSE-score, hoe lager hoe beter de voorspellingen van het model.\n",
    "print(f\"RMSE score: {rmse}\")"
   ]
  },
  {
   "cell_type": "markdown",
   "id": "25314675",
   "metadata": {},
   "source": [
    "De RMSE score is 57933639 dit betekent dat voorspelling van het model bijna 58 miljoen van de daadwerkelijke waarde af zit. Dit is een grote afwijking."
   ]
  },
  {
   "cell_type": "markdown",
   "id": "bc78a3f4",
   "metadata": {},
   "source": [
    "### Scatterplot van werkelijke waarde vs voorspelde waarde (Omzet)\n",
    "\n",
    "In deze visualisatie wordt de werkelijke omzet van films vergeleken met de voorspelde omzet zoals berekend door het regressiemodel. Elk punt in de scatterplot vertegenwoordigt een film, waarbij de x-as de werkelijke omzet toont en de y-as de voorspelde omzet. \n",
    "\n",
    "Een diagonale rode lijn is toegevoegd om de perfecte voorspelling weer te geven. Als de voorspelde waarden perfect overeenkomen met de werkelijke waarden, zouden alle punten precies op deze rode lijn liggen.\n",
    "\n",
    "Het doel van deze plot is om te beoordelen hoe goed het model in staat is om de omzet te voorspellen. Het zou het beste zijn als de punten dicht bij de rode diagonale lijn liggen, wat aangeeft dat de voorspellingen nauwkeurig zijn. Grote afwijkingen van deze lijn wijzen op een fout in de voorspelling.\n",
    "\n",
    "Dit plot geeft een visuele indicatie van de prestaties van het model: \n",
    "- Hoe dichter de punten bij de rode lijn liggen, hoe beter het model presteert.\n",
    "- Punten ver van de lijn geven aan dat het model moeite heeft om de omzet nauwkeurig te voorspellen.\n"
   ]
  },
  {
   "cell_type": "code",
   "execution_count": null,
   "id": "d72e0772",
   "metadata": {},
   "outputs": [],
   "source": [
    "#Plot wordt gemaakt\n",
    "plt.figure(figsize=(8,6))\n",
    "\n",
    "plt.scatter(target_val, target_pred, edgecolor='k')\n",
    "\n",
    "#Diagonale rode lijn die de perfecte voorspelling laat zien\n",
    "plt.plot([target_val.min(), target_val.max()], [target_val.min(), target_val.max()], color='red', linestyle='--')\n",
    "\n",
    "plt.title('Werkelijke waarde (omzet) vs voorspelde waarde (omzet)')\n",
    "plt.xlabel('Werkelijke waarde (omzet)')\n",
    "plt.ylabel('Voorspelde waarde (omzet)')\n",
    "plt.grid(True)\n",
    "plt.show()\n"
   ]
  },
  {
   "cell_type": "markdown",
   "id": "2de17b55",
   "metadata": {},
   "source": [
    "De rode lijn in het plot is de perfect voorspelde waarde. In het plot kan je zien dat bij een lagere bruto inkomst het model beter werkt en naarmate de gross hoger wordt het steeds minder goed werkt."
   ]
  },
  {
   "cell_type": "markdown",
   "id": "f38e9d6c",
   "metadata": {},
   "source": [
    "# Conclusie"
   ]
  },
  {
   "cell_type": "markdown",
   "id": "c3959982",
   "metadata": {},
   "source": [
    "Het voorspellen van de omzet van films is een moeilijke taak die niet goed kan worden gemodelleerd met eenvoudige lineaire regressie, vooral vanwege de beperkte voorspellende kracht van de gebruikte features zoals budget, IMDB-score, en social media likes. Dit is vooral te zien aan de resultaten die wij uit ons onderzoek hebben gehaald. Bijvoorbeeld een R2 score van 29% en een RMSE van bijna 58 miljoen. Hieruit kunnen wij concluderen dat je de bruto-omzet niet goed kan voorspellen op basis van populariteit op Facebook en IMDB. Er zijn waarschijnlijk veel meer factoren van invloed op het succes van een film, zoals marketing, distributie, genre, en publiek, die niet zijn meegenomen in deze analyse. Een meer geavanceerd model en uitgebreide dataset met aanvullende factoren zouden mogelijk een beter inzicht kunnen bieden in welke elementen bijdragen aan het succes van een film."
   ]
  }
 ],
 "metadata": {
  "kernelspec": {
   "display_name": "Python 3",
   "language": "python",
   "name": "python3"
  },
  "language_info": {
   "codemirror_mode": {
    "name": "ipython",
    "version": 3
   },
   "file_extension": ".py",
   "mimetype": "text/x-python",
   "name": "python",
   "nbconvert_exporter": "python",
   "pygments_lexer": "ipython3",
   "version": "3.11.5"
  }
 },
 "nbformat": 4,
 "nbformat_minor": 5
}
