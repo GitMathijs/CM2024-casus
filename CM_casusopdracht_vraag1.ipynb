{
 "cells": [
  {
   "metadata": {},
   "cell_type": "markdown",
   "source": [
    "# Casusopdracht - Onderzoeksvraag 1\n",
    "\n",
    "*Klas*: V2B\n",
    "*Studenten*: \n",
    "- Roan Gaasbeek\n",
    "- Luc Pikaar\n",
    "- Mathijs de Jong\n"
   ],
   "id": "7a0bfec9d5894ba0"
  },
  {
   "metadata": {},
   "cell_type": "markdown",
   "source": "Dit bestand bouwt voort op de algemene stappen die zijn uitgevoerd in het bestand `CM_casusopdracht.ipynb`. In dat bestand zijn de fasen **Business Understanding**, **Data Understanding** en **Algemene Data Preparation** behandeld. In dit bestand gaan we verder met **Data Preparation** specifiek voor deze onderzoeksvraag en starten we de **Modelling**-fase.",
   "id": "b98a62fe9d347b"
  },
  {
   "metadata": {},
   "cell_type": "markdown",
   "source": [
    "## 1. Business Understanding\n",
    "\n",
    "### Onderzoeksvraag\n",
    "In hoeverre is de bruto-omzet van een film te voorspellen op basis van de populariteit op **Facebook** en **IMDB**?"
   ],
   "id": "792092a219e4c893"
  },
  {
   "cell_type": "code",
   "id": "initial_id",
   "metadata": {
    "collapsed": true
   },
   "source": [
    ""
   ],
   "outputs": [],
   "execution_count": null
  }
 ],
 "metadata": {
  "kernelspec": {
   "display_name": "Python 3",
   "language": "python",
   "name": "python3"
  },
  "language_info": {
   "codemirror_mode": {
    "name": "ipython",
    "version": 2
   },
   "file_extension": ".py",
   "mimetype": "text/x-python",
   "name": "python",
   "nbconvert_exporter": "python",
   "pygments_lexer": "ipython2",
   "version": "2.7.6"
  }
 },
 "nbformat": 4,
 "nbformat_minor": 5
}
