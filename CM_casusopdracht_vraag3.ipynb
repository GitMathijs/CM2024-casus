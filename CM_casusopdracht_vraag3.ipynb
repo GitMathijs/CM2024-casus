{
 "cells": [
  {
   "cell_type": "markdown",
   "id": "40360927122c104d",
   "metadata": {},
   "source": [
    "# Casusopdracht - Onderzoeksvraag 3\n",
    "\n",
    "*Klas*: V2B\n",
    "*Studenten*: \n",
    "- Roan Gaasbeek\n",
    "- Luc Pikaar\n",
    "- Mathijs de Jong\n"
   ]
  },
  {
   "cell_type": "markdown",
   "id": "498e6109ec9a885e",
   "metadata": {},
   "source": "Dit bestand bouwt voort op de algemene stappen die zijn uitgevoerd in het bestand `CM_casusopdracht.ipynb`. In dat bestand zijn de fasen **Business Understanding**, **Data Understanding** en **Algemene Data Preparation** behandeld. In dit bestand gaan we verder met **Data Preparation** specifiek voor deze onderzoeksvraag en starten we de **Modelling**-fase."
  },
  {
   "cell_type": "markdown",
   "id": "97e5eeeb0a9fbd04",
   "metadata": {},
   "source": [
    "### Onderzoeksvraag\n",
    "In hoeverre is het mogelijk om logische clusters te vinden o.b.v. `budget`, `omzet` en `IMDB-score`?"
   ]
  },
  {
   "cell_type": "code",
   "id": "2a726ef709b62430",
   "metadata": {},
   "source": [
    "import pandas as pd\n",
    "import numpy as np\n",
    "import seaborn as sns\n",
    "import matplotlib.pyplot as plt\n",
    "from sklearn.cluster import KMeans"
   ],
   "outputs": [],
   "execution_count": null
  },
  {
   "cell_type": "code",
   "id": "a497fdc98cc65b3c",
   "metadata": {},
   "source": [
    "dataset = pd.read_csv('films.csv')\n",
    "\n",
    "films = dataset[['titel', 'imdb_score', 'budget', 'omzet']]\n",
    "films.head()"
   ],
   "outputs": [],
   "execution_count": null
  },
  {
   "metadata": {},
   "cell_type": "markdown",
   "source": [
    "## 2. Data understanding\n",
    "\n",
    "### Features\n",
    "In dit deel van het onderzoek richten we ons op de volgende kenmerken (features) die van invloed kunnen zijn op de clustering van films:\n",
    "\n",
    "**Budget**: Het budget van de film in USD. Dit kenmerk helpt ons om te begrijpen hoeveel middelen er zijn geïnvesteerd in de productie van een film.\n",
    "\n",
    "**Omzet**: De totale omzet van de film in USD. Dit kenmerk wordt gebruikt om het succes van een film te kwantificeren.\n",
    "\n",
    "**IMDB-score**: De gemiddelde beoordeling van de film door gebruikers op IMDB. Deze feature geeft een indicatie van de populariteit en kwaliteit van een film, zoals beoordeeld door het publiek.\n"
   ],
   "id": "1c13bc2881c390a1"
  },
  {
   "metadata": {},
   "cell_type": "markdown",
   "source": [
    "### Correlatieanalyse\n",
    "Na het analyseren van de gegevens hebben we een pairplot gemaakt om de onderlinge relaties tussen de geselecteerde features te visualiseren. De berekende correlaties tussen de IMDB-score, budget, en omzet zijn als volgt:"
   ],
   "id": "88ae519bb92bb5c1"
  },
  {
   "metadata": {},
   "cell_type": "code",
   "source": [
    "pairplot = sns.pairplot(films[['imdb_score', 'budget', 'omzet']], diag_kind='hist', markers='o')\n",
    "\n",
    "plt.suptitle('Pairplot van IMDB-score, Budget en Omzet', y=1.02)\n",
    "plt.show()\n",
    "\n",
    "# Bereken en print de correlaties\n",
    "correlation_matrix = films[['imdb_score', 'budget', 'omzet']].corr()\n",
    "print(\"Correlatie tussen IMDB-score, budget en omzet:\")\n",
    "print(correlation_matrix)"
   ],
   "id": "278a06f7395430fc",
   "outputs": [],
   "execution_count": null
  },
  {
   "metadata": {},
   "cell_type": "markdown",
   "source": [
    "### Voorlopige Conclusie\n",
    "De zwakke correlaties tussen de IMDB-score en zowel budget als omzet kunnen erop wijzen dat deze variabelen niet direct met elkaar in verband staan. Deze bevindingen zullen worden verder onderzocht tijdens de modellering en evaluatie van de resultaten, waarbij we zullen kijken naar de effectiviteit van verschillende machine learning-modellen in het identificeren van clusters op basis van deze variabelen."
   ],
   "id": "fe147fcd7f1ea27d"
  },
  {
   "cell_type": "markdown",
   "id": "c86ba45289e608fc",
   "metadata": {},
   "source": "## 3. Specific Data Preparation\n"
  },
  {
   "metadata": {},
   "cell_type": "markdown",
   "source": [
    "### Feature engineering\n",
    "Omdat de budgetten en omzetten sterk variëren in schaal, is een log-transformatie toegepast om de verschillen te verkleinen en de patronen duidelijker zichtbaar te maken."
   ],
   "id": "afe0a4390a45f31e"
  },
  {
   "metadata": {},
   "cell_type": "code",
   "source": [
    "# Log-transformatie voor budget en omzet\n",
    "films.loc[:, 'log_budget'] = np.log10(films['budget'] + 1)\n",
    "films.loc[:, 'log_omzet'] = np.log10(films['omzet'] + 1)\n",
    "\n",
    "# Controleer de eerste paar rijen\n",
    "films[['titel', 'imdb_score', 'budget','log_budget', 'omzet', 'log_omzet']].head(10)"
   ],
   "id": "82b2e361c787b672",
   "outputs": [],
   "execution_count": null
  },
  {
   "cell_type": "markdown",
   "id": "8b24ad95153dd835",
   "metadata": {},
   "source": "\\"
  },
  {
   "metadata": {},
   "cell_type": "markdown",
   "source": [
    "In dit onderzoek hebben we ervoor gekozen om de IMDB-score niet te normaliseren of te schalen, en wel om de volgende redenen:\n",
    "\n",
    "- De IMDB-score is een gestandaardiseerde maatstaf die altijd ligt tussen 0 en 10. Dit beperkt bereik zorgt ervoor dat alle waarden binnen een herkenbare en constante schaling vallen, wat de interpretatie van de resultaten vergemakkelijkt.\n",
    "- Het niet schalen van de IMDB-score behoudt de oorspronkelijke betekenis en schaal. Scores van bijvoorbeeld 7.5 en 8.5 zijn eenvoudig te interpreteren en bieden directe inzichten in de populariteit en kwaliteit van de films in de dataset."
   ],
   "id": "354438bad8b4cd0b"
  },
  {
   "metadata": {},
   "cell_type": "markdown",
   "source": "## 4. Modelling",
   "id": "37d6b191d56d68fa"
  },
  {
   "metadata": {},
   "cell_type": "code",
   "source": [
    "pairplot = sns.pairplot(films[['imdb_score', 'log_budget', 'log_omzet']], diag_kind='hist', markers='o')\n",
    "\n",
    "plt.suptitle('Pairplot van IMDB-score, Budget en Omzet', y=1.02)\n",
    "plt.show()\n",
    "\n",
    "# Bereken en print de correlaties\n",
    "correlation_matrix = films[['imdb_score', 'log_budget', 'log_omzet']].corr()\n",
    "print(\"Correlatie tussen IMDB-score, budget en omzet:\")\n",
    "print(correlation_matrix)"
   ],
   "id": "ab8f3dce0d125524",
   "outputs": [],
   "execution_count": null
  },
  {
   "metadata": {},
   "cell_type": "markdown",
   "source": "",
   "id": "3c2b05c65088df7f"
  }
 ],
 "metadata": {
  "kernelspec": {
   "display_name": "Python 3 (ipykernel)",
   "language": "python",
   "name": "python3"
  },
  "language_info": {
   "codemirror_mode": {
    "name": "ipython",
    "version": 3
   },
   "file_extension": ".py",
   "mimetype": "text/x-python",
   "name": "python",
   "nbconvert_exporter": "python",
   "pygments_lexer": "ipython3",
   "version": "3.12.4"
  }
 },
 "nbformat": 4,
 "nbformat_minor": 5
}
