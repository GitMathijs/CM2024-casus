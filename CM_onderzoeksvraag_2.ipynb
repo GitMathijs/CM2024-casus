{
 "cells": [
  {
   "cell_type": "markdown",
   "metadata": {},
   "source": [
    "# Onderzoeksvraag 2\n",
    "\n",
    "### Doel\n",
    "De tweede onderzoeksvraag die we willen beantwoorden luidt als volgt:\n",
    "\n",
    "**In hoeverre kan de IMDB-score van een film worden voorspeld op basis van de sociale media-populariteit van de cast (zoals Facebook-likes) en de bechdeltest rating uit de externe dataset?**  \n",
    "-De targetvariabele is de IMDB-score van de film  \n",
    "-Featurevariabelen zijn Facebook-likes, en of de bechdeltest geslaagd is voor die film\n",
    "\n",
    "### Modelkeuze\n",
    "\n",
    "DecisiontreeClassifier kan niet, omdat de voorspellen waarde niet categorisch is maar numeriek\n",
    "\n",
    "Regressie lijkt de beste optie te zijn"
   ]
  },
  {
   "cell_type": "markdown",
   "metadata": {},
   "source": [
    "Todo\n",
    "\n",
    "-importeren gecleande data  \n",
    "-importeren en koppelen externe dataset  \n",
    "-baseline model maken  \n",
    "-hyperparameters aanpassen  \n",
    "-conclusies en beantwoorden onderzoeksvraag\n"
   ]
  },
  {
   "cell_type": "code",
   "execution_count": null,
   "metadata": {},
   "outputs": [],
   "source": []
  }
 ],
 "metadata": {
  "language_info": {
   "name": "python"
  }
 },
 "nbformat": 4,
 "nbformat_minor": 2
}
