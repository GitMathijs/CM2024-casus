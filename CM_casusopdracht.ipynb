{
 "cells": [
  {
   "cell_type": "markdown",
   "id": "cbb374b8e2e615a2",
   "metadata": {},
   "source": [
    "# Casusopdracht - Films\n",
    "\n",
    "**Klas:** V2B\n",
    "**Studenten:** \n",
    "- Roan Gaasbeek\n",
    "- Mathijs\n",
    "- Luc\n",
    "\n",
    "### Inhoud ###\n",
    "- [Onderzoeksvragen](1.-Onderzoeksvragen)"
   ]
  },
  {
   "cell_type": "code",
   "execution_count": 1,
   "id": "9a3acdf323189db",
   "metadata": {
    "ExecuteTime": {
     "end_time": "2024-09-20T19:16:54.322062Z",
     "start_time": "2024-09-20T19:16:54.316708Z"
    }
   },
   "outputs": [],
   "source": [
    "import numpy as np\n",
    "import pandas as pd"
   ]
  },
  {
   "cell_type": "markdown",
   "id": "6c46f1a396bc8f4b",
   "metadata": {},
   "source": [
    "# 1. Onderzoeksvragen\n",
    "De volgende onderzoeksvragen worden behandeld in deze opdracht:\n",
    "\n",
    "- In hoeverre is de omzet van een film te voorspellen op basis van de populariteit op $Facebook$ en $IMDB$?\n",
    "- ** zelf nog een vraag bedenken met betrekking op een zelf bijgezochte dataset **\n",
    "- In hoeverre is het mogelijk om logische clusters te vinden o.b.v. onder andere budget en omzet? Denk aan blockbusters (hoog budget en hoge omzet), flops (hoog budget en lage omzet) of cultfilms (laag budget en hoge omzet). Je mag extra features toevoegen. "
   ]
  },
  {
   "cell_type": "markdown",
   "id": "497ab43ff62dbce0",
   "metadata": {},
   "source": [
    "# 2. Data understanding\n",
    "\n",
    "De eesrte stap in deze opdracht is de **data understanding** fase van **CRISP-DM** dit houdt in:\n",
    "- Data Collection\n",
    "- Data Exploration & Analysis\n",
    "\n",
    "#### 2.1 Data Collection\n",
    "- de meegekregen movie.csv\n",
    "- de Bechdeltest"
   ]
  },
  {
   "cell_type": "code",
   "execution_count": 2,
   "id": "116c31332c59d6c6",
   "metadata": {
    "ExecuteTime": {
     "end_time": "2024-09-20T19:16:54.368374Z",
     "start_time": "2024-09-20T19:16:54.328360Z"
    }
   },
   "outputs": [],
   "source": [
    "# Dit is de casus dataset\n",
    "dataset = pd.read_csv('movie.csv')\n",
    "# dit is de gekozen externe dataset\n",
    "# komt nog"
   ]
  },
  {
   "cell_type": "markdown",
   "id": "399e5c1bd9876e49",
   "metadata": {},
   "source": [
    "#### 2.2 Data Exploration & Analysis"
   ]
  },
  {
   "cell_type": "code",
   "execution_count": null,
   "id": "b593b1c415c73ac9",
   "metadata": {
    "ExecuteTime": {
     "end_time": "2024-09-20T19:16:54.421973Z",
     "start_time": "2024-09-20T19:16:54.397148Z"
    }
   },
   "outputs": [],
   "source": [
    "# Om een eerste blik van de dataset te krijgen gebruiken we de head functie\n",
    "dataset.head()"
   ]
  },
  {
   "cell_type": "code",
   "execution_count": null,
   "id": "70ec4cd8fbcbb8aa",
   "metadata": {
    "ExecuteTime": {
     "end_time": "2024-09-20T19:16:54.513794Z",
     "start_time": "2024-09-20T19:16:54.508994Z"
    }
   },
   "outputs": [],
   "source": [
    "# dit is de lijst met de features van onze dataset\n",
    "dataset.columns"
   ]
  },
  {
   "cell_type": "markdown",
   "id": "ac921a5ea3107e55",
   "metadata": {},
   "source": [
    "### features en targets\n",
    "hieronder een lijst van de features met meetniveaus die naar onze mening interessant zijn voor dit onderzoek\n",
    "- director_name (Nominaal)\n",
    "- actor_1_name  (Nominaal)\n",
    "- actor_2_name  (Nominaal)\n",
    "- actor_3_name  (Nominaal)\n",
    "- cast_facebook_likes   (Discreet)\n",
    "- budget    (Continu)\n",
    "- imdb_score    (Continu)\n",
    "- movie_facebook_likes  (Discreet)\n",
    "\n",
    "en de targetvariabel is al bepaald en dat is de opbrengst van de film\n",
    "- gross (Continu)"
   ]
  },
  {
   "cell_type": "code",
   "execution_count": null,
   "id": "9d2b8c01457eb7e3",
   "metadata": {
    "ExecuteTime": {
     "end_time": "2024-09-20T19:16:54.634889Z",
     "start_time": "2024-09-20T19:16:54.588815Z"
    }
   },
   "outputs": [],
   "source": [
    "# we gebruiken deze functie om een samenvatting van de features te krijgen.\n",
    "dataset.describe()"
   ]
  },
  {
   "cell_type": "raw",
   "id": "e46206d7-c902-4422-822c-eef35f0aafcd",
   "metadata": {},
   "source": [
    "een paar dingen die opvallen zijn:\n",
    "- de dataset bevat 5043 films\n",
    "- er is veel data waarvan de minimum waarde 0 is. Zijn dit missende waardes of daadwerkelijk 0?\n",
    "- "
   ]
  },
  {
   "cell_type": "code",
   "execution_count": null,
   "id": "d4091372",
   "metadata": {
    "ExecuteTime": {
     "end_time": "2024-09-20T19:16:54.728774Z",
     "start_time": "2024-09-20T19:16:54.718529Z"
    }
   },
   "outputs": [],
   "source": [
    "# met de functie isnull() kunnen we kijken hoeveel van de data we missen \n",
    "totaalnull = dataset.isnull().sum()\n",
    "totaalnull"
   ]
  },
  {
   "cell_type": "markdown",
   "id": "5a360705",
   "metadata": {},
   "source": [
    "### Analyse van feature- en targetvariabelen\n",
    "\n",
    "Te onderzoeken featurevariabelen:  \n",
    "- movie_facebook_likes\n",
    "- imdb_score\n",
    "- budget\n",
    "\n",
    "Te onderzoeken targetvariabele:  \n",
    "- gross"
   ]
  },
  {
   "cell_type": "code",
   "execution_count": null,
   "id": "797268df",
   "metadata": {
    "ExecuteTime": {
     "end_time": "2024-09-20T19:16:54.861667Z",
     "start_time": "2024-09-20T19:16:54.849328Z"
    }
   },
   "outputs": [],
   "source": [
    "# Kolommen selecteren\n",
    "kolommen = ['movie_facebook_likes', 'imdb_score', 'budget', 'gross']\n",
    "data_analyse = dataset[kolommen]\n",
    "data_analyse\n"
   ]
  },
  {
   "cell_type": "code",
   "execution_count": null,
   "id": "30bfcc15",
   "metadata": {
    "ExecuteTime": {
     "end_time": "2024-09-20T19:16:54.983519Z",
     "start_time": "2024-09-20T19:16:54.963902Z"
    }
   },
   "outputs": [],
   "source": [
    "# Centrum- en spreidingsmaten\n",
    "data_analyse.describe()"
   ]
  },
  {
   "cell_type": "markdown",
   "id": "591aec25",
   "metadata": {},
   "source": [
    "### Waarnemingen centrum- en spreidingsmaten\n",
    "\n",
    "- De kolommen movie_facebook_likes en imdb_score hebben beide 5043 waarden, maar budget en gross hebben minder waarden (4551 en 4159 waarden).  \n",
    "We zullen hier een oplossing voor moeten vinden, door bijvoorbeeld de rijen met missende waarden te droppen van de dataset.\n",
    "- Q1 voor movie_facebook_likes is 0, dit betekent dat ten minste 25% van de films 0 facebook likes hebben. Dit komt waarschijnlijk omdat deze films geen facebook-pagina hebben.\n"
   ]
  },
  {
   "cell_type": "code",
   "execution_count": 9,
   "id": "600de326",
   "metadata": {
    "ExecuteTime": {
     "end_time": "2024-09-20T19:16:55.104289Z",
     "start_time": "2024-09-20T19:16:55.087666Z"
    }
   },
   "outputs": [],
   "source": [
    "# Uitschieters bepalen\n",
    "\n",
    "def bepaal_uitschieters(kolom):\n",
    "\n",
    "        # Q1, Q3 en IQR bepalen\n",
    "        q1 = data_analyse[kolom].quantile(0.25)\n",
    "        q3 = data_analyse[kolom].quantile(0.75)\n",
    "        iqr = q3 - q1\n",
    "\n",
    "        # Limieten uitschieters berekenen\n",
    "        klein_laag = q1 - 1.5 * iqr\n",
    "        klein_hoog = q3 + 1.5 * iqr\n",
    "        extreem_laag = q1 - 3 * iqr\n",
    "        extreem_hoog = q3 + 3 * iqr\n",
    "\n",
    "        print(data_analyse[kolom].name)\n",
    "\n",
    "        # Kleine uitschieters (1.5 - 3 IQR)\n",
    "        kleine_uitschieters = data_analyse[kolom][((data_analyse[kolom] < klein_laag) & (data_analyse[kolom] > extreem_laag)) | ((data_analyse[kolom] > klein_hoog) & (data_analyse[kolom] < extreem_hoog))]\n",
    "        print(f\"Kleine uitschieters: {kleine_uitschieters.count()}\")\n",
    "    \n",
    "        # Extreme uitschieters (3+ IQR)\n",
    "        extreme_uitschieters = data_analyse[kolom][(data_analyse[kolom] < extreem_laag) | (data_analyse[kolom] > extreem_hoog)]\n",
    "        print(f\"Extreme uitschieters: {extreme_uitschieters.count()}\")"
   ]
  },
  {
   "cell_type": "code",
   "execution_count": null,
   "id": "4d5bdd32",
   "metadata": {},
   "outputs": [],
   "source": [
    "bepaal_uitschieters('movie_facebook_likes')"
   ]
  },
  {
   "cell_type": "code",
   "execution_count": null,
   "id": "50483326",
   "metadata": {},
   "outputs": [],
   "source": [
    "bepaal_uitschieters('imdb_score')"
   ]
  },
  {
   "cell_type": "code",
   "execution_count": null,
   "id": "4a9e5c33",
   "metadata": {},
   "outputs": [],
   "source": [
    "bepaal_uitschieters('budget')"
   ]
  },
  {
   "cell_type": "code",
   "execution_count": null,
   "id": "b54e4d39",
   "metadata": {},
   "outputs": [],
   "source": [
    "bepaal_uitschieters('gross')"
   ]
  },
  {
   "cell_type": "markdown",
   "id": "24f7986b",
   "metadata": {},
   "source": [
    "### Waarnemingen\n",
    "- movie_facebook_likes heeft 930 extreme uitschieters, dat is behoorlijk veel. Zoals eerder benoemd, komt dit waarschijnlijk doordat er veel films zijn zonder facebook pagina, wat geregistreerd wordt als 0 likes.\n",
    "- imdb_score heeft 0 extreme uitschieters. Dit lijkt ons logisch omdat de imdb score voor een film altijd tussen de 1 en 10 ligt. Er zal dus nooit een waarde van bijvoorbeeld 100 moeten zijn, wat een extreme uitschieter zou zijn."
   ]
  },
  {
   "cell_type": "markdown",
   "id": "59f7ff3f72dc5102",
   "metadata": {},
   "source": [
    "# 3. Data preparation\n",
    "De volgende stap in deze is de data preparation fase van $CRISP-DM$ dit houdt in:\n",
    "- Data Cleaning\n",
    "- Data Processing"
   ]
  },
  {
   "cell_type": "markdown",
   "id": "91df903f8c9598c0",
   "metadata": {},
   "source": [
    "#### 3.1 Data Processing\n",
    "*uitleg over wat in dit stuk behandeld wordt*\n"
   ]
  },
  {
   "cell_type": "code",
   "execution_count": null,
   "id": "ea77c611d13e7448",
   "metadata": {
    "ExecuteTime": {
     "end_time": "2024-09-20T19:16:55.215314Z",
     "start_time": "2024-09-20T19:16:55.196378Z"
    }
   },
   "outputs": [],
   "source": [
    "dataset.drop(columns=['color', 'actor_1_facebook_likes', 'actor_2_facebook_likes', 'actor_3_facebook_likes', 'duration', 'genres', 'num_voted_users', 'facenumber_in_poster','plot_keywords', 'num_user_for_reviews','num_critic_for_reviews', 'language', 'country', 'content_rating', 'title_year','aspect_ratio'], inplace=True)\n",
    "\n",
    "# we hebben de link voor de imdb pagina niet nodig maar hierin staat wel de imdb_id die we later kunnen gebruiken om een externe dataset te koppelen.\n",
    "dataset['movie_imdb_link'] = dataset['movie_imdb_link'].str.slice(start=28, stop=-17)\n",
    "\n",
    "dataset.rename(columns={'director_name':'director', 'movie_title':'title', 'movie_imdb_link':'imdb_id'}, inplace=True)\n",
    "\n",
    "dataset.head()"
   ]
  },
  {
   "cell_type": "markdown",
   "id": "25f8a8a3cedfca86",
   "metadata": {},
   "source": [
    "*zullen we hier ook nog even de volgorde van kolommen aanpassen om het wat leesbaarder te maken*"
   ]
  },
  {
   "cell_type": "markdown",
   "id": "2820ee066e27d38c",
   "metadata": {},
   "source": [
    "#### 3.2 Data Cleaning\n",
    "\n"
   ]
  },
  {
   "cell_type": "code",
   "execution_count": null,
   "id": "5b027af4",
   "metadata": {
    "ExecuteTime": {
     "end_time": "2024-09-20T19:16:55.398737Z",
     "start_time": "2024-09-20T19:16:55.307319Z"
    }
   },
   "outputs": [],
   "source": [
    "dataset.describe(include=\"all\")\n",
    "totaal_films = dataset['color'].count()\n",
    "\n",
    "kleur_films = dataset[dataset['color'] == 'Color'].shape[0]\n",
    "\n",
    "zw_films = dataset[dataset['color'] != 'Color'].shape[0]  \n",
    "\n",
    "percentage_kleur = (kleur_films / totaal_films) * 100\n",
    "percentage_zw = (zw_films / totaal_films) * 100\n",
    "\n",
    "print(f\"Percentage gekleurde films: {percentage_kleur:.2f}%\")\n",
    "print(f\"Percentage zwart-wit films: {percentage_zw:.2f}%\")\n"
   ]
  },
  {
   "cell_type": "markdown",
   "id": "cac2bdd0",
   "metadata": {},
   "source": [
    "# Color Feature"
   ]
  },
  {
   "cell_type": "code",
   "execution_count": null,
   "id": "90b81a03",
   "metadata": {},
   "outputs": [],
   "source": [
    "#Zoals hierboven zijn bijna 96% van de films in kleur, daarom ervoor gekozen om deze kolom te droppen.\n",
    "dataset.drop(['color'], axis = 1)\n"
   ]
  },
  {
   "cell_type": "markdown",
   "id": "103dc387",
   "metadata": {},
   "source": [
    "#  Aspect Ratio Feature"
   ]
  },
  {
   "cell_type": "code",
   "execution_count": null,
   "id": "b175c9a1",
   "metadata": {},
   "outputs": [],
   "source": [
    "#Aspect ratio is niet relevant\n",
    "dataset.drop(['aspect_ratio'], axis = 1)\n"
   ]
  },
  {
   "cell_type": "markdown",
   "id": "159e4338",
   "metadata": {},
   "source": [
    "#  Movie Imdb Link Feature"
   ]
  },
  {
   "cell_type": "code",
   "execution_count": null,
   "id": "7b93dfda",
   "metadata": {},
   "outputs": [],
   "source": [
    "#Movie Imdb Link is ook niet relevant\n",
    "dataset.drop(['movie_imdb_link'], axis = 1)\n"
   ]
  },
  {
   "cell_type": "markdown",
   "id": "913ee3ce",
   "metadata": {},
   "source": [
    "#  Gross Target"
   ]
  },
  {
   "cell_type": "code",
   "execution_count": null,
   "id": "0a660cc9",
   "metadata": {},
   "outputs": [],
   "source": [
    "#Hier wordt het gemiddelde van de gross waardes die er zijn berekend\n",
    "gemiddelde_gross = dataset['gross'].mean()\n",
    "print(f\"Gemiddelde gross: ${gemiddelde_gross:.2f}\")\n"
   ]
  },
  {
   "cell_type": "code",
   "execution_count": null,
   "id": "4bff99f2",
   "metadata": {},
   "outputs": [],
   "source": [
    "\n",
    "dataset.fillna({\"gross\" :48468407.53 })"
   ]
  },
  {
   "cell_type": "markdown",
   "id": "2ef3fb18",
   "metadata": {},
   "source": [
    "#  Budget Target"
   ]
  },
  {
   "cell_type": "code",
   "execution_count": null,
   "id": "610aa0a7",
   "metadata": {},
   "outputs": [],
   "source": [
    "gemiddelde_budget = dataset['budget'].mean()\n",
    "print(f\"Gemiddelde budget: ${gemiddelde_budget:.2f}\")\n"
   ]
  },
  {
   "cell_type": "code",
   "execution_count": null,
   "id": "84ad5787",
   "metadata": {},
   "outputs": [],
   "source": [
    "dataset.fillna({\"budget\" :48468407.53 })"
   ]
  },
  {
   "cell_type": "markdown",
   "id": "1059e93d",
   "metadata": {},
   "source": [
    "# Datatypes"
   ]
  },
  {
   "cell_type": "code",
   "execution_count": null,
   "id": "bf3b9f4b",
   "metadata": {},
   "outputs": [],
   "source": []
  },
  {
   "cell_type": "code",
   "execution_count": null,
   "id": "84cd3a78",
   "metadata": {},
   "outputs": [],
   "source": []
  },
  {
   "cell_type": "code",
   "execution_count": null,
   "id": "0c0dd667",
   "metadata": {},
   "outputs": [],
   "source": []
  }
 ],
 "metadata": {
  "kernelspec": {
   "display_name": "Python 3 (ipykernel)",
   "language": "python",
   "name": "python3"
  },
  "language_info": {
   "codemirror_mode": {
    "name": "ipython",
    "version": 3
   },
   "file_extension": ".py",
   "mimetype": "text/x-python",
   "name": "python",
   "nbconvert_exporter": "python",
   "pygments_lexer": "ipython3",
   "version": "3.12.4"
  }
 },
 "nbformat": 4,
 "nbformat_minor": 5
}
