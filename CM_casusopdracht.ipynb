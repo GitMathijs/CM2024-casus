{
 "cells": [
  {
   "cell_type": "markdown",
   "id": "cbb374b8e2e615a2",
   "metadata": {},
   "source": [
    "# Casusopdracht - Films\n",
    "\n",
    "**Klas:** V2B\n",
    "**Studenten:** \n",
    "- Roan Gaasbeek\n",
    "- Mathijs\n",
    "- Luc\n",
    "\n",
    "### Inhoud ###\n",
    "- [Onderzoeksvragen](1.-Onderzoeksvragen)"
   ]
  },
  {
   "cell_type": "code",
   "execution_count": 35,
   "id": "9a3acdf323189db",
   "metadata": {
    "ExecuteTime": {
     "end_time": "2024-09-19T19:51:51.476964Z",
     "start_time": "2024-09-19T19:51:51.472426Z"
    }
   },
   "outputs": [],
   "source": [
    "import numpy as np\n",
    "import pandas as pd"
   ]
  },
  {
   "cell_type": "markdown",
   "id": "6c46f1a396bc8f4b",
   "metadata": {},
   "source": [
    "# 1. Onderzoeksvragen\n",
    "De volgende onderzoeksvragen worden behandeld in deze opdracht:\n",
    "\n",
    "- In hoeverre is de omzet van een film te voorspellen op basis van de populariteit op $Facebook$ en $IMDB$?\n",
    "- ** zelf nog een vraag bedenken met betrekking op een zelf bijgezochte dataset **\n",
    "- In hoeverre is het mogelijk om logische clusters te vinden o.b.v. onder andere budget en omzet? Denk aan blockbusters (hoog budget en hoge omzet), flops (hoog budget en lage omzet) of cultfilms (laag budget en hoge omzet). Je mag extra features toevoegen. "
   ]
  },
  {
   "cell_type": "markdown",
   "id": "497ab43ff62dbce0",
   "metadata": {},
   "source": [
    "# 2. Data understanding\n",
    "\n",
    "De eesrte stap in deze opdracht is de data understanding fase van $CRISP-DM$ dit houdt in:\n",
    "- Data Collection\n",
    "- Data Exploration & Analysis\n",
    "\n",
    "#### 2.1 Data Collection\n",
    "- de meegekregen movie.csv\n",
    "- nog een dataset erbij zoeken"
   ]
  },
  {
   "cell_type": "code",
   "execution_count": 36,
   "id": "116c31332c59d6c6",
   "metadata": {
    "ExecuteTime": {
     "end_time": "2024-09-19T19:51:51.575376Z",
     "start_time": "2024-09-19T19:51:51.492707Z"
    }
   },
   "outputs": [],
   "source": [
    "# Dit is de casus dataset\n",
    "dataset = pd.read_csv('movie.csv')\n",
    "\n",
    "# dit is de gekozen externe dataset\n"
   ]
  },
  {
   "cell_type": "markdown",
   "id": "399e5c1bd9876e49",
   "metadata": {},
   "source": [
    "#### 2.2 Data Exploration & Analysis"
   ]
  },
  {
   "cell_type": "code",
   "execution_count": null,
   "id": "b593b1c415c73ac9",
   "metadata": {
    "ExecuteTime": {
     "end_time": "2024-09-19T19:51:51.701133Z",
     "start_time": "2024-09-19T19:51:51.645398Z"
    }
   },
   "outputs": [],
   "source": [
    "# nu gebruiken we deze functie om een eerste blik van de dataset te krijgen\n",
    "dataset.head()"
   ]
  },
  {
   "cell_type": "code",
   "execution_count": null,
   "id": "70ec4cd8fbcbb8aa",
   "metadata": {
    "ExecuteTime": {
     "end_time": "2024-09-19T19:51:51.747540Z",
     "start_time": "2024-09-19T19:51:51.737382Z"
    }
   },
   "outputs": [],
   "source": [
    "# dit zijn de features met de datatypen\n",
    "dataset.dtypes"
   ]
  },
  {
   "cell_type": "markdown",
   "id": "c8f5a49d3eae3a6c",
   "metadata": {},
   "source": [
    "met de volgende functie krijgen we een mooie samenvatting van de data"
   ]
  },
  {
   "cell_type": "code",
   "execution_count": null,
   "id": "9d2b8c01457eb7e3",
   "metadata": {
    "ExecuteTime": {
     "end_time": "2024-09-19T19:51:51.859783Z",
     "start_time": "2024-09-19T19:51:51.810977Z"
    }
   },
   "outputs": [],
   "source": [
    "dataset.describe()"
   ]
  },
  {
   "cell_type": "markdown",
   "id": "21c184d182455dd9",
   "metadata": {},
   "source": [
    "een paar dingen die opvallen zijn:\n",
    "- veel data die een minimum waarde van 0 hebben zijn dit missende waardes of daadwerkelijk 0?\n",
    "- "
   ]
  },
  {
   "cell_type": "markdown",
   "id": "5a360705",
   "metadata": {},
   "source": [
    "### Analyse van feature- en targetvariabelen\n",
    "\n",
    "Te onderzoeken featurevariabelen:  \n",
    "- movie_facebook_likes\n",
    "- imdb_score\n",
    "- budget\n",
    "\n",
    "Te onderzoeken targetvariabele:  \n",
    "- gross"
   ]
  },
  {
   "cell_type": "code",
   "execution_count": null,
   "id": "797268df",
   "metadata": {},
   "outputs": [],
   "source": [
    "# Kolommen selecteren\n",
    "kolommen = ['movie_facebook_likes', 'imdb_score', 'budget', 'gross']\n",
    "data_analyse = dataset[kolommen]\n",
    "data_analyse\n"
   ]
  },
  {
   "cell_type": "code",
   "execution_count": null,
   "id": "30bfcc15",
   "metadata": {},
   "outputs": [],
   "source": [
    "# Centrum- en spreidingsmaten\n",
    "data_analyse.describe()"
   ]
  },
  {
   "cell_type": "markdown",
   "id": "591aec25",
   "metadata": {},
   "source": [
    "### Waarnemingen centrum- en spreidingsmaten\n",
    "\n",
    "- De kolommen movie_facebook_likes en imdb_score hebben beide 5043 waarden, maar budget en gross hebben minder waarden (4551 en 4159 waarden).  \n",
    "We zullen hier een oplossing voor moeten vinden, door bijvoorbeeld de rijen met missende waarden te droppen van de dataset.\n",
    "- Q1 voor movie_facebook_likes is 0, dit betekent dat ten minste 25% van de films 0 facebook likes hebben. Dit komt waarschijnlijk omdat deze films geen facebook-pagina hebben.\n"
   ]
  },
  {
   "cell_type": "code",
   "execution_count": null,
   "id": "600de326",
   "metadata": {},
   "outputs": [],
   "source": [
    "# Uitschieters bepalen\n",
    "for kolom in data_analyse:\n",
    "\n",
    "    # Q1, Q3 en IQR bepalen\n",
    "    q1 = data_analyse[kolom].quantile(0.25)\n",
    "    q3 = data_analyse[kolom].quantile(0.75)\n",
    "    iqr = q3 - q1\n",
    "\n",
    "    # Limieten uitschieters berekenen\n",
    "    klein_laag = q1 - 1.5 * iqr\n",
    "    klein_hoog = q3 + 1.5 * iqr\n",
    "    extreem_laag = q1 - 3 * iqr\n",
    "    extreem_hoog = q3 + 3 * iqr\n",
    "\n",
    "    print(data_analyse[kolom].name)\n",
    "\n",
    "    # Kleine uitschieters (1.5 - 3 IQR)\n",
    "    kleine_uitschieters = data_analyse[kolom][((data_analyse[kolom] < klein_laag) & (data_analyse[kolom] > extreem_laag)) | ((data_analyse[kolom] > klein_hoog) & (data_analyse[kolom] < extreem_hoog))]\n",
    "    print(f\"Kleine uitschieters: {kleine_uitschieters.count()}\")\n",
    " \n",
    "    # Extreme uitschieters (3+ IQR)\n",
    "    extreme_uitschieters = data_analyse[kolom][(data_analyse[kolom] < extreem_laag) | (data_analyse[kolom] > extreem_hoog)]\n",
    "    print(f\"Extreme uitschieters: {extreme_uitschieters.count()}\")\n"
   ]
  },
  {
   "cell_type": "markdown",
   "id": "1797d407",
   "metadata": {},
   "source": [
    "### Waarnemingen\n",
    "\n",
    "- movie_facebook_likes heeft 930 extreme uitschieters, dat is behoorlijk veel. Zoals eerder benoemd, komt dit waarschijnlijk doordat er veel films zijn zonder facebook pagina, wat geregistreerd wordt als 0 likes.\n",
    "- imdb_score heeft 0 extreme uitschieters. Dit lijkt ons logisch omdat de imdb score voor een film altijd tussen de 1 en 10 ligt. Er zal dus nooit een waarde van bijvoorbeeld 100 moeten zijn, wat een extreme uitschieter zou zijn."
   ]
  },
  {
   "cell_type": "markdown",
   "id": "59f7ff3f72dc5102",
   "metadata": {},
   "source": [
    "# 3. Data preparation\n",
    "De volgende stap in deze is de data preparation fase van $CRISP-DM$ dit houdt in:\n",
    "- Data Cleaning\n",
    "- Data Processing"
   ]
  },
  {
   "cell_type": "markdown",
   "id": "91df903f8c9598c0",
   "metadata": {},
   "source": [
    "#### 3.1 Data Processing\n",
    "\n",
    "{hier kunnen we colummen die we niet nodig hebben verwijderen en de volgorde aanpassen}\n"
   ]
  },
  {
   "cell_type": "code",
   "execution_count": null,
   "id": "ea77c611d13e7448",
   "metadata": {
    "ExecuteTime": {
     "end_time": "2024-09-19T19:51:51.945587Z",
     "start_time": "2024-09-19T19:51:51.930822Z"
    }
   },
   "outputs": [],
   "source": [
    "dataset.drop(columns=['color','director_name','director_facebook_likes','actor_1_name', 'actor_1_facebook_likes','actor_2_name', 'actor_2_facebook_likes', 'actor_3_name', 'actor_3_facebook_likes','duration','genres','num_voted_users','cast_total_facebook_likes','facenumber_in_poster','plot_keywords', 'num_user_for_reviews','num_critic_for_reviews', 'language', 'country', 'content_rating', 'title_year','aspect_ratio'], inplace=True)\n",
    "\n",
    "dataset.rename(columns={'movie_title':'title'}, inplace=True)\n",
    "\n",
    "dataset.head()"
   ]
  },
  {
   "cell_type": "markdown",
   "id": "b80cd594b75fbe0",
   "metadata": {},
   "source": [
    "** mischien dat we de facebook likes willen bewaren maar wilde gewoon wat proberen **"
   ]
  },
  {
   "cell_type": "markdown",
   "id": "2820ee066e27d38c",
   "metadata": {},
   "source": [
    "#### 3.2 Data Cleaning\n",
    "\n"
   ]
  }
 ],
 "metadata": {
  "kernelspec": {
   "display_name": "Python 3",
   "language": "python",
   "name": "python3"
  },
  "language_info": {
   "codemirror_mode": {
    "name": "ipython",
    "version": 3
   },
   "file_extension": ".py",
   "mimetype": "text/x-python",
   "name": "python",
   "nbconvert_exporter": "python",
   "pygments_lexer": "ipython3",
   "version": "3.12.4"
  }
 },
 "nbformat": 4,
 "nbformat_minor": 5
}
