{
 "cells": [
  {
   "cell_type": "markdown",
   "id": "cbb374b8e2e615a2",
   "metadata": {},
   "source": [
    "# Casusopdracht - Films\n",
    "\n",
    "**Klas:** V2B\n",
    "**Studenten:** \n",
    "- Roan Gaasbeek\n",
    "- Mathijs\n",
    "- Luc\n",
    "\n",
    "### Inhoud ###\n",
    "- [Onderzoeksvragen](1.-Onderzoeksvragen)"
   ]
  },
  {
   "cell_type": "code",
   "execution_count": 117,
   "id": "9a3acdf323189db",
   "metadata": {
    "ExecuteTime": {
     "end_time": "2024-09-20T19:16:54.322062Z",
     "start_time": "2024-09-20T19:16:54.316708Z"
    }
   },
   "outputs": [],
   "source": [
    "import numpy as np\n",
    "import pandas as pd"
   ]
  },
  {
   "cell_type": "markdown",
   "id": "6c46f1a396bc8f4b",
   "metadata": {},
   "source": [
    "# 1. Onderzoeksvragen\n",
    "De volgende onderzoeksvragen worden behandeld in deze opdracht:\n",
    "\n",
    "- In hoeverre is de omzet van een film te voorspellen op basis van de populariteit op $Facebook$ en $IMDB$?\n",
    "- ** zelf nog een vraag bedenken met betrekking op een zelf bijgezochte dataset **\n",
    "- In hoeverre is het mogelijk om logische clusters te vinden o.b.v. onder andere budget en omzet? Denk aan blockbusters (hoog budget en hoge omzet), flops (hoog budget en lage omzet) of cultfilms (laag budget en hoge omzet). Je mag extra features toevoegen. "
   ]
  },
  {
   "cell_type": "markdown",
   "id": "497ab43ff62dbce0",
   "metadata": {},
   "source": [
    "# 2. Data understanding\n",
    "\n",
    "De eesrte stap in deze opdracht is de **data understanding** fase van **CRISP-DM** dit houdt in:\n",
    "- Data Collection\n",
    "- Data Exploration & Analysis\n",
    "\n",
    "#### 2.1 Data Collection\n",
    "- de meegekregen movie.csv\n",
    "- de Bechdeltest"
   ]
  },
  {
   "cell_type": "code",
   "execution_count": 118,
   "id": "116c31332c59d6c6",
   "metadata": {
    "ExecuteTime": {
     "end_time": "2024-09-20T19:16:54.368374Z",
     "start_time": "2024-09-20T19:16:54.328360Z"
    }
   },
   "outputs": [],
   "source": [
    "# Dit is de casus dataset\n",
    "dataset = pd.read_csv('movie.csv')\n",
    "# dit is de gekozen externe dataset\n",
    "# komt nog"
   ]
  },
  {
   "cell_type": "markdown",
   "id": "399e5c1bd9876e49",
   "metadata": {},
   "source": [
    "#### 2.2 Data Exploration & Analysis"
   ]
  },
  {
   "cell_type": "code",
   "execution_count": 119,
   "id": "b593b1c415c73ac9",
   "metadata": {
    "ExecuteTime": {
     "end_time": "2024-09-19T19:51:51.701133Z",
     "start_time": "2024-09-19T19:51:51.645398Z"
    }
   },
   "outputs": [
    {
     "data": {
      "text/html": [
       "<div>\n",
       "<style scoped>\n",
       "    .dataframe tbody tr th:only-of-type {\n",
       "        vertical-align: middle;\n",
       "    }\n",
       "\n",
       "    .dataframe tbody tr th {\n",
       "        vertical-align: top;\n",
       "    }\n",
       "\n",
       "    .dataframe thead th {\n",
       "        text-align: right;\n",
       "    }\n",
       "</style>\n",
       "<table border=\"1\" class=\"dataframe\">\n",
       "  <thead>\n",
       "    <tr style=\"text-align: right;\">\n",
       "      <th></th>\n",
       "      <th>color</th>\n",
       "      <th>director_name</th>\n",
       "      <th>num_critic_for_reviews</th>\n",
       "      <th>duration</th>\n",
       "      <th>director_facebook_likes</th>\n",
       "      <th>actor_3_facebook_likes</th>\n",
       "      <th>actor_2_name</th>\n",
       "      <th>actor_1_facebook_likes</th>\n",
       "      <th>gross</th>\n",
       "      <th>genres</th>\n",
       "      <th>...</th>\n",
       "      <th>num_user_for_reviews</th>\n",
       "      <th>language</th>\n",
       "      <th>country</th>\n",
       "      <th>content_rating</th>\n",
       "      <th>budget</th>\n",
       "      <th>title_year</th>\n",
       "      <th>actor_2_facebook_likes</th>\n",
       "      <th>imdb_score</th>\n",
       "      <th>aspect_ratio</th>\n",
       "      <th>movie_facebook_likes</th>\n",
       "    </tr>\n",
       "  </thead>\n",
       "  <tbody>\n",
       "    <tr>\n",
       "      <th>0</th>\n",
       "      <td>Color</td>\n",
       "      <td>James Cameron</td>\n",
       "      <td>723.0</td>\n",
       "      <td>178.0</td>\n",
       "      <td>0.0</td>\n",
       "      <td>855.0</td>\n",
       "      <td>Joel David Moore</td>\n",
       "      <td>1000.0</td>\n",
       "      <td>760505847.0</td>\n",
       "      <td>Action|Adventure|Fantasy|Sci-Fi</td>\n",
       "      <td>...</td>\n",
       "      <td>3054.0</td>\n",
       "      <td>English</td>\n",
       "      <td>USA</td>\n",
       "      <td>PG-13</td>\n",
       "      <td>237000000.0</td>\n",
       "      <td>2009.0</td>\n",
       "      <td>936.0</td>\n",
       "      <td>7.9</td>\n",
       "      <td>1.78</td>\n",
       "      <td>33000</td>\n",
       "    </tr>\n",
       "    <tr>\n",
       "      <th>1</th>\n",
       "      <td>Color</td>\n",
       "      <td>Gore Verbinski</td>\n",
       "      <td>302.0</td>\n",
       "      <td>169.0</td>\n",
       "      <td>563.0</td>\n",
       "      <td>1000.0</td>\n",
       "      <td>Orlando Bloom</td>\n",
       "      <td>40000.0</td>\n",
       "      <td>309404152.0</td>\n",
       "      <td>Action|Adventure|Fantasy</td>\n",
       "      <td>...</td>\n",
       "      <td>1238.0</td>\n",
       "      <td>English</td>\n",
       "      <td>USA</td>\n",
       "      <td>PG-13</td>\n",
       "      <td>300000000.0</td>\n",
       "      <td>2007.0</td>\n",
       "      <td>5000.0</td>\n",
       "      <td>7.1</td>\n",
       "      <td>2.35</td>\n",
       "      <td>0</td>\n",
       "    </tr>\n",
       "    <tr>\n",
       "      <th>2</th>\n",
       "      <td>Color</td>\n",
       "      <td>Sam Mendes</td>\n",
       "      <td>602.0</td>\n",
       "      <td>148.0</td>\n",
       "      <td>0.0</td>\n",
       "      <td>161.0</td>\n",
       "      <td>Rory Kinnear</td>\n",
       "      <td>11000.0</td>\n",
       "      <td>200074175.0</td>\n",
       "      <td>Action|Adventure|Thriller</td>\n",
       "      <td>...</td>\n",
       "      <td>994.0</td>\n",
       "      <td>English</td>\n",
       "      <td>UK</td>\n",
       "      <td>PG-13</td>\n",
       "      <td>245000000.0</td>\n",
       "      <td>2015.0</td>\n",
       "      <td>393.0</td>\n",
       "      <td>6.8</td>\n",
       "      <td>2.35</td>\n",
       "      <td>85000</td>\n",
       "    </tr>\n",
       "    <tr>\n",
       "      <th>3</th>\n",
       "      <td>Color</td>\n",
       "      <td>Christopher Nolan</td>\n",
       "      <td>813.0</td>\n",
       "      <td>164.0</td>\n",
       "      <td>22000.0</td>\n",
       "      <td>23000.0</td>\n",
       "      <td>Christian Bale</td>\n",
       "      <td>27000.0</td>\n",
       "      <td>448130642.0</td>\n",
       "      <td>Action|Thriller</td>\n",
       "      <td>...</td>\n",
       "      <td>2701.0</td>\n",
       "      <td>English</td>\n",
       "      <td>USA</td>\n",
       "      <td>PG-13</td>\n",
       "      <td>250000000.0</td>\n",
       "      <td>2012.0</td>\n",
       "      <td>23000.0</td>\n",
       "      <td>8.5</td>\n",
       "      <td>2.35</td>\n",
       "      <td>164000</td>\n",
       "    </tr>\n",
       "    <tr>\n",
       "      <th>4</th>\n",
       "      <td>NaN</td>\n",
       "      <td>Doug Walker</td>\n",
       "      <td>NaN</td>\n",
       "      <td>NaN</td>\n",
       "      <td>131.0</td>\n",
       "      <td>NaN</td>\n",
       "      <td>Rob Walker</td>\n",
       "      <td>131.0</td>\n",
       "      <td>NaN</td>\n",
       "      <td>Documentary</td>\n",
       "      <td>...</td>\n",
       "      <td>NaN</td>\n",
       "      <td>NaN</td>\n",
       "      <td>NaN</td>\n",
       "      <td>NaN</td>\n",
       "      <td>NaN</td>\n",
       "      <td>NaN</td>\n",
       "      <td>12.0</td>\n",
       "      <td>7.1</td>\n",
       "      <td>NaN</td>\n",
       "      <td>0</td>\n",
       "    </tr>\n",
       "  </tbody>\n",
       "</table>\n",
       "<p>5 rows × 28 columns</p>\n",
       "</div>"
      ],
      "text/plain": [
       "   color      director_name  num_critic_for_reviews  duration  \\\n",
       "0  Color      James Cameron                   723.0     178.0   \n",
       "1  Color     Gore Verbinski                   302.0     169.0   \n",
       "2  Color         Sam Mendes                   602.0     148.0   \n",
       "3  Color  Christopher Nolan                   813.0     164.0   \n",
       "4    NaN        Doug Walker                     NaN       NaN   \n",
       "\n",
       "   director_facebook_likes  actor_3_facebook_likes      actor_2_name  \\\n",
       "0                      0.0                   855.0  Joel David Moore   \n",
       "1                    563.0                  1000.0     Orlando Bloom   \n",
       "2                      0.0                   161.0      Rory Kinnear   \n",
       "3                  22000.0                 23000.0    Christian Bale   \n",
       "4                    131.0                     NaN        Rob Walker   \n",
       "\n",
       "   actor_1_facebook_likes        gross                           genres  ...  \\\n",
       "0                  1000.0  760505847.0  Action|Adventure|Fantasy|Sci-Fi  ...   \n",
       "1                 40000.0  309404152.0         Action|Adventure|Fantasy  ...   \n",
       "2                 11000.0  200074175.0        Action|Adventure|Thriller  ...   \n",
       "3                 27000.0  448130642.0                  Action|Thriller  ...   \n",
       "4                   131.0          NaN                      Documentary  ...   \n",
       "\n",
       "  num_user_for_reviews language  country  content_rating       budget  \\\n",
       "0               3054.0  English      USA           PG-13  237000000.0   \n",
       "1               1238.0  English      USA           PG-13  300000000.0   \n",
       "2                994.0  English       UK           PG-13  245000000.0   \n",
       "3               2701.0  English      USA           PG-13  250000000.0   \n",
       "4                  NaN      NaN      NaN             NaN          NaN   \n",
       "\n",
       "   title_year actor_2_facebook_likes imdb_score  aspect_ratio  \\\n",
       "0      2009.0                  936.0        7.9          1.78   \n",
       "1      2007.0                 5000.0        7.1          2.35   \n",
       "2      2015.0                  393.0        6.8          2.35   \n",
       "3      2012.0                23000.0        8.5          2.35   \n",
       "4         NaN                   12.0        7.1           NaN   \n",
       "\n",
       "  movie_facebook_likes  \n",
       "0                33000  \n",
       "1                    0  \n",
       "2                85000  \n",
       "3               164000  \n",
       "4                    0  \n",
       "\n",
       "[5 rows x 28 columns]"
      ]
     },
     "execution_count": 119,
     "metadata": {},
     "output_type": "execute_result"
    }
   ],
   "source": [
    "# Om een eerste blik van de dataset te krijgen gebruiken we de head functie\n",
    "dataset.head()"
   ]
  },
  {
   "cell_type": "code",
   "execution_count": 120,
   "id": "70ec4cd8fbcbb8aa",
   "metadata": {
    "ExecuteTime": {
     "end_time": "2024-09-20T19:16:54.513794Z",
     "start_time": "2024-09-20T19:16:54.508994Z"
    }
   },
   "outputs": [
    {
     "data": {
      "text/plain": [
       "Index(['color', 'director_name', 'num_critic_for_reviews', 'duration',\n",
       "       'director_facebook_likes', 'actor_3_facebook_likes', 'actor_2_name',\n",
       "       'actor_1_facebook_likes', 'gross', 'genres', 'actor_1_name',\n",
       "       'movie_title', 'num_voted_users', 'cast_total_facebook_likes',\n",
       "       'actor_3_name', 'facenumber_in_poster', 'plot_keywords',\n",
       "       'movie_imdb_link', 'num_user_for_reviews', 'language', 'country',\n",
       "       'content_rating', 'budget', 'title_year', 'actor_2_facebook_likes',\n",
       "       'imdb_score', 'aspect_ratio', 'movie_facebook_likes'],\n",
       "      dtype='object')"
      ]
     },
     "execution_count": 120,
     "metadata": {},
     "output_type": "execute_result"
    }
   ],
   "source": [
    "# dit is de lijst met de features van onze dataset\n",
    "dataset.columns"
   ]
  },
  {
   "cell_type": "markdown",
   "id": "ac921a5ea3107e55",
   "metadata": {},
   "source": [
    "### features en targets\n",
    "hieronder een lijst van de features met meetniveaus die naar onze mening interessant zijn voor dit onderzoek\n",
    "- director_name (Nominaal)\n",
    "- actor_1_name  (Nominaal)\n",
    "- actor_2_name  (Nominaal)\n",
    "- actor_3_name  (Nominaal)\n",
    "- cast_facebook_likes   (Discreet)\n",
    "- budget    (Continu)\n",
    "- imdb_score    (Continu)\n",
    "- movie_facebook_likes  (Discreet)\n",
    "\n",
    "en de targetvariabel is al bepaald en dat is de opbrengst van de film\n",
    "- gross (Continu)"
   ]
  },
  {
   "cell_type": "code",
   "execution_count": 121,
   "id": "9d2b8c01457eb7e3",
   "metadata": {
    "ExecuteTime": {
     "end_time": "2024-09-19T19:51:51.859783Z",
     "start_time": "2024-09-19T19:51:51.810977Z"
    }
   },
   "outputs": [
    {
     "data": {
      "text/html": [
       "<div>\n",
       "<style scoped>\n",
       "    .dataframe tbody tr th:only-of-type {\n",
       "        vertical-align: middle;\n",
       "    }\n",
       "\n",
       "    .dataframe tbody tr th {\n",
       "        vertical-align: top;\n",
       "    }\n",
       "\n",
       "    .dataframe thead th {\n",
       "        text-align: right;\n",
       "    }\n",
       "</style>\n",
       "<table border=\"1\" class=\"dataframe\">\n",
       "  <thead>\n",
       "    <tr style=\"text-align: right;\">\n",
       "      <th></th>\n",
       "      <th>num_critic_for_reviews</th>\n",
       "      <th>duration</th>\n",
       "      <th>director_facebook_likes</th>\n",
       "      <th>actor_3_facebook_likes</th>\n",
       "      <th>actor_1_facebook_likes</th>\n",
       "      <th>gross</th>\n",
       "      <th>num_voted_users</th>\n",
       "      <th>cast_total_facebook_likes</th>\n",
       "      <th>facenumber_in_poster</th>\n",
       "      <th>num_user_for_reviews</th>\n",
       "      <th>budget</th>\n",
       "      <th>title_year</th>\n",
       "      <th>actor_2_facebook_likes</th>\n",
       "      <th>imdb_score</th>\n",
       "      <th>aspect_ratio</th>\n",
       "      <th>movie_facebook_likes</th>\n",
       "    </tr>\n",
       "  </thead>\n",
       "  <tbody>\n",
       "    <tr>\n",
       "      <th>count</th>\n",
       "      <td>4993.000000</td>\n",
       "      <td>5028.000000</td>\n",
       "      <td>4939.000000</td>\n",
       "      <td>5020.000000</td>\n",
       "      <td>5036.000000</td>\n",
       "      <td>4.159000e+03</td>\n",
       "      <td>5.043000e+03</td>\n",
       "      <td>5043.000000</td>\n",
       "      <td>5030.000000</td>\n",
       "      <td>5022.000000</td>\n",
       "      <td>4.551000e+03</td>\n",
       "      <td>4935.000000</td>\n",
       "      <td>5030.000000</td>\n",
       "      <td>5043.000000</td>\n",
       "      <td>4714.000000</td>\n",
       "      <td>5043.000000</td>\n",
       "    </tr>\n",
       "    <tr>\n",
       "      <th>mean</th>\n",
       "      <td>140.194272</td>\n",
       "      <td>107.201074</td>\n",
       "      <td>686.509212</td>\n",
       "      <td>645.009761</td>\n",
       "      <td>6560.047061</td>\n",
       "      <td>4.846841e+07</td>\n",
       "      <td>8.366816e+04</td>\n",
       "      <td>9699.063851</td>\n",
       "      <td>1.371173</td>\n",
       "      <td>272.770808</td>\n",
       "      <td>3.975262e+07</td>\n",
       "      <td>2002.470517</td>\n",
       "      <td>1651.754473</td>\n",
       "      <td>6.442138</td>\n",
       "      <td>2.220403</td>\n",
       "      <td>7525.964505</td>\n",
       "    </tr>\n",
       "    <tr>\n",
       "      <th>std</th>\n",
       "      <td>121.601675</td>\n",
       "      <td>25.197441</td>\n",
       "      <td>2813.328607</td>\n",
       "      <td>1665.041728</td>\n",
       "      <td>15020.759120</td>\n",
       "      <td>6.845299e+07</td>\n",
       "      <td>1.384853e+05</td>\n",
       "      <td>18163.799124</td>\n",
       "      <td>2.013576</td>\n",
       "      <td>377.982886</td>\n",
       "      <td>2.061149e+08</td>\n",
       "      <td>12.474599</td>\n",
       "      <td>4042.438863</td>\n",
       "      <td>1.125116</td>\n",
       "      <td>1.385113</td>\n",
       "      <td>19320.445110</td>\n",
       "    </tr>\n",
       "    <tr>\n",
       "      <th>min</th>\n",
       "      <td>1.000000</td>\n",
       "      <td>7.000000</td>\n",
       "      <td>0.000000</td>\n",
       "      <td>0.000000</td>\n",
       "      <td>0.000000</td>\n",
       "      <td>1.620000e+02</td>\n",
       "      <td>5.000000e+00</td>\n",
       "      <td>0.000000</td>\n",
       "      <td>0.000000</td>\n",
       "      <td>1.000000</td>\n",
       "      <td>2.180000e+02</td>\n",
       "      <td>1916.000000</td>\n",
       "      <td>0.000000</td>\n",
       "      <td>1.600000</td>\n",
       "      <td>1.180000</td>\n",
       "      <td>0.000000</td>\n",
       "    </tr>\n",
       "    <tr>\n",
       "      <th>25%</th>\n",
       "      <td>50.000000</td>\n",
       "      <td>93.000000</td>\n",
       "      <td>7.000000</td>\n",
       "      <td>133.000000</td>\n",
       "      <td>614.000000</td>\n",
       "      <td>5.340988e+06</td>\n",
       "      <td>8.593500e+03</td>\n",
       "      <td>1411.000000</td>\n",
       "      <td>0.000000</td>\n",
       "      <td>65.000000</td>\n",
       "      <td>6.000000e+06</td>\n",
       "      <td>1999.000000</td>\n",
       "      <td>281.000000</td>\n",
       "      <td>5.800000</td>\n",
       "      <td>1.850000</td>\n",
       "      <td>0.000000</td>\n",
       "    </tr>\n",
       "    <tr>\n",
       "      <th>50%</th>\n",
       "      <td>110.000000</td>\n",
       "      <td>103.000000</td>\n",
       "      <td>49.000000</td>\n",
       "      <td>371.500000</td>\n",
       "      <td>988.000000</td>\n",
       "      <td>2.551750e+07</td>\n",
       "      <td>3.435900e+04</td>\n",
       "      <td>3090.000000</td>\n",
       "      <td>1.000000</td>\n",
       "      <td>156.000000</td>\n",
       "      <td>2.000000e+07</td>\n",
       "      <td>2005.000000</td>\n",
       "      <td>595.000000</td>\n",
       "      <td>6.600000</td>\n",
       "      <td>2.350000</td>\n",
       "      <td>166.000000</td>\n",
       "    </tr>\n",
       "    <tr>\n",
       "      <th>75%</th>\n",
       "      <td>195.000000</td>\n",
       "      <td>118.000000</td>\n",
       "      <td>194.500000</td>\n",
       "      <td>636.000000</td>\n",
       "      <td>11000.000000</td>\n",
       "      <td>6.230944e+07</td>\n",
       "      <td>9.630900e+04</td>\n",
       "      <td>13756.500000</td>\n",
       "      <td>2.000000</td>\n",
       "      <td>326.000000</td>\n",
       "      <td>4.500000e+07</td>\n",
       "      <td>2011.000000</td>\n",
       "      <td>918.000000</td>\n",
       "      <td>7.200000</td>\n",
       "      <td>2.350000</td>\n",
       "      <td>3000.000000</td>\n",
       "    </tr>\n",
       "    <tr>\n",
       "      <th>max</th>\n",
       "      <td>813.000000</td>\n",
       "      <td>511.000000</td>\n",
       "      <td>23000.000000</td>\n",
       "      <td>23000.000000</td>\n",
       "      <td>640000.000000</td>\n",
       "      <td>7.605058e+08</td>\n",
       "      <td>1.689764e+06</td>\n",
       "      <td>656730.000000</td>\n",
       "      <td>43.000000</td>\n",
       "      <td>5060.000000</td>\n",
       "      <td>1.221550e+10</td>\n",
       "      <td>2016.000000</td>\n",
       "      <td>137000.000000</td>\n",
       "      <td>9.500000</td>\n",
       "      <td>16.000000</td>\n",
       "      <td>349000.000000</td>\n",
       "    </tr>\n",
       "  </tbody>\n",
       "</table>\n",
       "</div>"
      ],
      "text/plain": [
       "       num_critic_for_reviews     duration  director_facebook_likes  \\\n",
       "count             4993.000000  5028.000000              4939.000000   \n",
       "mean               140.194272   107.201074               686.509212   \n",
       "std                121.601675    25.197441              2813.328607   \n",
       "min                  1.000000     7.000000                 0.000000   \n",
       "25%                 50.000000    93.000000                 7.000000   \n",
       "50%                110.000000   103.000000                49.000000   \n",
       "75%                195.000000   118.000000               194.500000   \n",
       "max                813.000000   511.000000             23000.000000   \n",
       "\n",
       "       actor_3_facebook_likes  actor_1_facebook_likes         gross  \\\n",
       "count             5020.000000             5036.000000  4.159000e+03   \n",
       "mean               645.009761             6560.047061  4.846841e+07   \n",
       "std               1665.041728            15020.759120  6.845299e+07   \n",
       "min                  0.000000                0.000000  1.620000e+02   \n",
       "25%                133.000000              614.000000  5.340988e+06   \n",
       "50%                371.500000              988.000000  2.551750e+07   \n",
       "75%                636.000000            11000.000000  6.230944e+07   \n",
       "max              23000.000000           640000.000000  7.605058e+08   \n",
       "\n",
       "       num_voted_users  cast_total_facebook_likes  facenumber_in_poster  \\\n",
       "count     5.043000e+03                5043.000000           5030.000000   \n",
       "mean      8.366816e+04                9699.063851              1.371173   \n",
       "std       1.384853e+05               18163.799124              2.013576   \n",
       "min       5.000000e+00                   0.000000              0.000000   \n",
       "25%       8.593500e+03                1411.000000              0.000000   \n",
       "50%       3.435900e+04                3090.000000              1.000000   \n",
       "75%       9.630900e+04               13756.500000              2.000000   \n",
       "max       1.689764e+06              656730.000000             43.000000   \n",
       "\n",
       "       num_user_for_reviews        budget   title_year  \\\n",
       "count           5022.000000  4.551000e+03  4935.000000   \n",
       "mean             272.770808  3.975262e+07  2002.470517   \n",
       "std              377.982886  2.061149e+08    12.474599   \n",
       "min                1.000000  2.180000e+02  1916.000000   \n",
       "25%               65.000000  6.000000e+06  1999.000000   \n",
       "50%              156.000000  2.000000e+07  2005.000000   \n",
       "75%              326.000000  4.500000e+07  2011.000000   \n",
       "max             5060.000000  1.221550e+10  2016.000000   \n",
       "\n",
       "       actor_2_facebook_likes   imdb_score  aspect_ratio  movie_facebook_likes  \n",
       "count             5030.000000  5043.000000   4714.000000           5043.000000  \n",
       "mean              1651.754473     6.442138      2.220403           7525.964505  \n",
       "std               4042.438863     1.125116      1.385113          19320.445110  \n",
       "min                  0.000000     1.600000      1.180000              0.000000  \n",
       "25%                281.000000     5.800000      1.850000              0.000000  \n",
       "50%                595.000000     6.600000      2.350000            166.000000  \n",
       "75%                918.000000     7.200000      2.350000           3000.000000  \n",
       "max             137000.000000     9.500000     16.000000         349000.000000  "
      ]
     },
     "execution_count": 121,
     "metadata": {},
     "output_type": "execute_result"
    }
   ],
   "source": [
    "# we gebruiken deze functie om een samenvatting van de features te krijgen.\n",
    "dataset.describe()"
   ]
  },
  {
   "cell_type": "code",
   "execution_count": 122,
   "id": "d4091372",
   "metadata": {
    "ExecuteTime": {
     "end_time": "2024-09-20T19:16:54.728774Z",
     "start_time": "2024-09-20T19:16:54.718529Z"
    }
   },
   "outputs": [
    {
     "data": {
      "text/plain": [
       "color                         19\n",
       "director_name                104\n",
       "num_critic_for_reviews        50\n",
       "duration                      15\n",
       "director_facebook_likes      104\n",
       "actor_3_facebook_likes        23\n",
       "actor_2_name                  13\n",
       "actor_1_facebook_likes         7\n",
       "gross                        884\n",
       "genres                         0\n",
       "actor_1_name                   7\n",
       "movie_title                    0\n",
       "num_voted_users                0\n",
       "cast_total_facebook_likes      0\n",
       "actor_3_name                  23\n",
       "facenumber_in_poster          13\n",
       "plot_keywords                153\n",
       "movie_imdb_link                0\n",
       "num_user_for_reviews          21\n",
       "language                      14\n",
       "country                        5\n",
       "content_rating               303\n",
       "budget                       492\n",
       "title_year                   108\n",
       "actor_2_facebook_likes        13\n",
       "imdb_score                     0\n",
       "aspect_ratio                 329\n",
       "movie_facebook_likes           0\n",
       "dtype: int64"
      ]
     },
     "execution_count": 122,
     "metadata": {},
     "output_type": "execute_result"
    }
   ],
   "source": [
    "# met de functie isnull() kunnen we kijken hoeveel van de data we missen \n",
    "totaalnull = dataset.isnull().sum()\n",
    "totaalnull"
   ]
  },
  {
   "cell_type": "markdown",
   "id": "5a360705",
   "metadata": {},
   "source": [
    "### Analyse van feature- en targetvariabelen\n",
    "\n",
    "Te onderzoeken featurevariabelen:  \n",
    "- movie_facebook_likes\n",
    "- imdb_score\n",
    "- budget\n",
    "\n",
    "Te onderzoeken targetvariabele:  \n",
    "- gross"
   ]
  },
  {
   "cell_type": "code",
   "execution_count": 123,
   "id": "797268df",
   "metadata": {},
   "outputs": [
    {
     "data": {
      "text/html": [
       "<div>\n",
       "<style scoped>\n",
       "    .dataframe tbody tr th:only-of-type {\n",
       "        vertical-align: middle;\n",
       "    }\n",
       "\n",
       "    .dataframe tbody tr th {\n",
       "        vertical-align: top;\n",
       "    }\n",
       "\n",
       "    .dataframe thead th {\n",
       "        text-align: right;\n",
       "    }\n",
       "</style>\n",
       "<table border=\"1\" class=\"dataframe\">\n",
       "  <thead>\n",
       "    <tr style=\"text-align: right;\">\n",
       "      <th></th>\n",
       "      <th>movie_facebook_likes</th>\n",
       "      <th>imdb_score</th>\n",
       "      <th>budget</th>\n",
       "      <th>gross</th>\n",
       "    </tr>\n",
       "  </thead>\n",
       "  <tbody>\n",
       "    <tr>\n",
       "      <th>0</th>\n",
       "      <td>33000</td>\n",
       "      <td>7.9</td>\n",
       "      <td>237000000.0</td>\n",
       "      <td>760505847.0</td>\n",
       "    </tr>\n",
       "    <tr>\n",
       "      <th>1</th>\n",
       "      <td>0</td>\n",
       "      <td>7.1</td>\n",
       "      <td>300000000.0</td>\n",
       "      <td>309404152.0</td>\n",
       "    </tr>\n",
       "    <tr>\n",
       "      <th>2</th>\n",
       "      <td>85000</td>\n",
       "      <td>6.8</td>\n",
       "      <td>245000000.0</td>\n",
       "      <td>200074175.0</td>\n",
       "    </tr>\n",
       "    <tr>\n",
       "      <th>3</th>\n",
       "      <td>164000</td>\n",
       "      <td>8.5</td>\n",
       "      <td>250000000.0</td>\n",
       "      <td>448130642.0</td>\n",
       "    </tr>\n",
       "    <tr>\n",
       "      <th>4</th>\n",
       "      <td>0</td>\n",
       "      <td>7.1</td>\n",
       "      <td>NaN</td>\n",
       "      <td>NaN</td>\n",
       "    </tr>\n",
       "    <tr>\n",
       "      <th>...</th>\n",
       "      <td>...</td>\n",
       "      <td>...</td>\n",
       "      <td>...</td>\n",
       "      <td>...</td>\n",
       "    </tr>\n",
       "    <tr>\n",
       "      <th>5038</th>\n",
       "      <td>84</td>\n",
       "      <td>7.7</td>\n",
       "      <td>NaN</td>\n",
       "      <td>NaN</td>\n",
       "    </tr>\n",
       "    <tr>\n",
       "      <th>5039</th>\n",
       "      <td>32000</td>\n",
       "      <td>7.5</td>\n",
       "      <td>NaN</td>\n",
       "      <td>NaN</td>\n",
       "    </tr>\n",
       "    <tr>\n",
       "      <th>5040</th>\n",
       "      <td>16</td>\n",
       "      <td>6.3</td>\n",
       "      <td>1400.0</td>\n",
       "      <td>NaN</td>\n",
       "    </tr>\n",
       "    <tr>\n",
       "      <th>5041</th>\n",
       "      <td>660</td>\n",
       "      <td>6.3</td>\n",
       "      <td>NaN</td>\n",
       "      <td>10443.0</td>\n",
       "    </tr>\n",
       "    <tr>\n",
       "      <th>5042</th>\n",
       "      <td>456</td>\n",
       "      <td>6.6</td>\n",
       "      <td>1100.0</td>\n",
       "      <td>85222.0</td>\n",
       "    </tr>\n",
       "  </tbody>\n",
       "</table>\n",
       "<p>5043 rows × 4 columns</p>\n",
       "</div>"
      ],
      "text/plain": [
       "      movie_facebook_likes  imdb_score       budget        gross\n",
       "0                    33000         7.9  237000000.0  760505847.0\n",
       "1                        0         7.1  300000000.0  309404152.0\n",
       "2                    85000         6.8  245000000.0  200074175.0\n",
       "3                   164000         8.5  250000000.0  448130642.0\n",
       "4                        0         7.1          NaN          NaN\n",
       "...                    ...         ...          ...          ...\n",
       "5038                    84         7.7          NaN          NaN\n",
       "5039                 32000         7.5          NaN          NaN\n",
       "5040                    16         6.3       1400.0          NaN\n",
       "5041                   660         6.3          NaN      10443.0\n",
       "5042                   456         6.6       1100.0      85222.0\n",
       "\n",
       "[5043 rows x 4 columns]"
      ]
     },
     "execution_count": 123,
     "metadata": {},
     "output_type": "execute_result"
    }
   ],
   "source": [
    "# Kolommen selecteren\n",
    "kolommen = ['movie_facebook_likes', 'imdb_score', 'budget', 'gross']\n",
    "data_analyse = dataset[kolommen]\n",
    "data_analyse\n"
   ]
  },
  {
   "cell_type": "code",
   "execution_count": 124,
   "id": "30bfcc15",
   "metadata": {},
   "outputs": [
    {
     "data": {
      "text/html": [
       "<div>\n",
       "<style scoped>\n",
       "    .dataframe tbody tr th:only-of-type {\n",
       "        vertical-align: middle;\n",
       "    }\n",
       "\n",
       "    .dataframe tbody tr th {\n",
       "        vertical-align: top;\n",
       "    }\n",
       "\n",
       "    .dataframe thead th {\n",
       "        text-align: right;\n",
       "    }\n",
       "</style>\n",
       "<table border=\"1\" class=\"dataframe\">\n",
       "  <thead>\n",
       "    <tr style=\"text-align: right;\">\n",
       "      <th></th>\n",
       "      <th>movie_facebook_likes</th>\n",
       "      <th>imdb_score</th>\n",
       "      <th>budget</th>\n",
       "      <th>gross</th>\n",
       "    </tr>\n",
       "  </thead>\n",
       "  <tbody>\n",
       "    <tr>\n",
       "      <th>count</th>\n",
       "      <td>5043.000000</td>\n",
       "      <td>5043.000000</td>\n",
       "      <td>4.551000e+03</td>\n",
       "      <td>4.159000e+03</td>\n",
       "    </tr>\n",
       "    <tr>\n",
       "      <th>mean</th>\n",
       "      <td>7525.964505</td>\n",
       "      <td>6.442138</td>\n",
       "      <td>3.975262e+07</td>\n",
       "      <td>4.846841e+07</td>\n",
       "    </tr>\n",
       "    <tr>\n",
       "      <th>std</th>\n",
       "      <td>19320.445110</td>\n",
       "      <td>1.125116</td>\n",
       "      <td>2.061149e+08</td>\n",
       "      <td>6.845299e+07</td>\n",
       "    </tr>\n",
       "    <tr>\n",
       "      <th>min</th>\n",
       "      <td>0.000000</td>\n",
       "      <td>1.600000</td>\n",
       "      <td>2.180000e+02</td>\n",
       "      <td>1.620000e+02</td>\n",
       "    </tr>\n",
       "    <tr>\n",
       "      <th>25%</th>\n",
       "      <td>0.000000</td>\n",
       "      <td>5.800000</td>\n",
       "      <td>6.000000e+06</td>\n",
       "      <td>5.340988e+06</td>\n",
       "    </tr>\n",
       "    <tr>\n",
       "      <th>50%</th>\n",
       "      <td>166.000000</td>\n",
       "      <td>6.600000</td>\n",
       "      <td>2.000000e+07</td>\n",
       "      <td>2.551750e+07</td>\n",
       "    </tr>\n",
       "    <tr>\n",
       "      <th>75%</th>\n",
       "      <td>3000.000000</td>\n",
       "      <td>7.200000</td>\n",
       "      <td>4.500000e+07</td>\n",
       "      <td>6.230944e+07</td>\n",
       "    </tr>\n",
       "    <tr>\n",
       "      <th>max</th>\n",
       "      <td>349000.000000</td>\n",
       "      <td>9.500000</td>\n",
       "      <td>1.221550e+10</td>\n",
       "      <td>7.605058e+08</td>\n",
       "    </tr>\n",
       "  </tbody>\n",
       "</table>\n",
       "</div>"
      ],
      "text/plain": [
       "       movie_facebook_likes   imdb_score        budget         gross\n",
       "count           5043.000000  5043.000000  4.551000e+03  4.159000e+03\n",
       "mean            7525.964505     6.442138  3.975262e+07  4.846841e+07\n",
       "std            19320.445110     1.125116  2.061149e+08  6.845299e+07\n",
       "min                0.000000     1.600000  2.180000e+02  1.620000e+02\n",
       "25%                0.000000     5.800000  6.000000e+06  5.340988e+06\n",
       "50%              166.000000     6.600000  2.000000e+07  2.551750e+07\n",
       "75%             3000.000000     7.200000  4.500000e+07  6.230944e+07\n",
       "max           349000.000000     9.500000  1.221550e+10  7.605058e+08"
      ]
     },
     "execution_count": 124,
     "metadata": {},
     "output_type": "execute_result"
    }
   ],
   "source": [
    "# Centrum- en spreidingsmaten\n",
    "data_analyse.describe()"
   ]
  },
  {
   "cell_type": "markdown",
   "id": "591aec25",
   "metadata": {},
   "source": [
    "### Waarnemingen centrum- en spreidingsmaten\n",
    "\n",
    "- De kolommen movie_facebook_likes en imdb_score hebben beide 5043 waarden, maar budget en gross hebben minder waarden (4551 en 4159 waarden).  \n",
    "We zullen hier een oplossing voor moeten vinden, door bijvoorbeeld de rijen met missende waarden te droppen van de dataset.\n",
    "- Q1 voor movie_facebook_likes is 0, dit betekent dat ten minste 25% van de films 0 facebook likes hebben. Dit komt waarschijnlijk omdat deze films geen facebook-pagina hebben.\n"
   ]
  },
  {
   "cell_type": "code",
   "execution_count": 125,
   "id": "600de326",
   "metadata": {},
   "outputs": [
    {
     "name": "stdout",
     "output_type": "stream",
     "text": [
      "movie_facebook_likes\n",
      "Kleine uitschieters: 181\n",
      "Extreme uitschieters: 930\n",
      "imdb_score\n",
      "Kleine uitschieters: 120\n",
      "Extreme uitschieters: 0\n",
      "budget\n",
      "Kleine uitschieters: 200\n",
      "Extreme uitschieters: 118\n",
      "gross\n",
      "Kleine uitschieters: 187\n",
      "Extreme uitschieters: 119\n"
     ]
    }
   ],
   "source": [
    "# Uitschieters bepalen\n",
    "for kolom in data_analyse:\n",
    "\n",
    "    # Q1, Q3 en IQR bepalen\n",
    "    q1 = data_analyse[kolom].quantile(0.25)\n",
    "    q3 = data_analyse[kolom].quantile(0.75)\n",
    "    iqr = q3 - q1\n",
    "\n",
    "    # Limieten uitschieters berekenen\n",
    "    klein_laag = q1 - 1.5 * iqr\n",
    "    klein_hoog = q3 + 1.5 * iqr\n",
    "    extreem_laag = q1 - 3 * iqr\n",
    "    extreem_hoog = q3 + 3 * iqr\n",
    "\n",
    "    print(data_analyse[kolom].name)\n",
    "\n",
    "    # Kleine uitschieters (1.5 - 3 IQR)\n",
    "    kleine_uitschieters = data_analyse[kolom][((data_analyse[kolom] < klein_laag) & (data_analyse[kolom] > extreem_laag)) | ((data_analyse[kolom] > klein_hoog) & (data_analyse[kolom] < extreem_hoog))]\n",
    "    print(f\"Kleine uitschieters: {kleine_uitschieters.count()}\")\n",
    " \n",
    "    # Extreme uitschieters (3+ IQR)\n",
    "    extreme_uitschieters = data_analyse[kolom][(data_analyse[kolom] < extreem_laag) | (data_analyse[kolom] > extreem_hoog)]\n",
    "    print(f\"Extreme uitschieters: {extreme_uitschieters.count()}\")"
   ]
  },
  {
   "cell_type": "markdown",
   "metadata": {},
   "source": [
    "# Waarnemingen\n",
    "\n",
    "- movie_facebook_likes heeft 930 extreme uitschieters, dat is behoorlijk veel. Zoals eerder benoemd, komt dit waarschijnlijk doordat er veel films zijn zonder facebook pagina, wat geregistreerd wordt als 0 likes.\n",
    "\n",
    "- imdb_score heeft 0 extreme uitschieters. Dit lijkt ons logisch omdat de imdb score voor een film altijd tussen de 1 en 10 ligt. Er zal dus nooit een waarde van bijvoorbeeld 100 moeten zijn, wat een extreme uitschieter zou zijn."
   ]
  },
  {
   "cell_type": "markdown",
   "id": "59f7ff3f72dc5102",
   "metadata": {},
   "source": [
    "# 3. Data preparation\n",
    "De volgende stap in deze is de data preparation fase van $CRISP-DM$ dit houdt in:\n",
    "- Data Cleaning\n",
    "- Data Processing"
   ]
  },
  {
   "cell_type": "markdown",
   "id": "91df903f8c9598c0",
   "metadata": {},
   "source": [
    "#### 3.1 Data Processing\n",
    "*uitleg over wat in dit stuk behandeld wordt*\n"
   ]
  },
  {
   "cell_type": "markdown",
   "id": "2820ee066e27d38c",
   "metadata": {},
   "source": [
    "*zullen we hier ook nog even de volgorde van kolommen aanpassen om het wat leesbaarder te maken*"
   ]
  },
  {
   "cell_type": "markdown",
   "id": "2820ee066e27d38c",
   "metadata": {},
   "source": [
    "#### 3.2 Data Cleaning\n",
    "\n"
   ]
  },
  {
   "cell_type": "code",
   "execution_count": 126,
   "id": "5d41dbcd",
   "metadata": {},
   "outputs": [],
   "source": [
    "#We hebben de link voor de imdb pagina niet nodig maar hierin staat wel de imdb_id die we later kunnen gebruiken om een externe dataset te koppelen.\n",
    "\n",
    "dataset['movie_imdb_link'] = dataset['movie_imdb_link'].str.slice(start=28, stop=-17)"
   ]
  },
  {
   "cell_type": "code",
   "execution_count": 127,
   "id": "c37891ab",
   "metadata": {},
   "outputs": [],
   "source": [
    "#Veranderen van een paar column namen\n",
    "dataset.rename(columns={'director_name':'director', 'movie_title':'title', 'movie_imdb_link':'imdb_id'}, inplace=True)"
   ]
  },
  {
   "cell_type": "markdown",
   "id": "010284b0",
   "metadata": {},
   "source": [
    "# Color Feature"
   ]
  },
  {
   "cell_type": "code",
   "execution_count": 128,
   "id": "5b027af4",
   "metadata": {},
   "outputs": [
    {
     "name": "stdout",
     "output_type": "stream",
     "text": [
      "Percentage gekleurde films: 95.84%\n",
      "Percentage zwart-wit films: 4.54%\n"
     ]
    }
   ],
   "source": [
    "dataset.describe(include=\"all\")\n",
    "totaal_films = dataset['color'].count()\n",
    "\n",
    "kleur_films = dataset[dataset['color'] == 'Color'].shape[0]\n",
    "\n",
    "zw_films = dataset[dataset['color'] != 'Color'].shape[0]  \n",
    "\n",
    "percentage_kleur = (kleur_films / totaal_films) * 100\n",
    "percentage_zw = (zw_films / totaal_films) * 100\n",
    "\n",
    "print(f\"Percentage gekleurde films: {percentage_kleur:.2f}%\")\n",
    "print(f\"Percentage zwart-wit films: {percentage_zw:.2f}%\")\n"
   ]
  },
  {
   "cell_type": "code",
   "execution_count": 129,
   "id": "c27ae720",
   "metadata": {},
   "outputs": [],
   "source": [
    "#Zoals hierboven zijn bijna 96% van de films in kleur, daarom ervoor gekozen om deze kolom te droppen.\n",
    "dataset.drop(['color'], axis = 1, inplace=True)\n"
   ]
  },
  {
   "cell_type": "markdown",
   "id": "e989f015",
   "metadata": {},
   "source": [
    "# Duration Feature"
   ]
  },
  {
   "cell_type": "code",
   "execution_count": 130,
   "id": "4a1c1510",
   "metadata": {},
   "outputs": [],
   "source": [
    "#De duration kan invloed hebben op kijkersbeoordelingen, maar minder op omzet of andere clusters.\n",
    "dataset.drop(['duration'], axis = 1, inplace=True)"
   ]
  },
  {
   "cell_type": "markdown",
   "id": "01b427c5",
   "metadata": {},
   "source": [
    "# Actors Like Feature"
   ]
  },
  {
   "cell_type": "code",
   "execution_count": 131,
   "id": "18dfc11a",
   "metadata": {},
   "outputs": [],
   "source": [
    "#We hebben besloten om de cast_total_facebook_likes te gebruiken, omdat het een beter algemeen beeld geeft.\n",
    "dataset.drop(['actor_1_facebook_likes', 'actor_2_facebook_likes', 'actor_3_facebook_likes'], axis = 1, inplace=True)"
   ]
  },
  {
   "cell_type": "markdown",
   "id": "997db7d6",
   "metadata": {},
   "source": [
    "# Aspect Ratio Feature"
   ]
  },
  {
   "cell_type": "code",
   "execution_count": 132,
   "id": "05c10e0a",
   "metadata": {},
   "outputs": [],
   "source": [
    "#Aspect ratio is niet relevant\n",
    "dataset.drop(['aspect_ratio'], axis = 1, inplace=True)"
   ]
  },
  {
   "cell_type": "markdown",
   "id": "d74be683",
   "metadata": {},
   "source": [
    "# Movie Imdb Link Feature"
   ]
  },
  {
   "cell_type": "code",
   "execution_count": 133,
   "id": "b1b6271e",
   "metadata": {},
   "outputs": [],
   "source": [
    "#Movie Imdb Link is ook niet relevant\n",
    "#dataset.drop(['movie_imdb_link'], axis = 1, inplace=True)"
   ]
  },
  {
   "cell_type": "markdown",
   "id": "a266db25",
   "metadata": {},
   "source": [
    "# Genre Feature"
   ]
  },
  {
   "cell_type": "code",
   "execution_count": 134,
   "id": "347965ce",
   "metadata": {},
   "outputs": [],
   "source": [
    "#We zijn niet van plan om genre op dit moment te gebruiken.\n",
    "dataset.drop(['genres'], axis = 1, inplace=True)\n"
   ]
  },
  {
   "cell_type": "markdown",
   "id": "7dd53127",
   "metadata": {},
   "source": [
    "# Users, Poster en Keywords Feature"
   ]
  },
  {
   "cell_type": "code",
   "execution_count": 135,
   "id": "a915cdc0",
   "metadata": {},
   "outputs": [],
   "source": [
    "dataset.drop(['num_voted_users', 'facenumber_in_poster','plot_keywords'], axis = 1, inplace=True)\n",
    "\n"
   ]
  },
  {
   "cell_type": "markdown",
   "id": "d73c3305",
   "metadata": {},
   "source": [
    "# Reviews Feature"
   ]
  },
  {
   "cell_type": "code",
   "execution_count": 136,
   "id": "06f90d2d",
   "metadata": {},
   "outputs": [],
   "source": [
    "#Kan interessant zijn voor een populariteitsanalyse, maar minder voor omzet of clustering\n",
    "dataset.drop(['num_user_for_reviews','num_critic_for_reviews'], axis = 1, inplace=True)\n",
    "\n"
   ]
  },
  {
   "cell_type": "markdown",
   "id": "dbdca4ce",
   "metadata": {},
   "source": [
    "# Content Rating Feature"
   ]
  },
  {
   "cell_type": "code",
   "execution_count": 137,
   "id": "6ba7d7fc",
   "metadata": {},
   "outputs": [],
   "source": [
    "#Niet relevant voor ons.\n",
    "dataset.drop(['content_rating' ], axis = 1, inplace=True)\n"
   ]
  },
  {
   "cell_type": "markdown",
   "id": "f3902a5a",
   "metadata": {},
   "source": [
    "# Title Year Feature"
   ]
  },
  {
   "cell_type": "code",
   "execution_count": 138,
   "id": "7b4966d8",
   "metadata": {},
   "outputs": [],
   "source": [
    "dataset.drop(['title_year'], axis = 1, inplace=True)\n"
   ]
  },
  {
   "cell_type": "markdown",
   "id": "f65f8b73",
   "metadata": {},
   "source": [
    "# Language en Country Feature"
   ]
  },
  {
   "cell_type": "code",
   "execution_count": 139,
   "id": "d7cca6cb",
   "metadata": {},
   "outputs": [],
   "source": [
    "dataset.drop(['language', 'country' ], axis = 1, inplace=True)\n"
   ]
  },
  {
   "cell_type": "markdown",
   "id": "913ee3ce",
   "metadata": {},
   "source": [
    "#  Gross Target"
   ]
  },
  {
   "cell_type": "code",
   "execution_count": 140,
   "id": "0a660cc9",
   "metadata": {},
   "outputs": [
    {
     "name": "stdout",
     "output_type": "stream",
     "text": [
      "Gemiddelde gross: $48468407.53\n"
     ]
    }
   ],
   "source": [
    "#Hier wordt het gemiddelde van de gross waardes die er zijn berekend\n",
    "gemiddelde_gross = dataset['gross'].mean()\n",
    "print(f\"Gemiddelde gross: ${gemiddelde_gross:.2f}\")\n"
   ]
  },
  {
   "cell_type": "code",
   "execution_count": 141,
   "id": "4bff99f2",
   "metadata": {},
   "outputs": [],
   "source": [
    "\n",
    "dataset.fillna({\"gross\" :48468407.53 }, inplace=True)"
   ]
  },
  {
   "cell_type": "markdown",
   "id": "2ef3fb18",
   "metadata": {},
   "source": [
    "#  Budget Target"
   ]
  },
  {
   "cell_type": "code",
   "execution_count": 142,
   "id": "610aa0a7",
   "metadata": {},
   "outputs": [
    {
     "name": "stdout",
     "output_type": "stream",
     "text": [
      "Gemiddelde budget: $39752620.44\n"
     ]
    }
   ],
   "source": [
    "gemiddelde_budget = dataset['budget'].mean()\n",
    "print(f\"Gemiddelde budget: ${gemiddelde_budget:.2f}\")\n"
   ]
  },
  {
   "cell_type": "code",
   "execution_count": 143,
   "id": "84ad5787",
   "metadata": {},
   "outputs": [],
   "source": [
    "dataset.fillna({\"budget\" :48468407.53 }, inplace=True)"
   ]
  },
  {
   "cell_type": "code",
   "execution_count": 144,
   "id": "c82caf8c",
   "metadata": {},
   "outputs": [
    {
     "data": {
      "text/html": [
       "<div>\n",
       "<style scoped>\n",
       "    .dataframe tbody tr th:only-of-type {\n",
       "        vertical-align: middle;\n",
       "    }\n",
       "\n",
       "    .dataframe tbody tr th {\n",
       "        vertical-align: top;\n",
       "    }\n",
       "\n",
       "    .dataframe thead th {\n",
       "        text-align: right;\n",
       "    }\n",
       "</style>\n",
       "<table border=\"1\" class=\"dataframe\">\n",
       "  <thead>\n",
       "    <tr style=\"text-align: right;\">\n",
       "      <th></th>\n",
       "      <th>director</th>\n",
       "      <th>director_facebook_likes</th>\n",
       "      <th>actor_2_name</th>\n",
       "      <th>gross</th>\n",
       "      <th>actor_1_name</th>\n",
       "      <th>title</th>\n",
       "      <th>cast_total_facebook_likes</th>\n",
       "      <th>actor_3_name</th>\n",
       "      <th>imdb_id</th>\n",
       "      <th>budget</th>\n",
       "      <th>imdb_score</th>\n",
       "      <th>movie_facebook_likes</th>\n",
       "    </tr>\n",
       "  </thead>\n",
       "  <tbody>\n",
       "    <tr>\n",
       "      <th>0</th>\n",
       "      <td>James Cameron</td>\n",
       "      <td>0.0</td>\n",
       "      <td>Joel David Moore</td>\n",
       "      <td>7.605058e+08</td>\n",
       "      <td>CCH Pounder</td>\n",
       "      <td>Avatar</td>\n",
       "      <td>4834</td>\n",
       "      <td>Wes Studi</td>\n",
       "      <td>0499549</td>\n",
       "      <td>2.370000e+08</td>\n",
       "      <td>7.9</td>\n",
       "      <td>33000</td>\n",
       "    </tr>\n",
       "    <tr>\n",
       "      <th>1</th>\n",
       "      <td>Gore Verbinski</td>\n",
       "      <td>563.0</td>\n",
       "      <td>Orlando Bloom</td>\n",
       "      <td>3.094042e+08</td>\n",
       "      <td>Johnny Depp</td>\n",
       "      <td>Pirates of the Caribbean: At World's End</td>\n",
       "      <td>48350</td>\n",
       "      <td>Jack Davenport</td>\n",
       "      <td>0449088</td>\n",
       "      <td>3.000000e+08</td>\n",
       "      <td>7.1</td>\n",
       "      <td>0</td>\n",
       "    </tr>\n",
       "    <tr>\n",
       "      <th>2</th>\n",
       "      <td>Sam Mendes</td>\n",
       "      <td>0.0</td>\n",
       "      <td>Rory Kinnear</td>\n",
       "      <td>2.000742e+08</td>\n",
       "      <td>Christoph Waltz</td>\n",
       "      <td>Spectre</td>\n",
       "      <td>11700</td>\n",
       "      <td>Stephanie Sigman</td>\n",
       "      <td>2379713</td>\n",
       "      <td>2.450000e+08</td>\n",
       "      <td>6.8</td>\n",
       "      <td>85000</td>\n",
       "    </tr>\n",
       "    <tr>\n",
       "      <th>3</th>\n",
       "      <td>Christopher Nolan</td>\n",
       "      <td>22000.0</td>\n",
       "      <td>Christian Bale</td>\n",
       "      <td>4.481306e+08</td>\n",
       "      <td>Tom Hardy</td>\n",
       "      <td>The Dark Knight Rises</td>\n",
       "      <td>106759</td>\n",
       "      <td>Joseph Gordon-Levitt</td>\n",
       "      <td>1345836</td>\n",
       "      <td>2.500000e+08</td>\n",
       "      <td>8.5</td>\n",
       "      <td>164000</td>\n",
       "    </tr>\n",
       "    <tr>\n",
       "      <th>4</th>\n",
       "      <td>Doug Walker</td>\n",
       "      <td>131.0</td>\n",
       "      <td>Rob Walker</td>\n",
       "      <td>4.846841e+07</td>\n",
       "      <td>Doug Walker</td>\n",
       "      <td>Star Wars: Episode VII - The Force Awakens    ...</td>\n",
       "      <td>143</td>\n",
       "      <td>NaN</td>\n",
       "      <td>5289954</td>\n",
       "      <td>4.846841e+07</td>\n",
       "      <td>7.1</td>\n",
       "      <td>0</td>\n",
       "    </tr>\n",
       "  </tbody>\n",
       "</table>\n",
       "</div>"
      ],
      "text/plain": [
       "            director  director_facebook_likes      actor_2_name         gross  \\\n",
       "0      James Cameron                      0.0  Joel David Moore  7.605058e+08   \n",
       "1     Gore Verbinski                    563.0     Orlando Bloom  3.094042e+08   \n",
       "2         Sam Mendes                      0.0      Rory Kinnear  2.000742e+08   \n",
       "3  Christopher Nolan                  22000.0    Christian Bale  4.481306e+08   \n",
       "4        Doug Walker                    131.0        Rob Walker  4.846841e+07   \n",
       "\n",
       "      actor_1_name                                              title  \\\n",
       "0      CCH Pounder                                            Avatar    \n",
       "1      Johnny Depp          Pirates of the Caribbean: At World's End    \n",
       "2  Christoph Waltz                                           Spectre    \n",
       "3        Tom Hardy                             The Dark Knight Rises    \n",
       "4      Doug Walker  Star Wars: Episode VII - The Force Awakens    ...   \n",
       "\n",
       "   cast_total_facebook_likes          actor_3_name  imdb_id        budget  \\\n",
       "0                       4834             Wes Studi  0499549  2.370000e+08   \n",
       "1                      48350        Jack Davenport  0449088  3.000000e+08   \n",
       "2                      11700      Stephanie Sigman  2379713  2.450000e+08   \n",
       "3                     106759  Joseph Gordon-Levitt  1345836  2.500000e+08   \n",
       "4                        143                   NaN  5289954  4.846841e+07   \n",
       "\n",
       "   imdb_score  movie_facebook_likes  \n",
       "0         7.9                 33000  \n",
       "1         7.1                     0  \n",
       "2         6.8                 85000  \n",
       "3         8.5                164000  \n",
       "4         7.1                     0  "
      ]
     },
     "execution_count": 144,
     "metadata": {},
     "output_type": "execute_result"
    }
   ],
   "source": [
    "dataset.head()\n"
   ]
  },
  {
   "cell_type": "markdown",
   "id": "1059e93d",
   "metadata": {},
   "source": [
    "# Datatypes"
   ]
  },
  {
   "cell_type": "code",
   "execution_count": null,
   "id": "7b0108a3",
   "metadata": {},
   "outputs": [],
   "source": []
  }
 ],
 "metadata": {
  "kernelspec": {
   "display_name": "Python 3 (ipykernel)",
   "language": "python",
   "name": "python3"
  },
  "language_info": {
   "codemirror_mode": {
    "name": "ipython",
    "version": 3
   },
   "file_extension": ".py",
   "mimetype": "text/x-python",
   "name": "python",
   "nbconvert_exporter": "python",
   "pygments_lexer": "ipython3",
   "version": "3.11.5"
  }
 },
 "nbformat": 4,
 "nbformat_minor": 5
}
