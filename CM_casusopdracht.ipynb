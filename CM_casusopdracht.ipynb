{
 "cells": [
  {
   "cell_type": "markdown",
   "id": "9792813af899c547",
   "metadata": {},
   "source": [
    "# Casusopdracht - Films\n",
    "\n",
    "**Klas:** V2B\n",
    "**Studenten:** \n",
    "- Roan Gaasbeek\n",
    "- Mathias Hendriks\n",
    "- Luc Pikaar\n"
   ]
  },
  {
   "cell_type": "code",
   "execution_count": null,
   "id": "9a3acdf323189db",
   "metadata": {},
   "outputs": [],
   "source": [
    "import numpy as np\n",
    "import pandas as pd\n",
    "import seaborn as sns\n",
    "import matplotlib.pyplot as plt\n",
    "import matplotlib.ticker as ticker\n",
    "\n"
   ]
  },
  {
   "cell_type": "markdown",
   "id": "6c46f1a396bc8f4b",
   "metadata": {},
   "source": [
    "# 1. Business Understanding\n",
    "\n",
    "## Doelstelling\n",
    "Het doel van dit onderzoek is het vaststellen van de belangrijkste kenmerken (zoals budget\n",
    "IMDb-scores, en sociale media populariteit) van films die goed presteren, om te begrijpen welke\n",
    "factoren bijdragen aan success in de filmindustrie.\n",
    "\n",
    "## Onderzoeksvragen\n",
    "De volgende onderzoeksvragen worden behandeld in deze opdracht:\n",
    "\n",
    "1. In hoeverre is de omzet van een film te voorspellen op basis van de populariteit op **Facebook** en **IMDB**?\n",
    "2. In hoeverre beïnvloedt het slagen voor de Bechdeltest de omzet van een film?\n",
    "3. In hoeverre is het mogelijk om logische clusters te vinden o.b.v. onder andere budget en omzet? Denk aan blockbusters (hoog budget en hoge omzet), flops (hoog budget en lage omzet) of cultfilms (laag budget en hoge omzet). Je mag extra features toevoegen. "
   ]
  },
  {
   "cell_type": "markdown",
   "id": "497ab43ff62dbce0",
   "metadata": {},
   "source": [
    "# 2. Data understanding\n",
    "De tweede fase in **CRISP-DM** is de **data understanding** dit houdt in:\n",
    "- Data Collection\n",
    "- Data Exploration & Analysis\n",
    "\n",
    "## Data Collection\n",
    "\n",
    "### Movies dataset\n",
    "dit is de dataset die we uit deze opdracht hebben meegekregen\n",
    "\n",
    "### Bechdeltest\n",
    "De bechdel test is als volgt:\n",
    "1. It has to have at least two (named) women in it\n",
    "2. Who talk to each other\n",
    "3. About something besides a man\n",
    "\n",
    "https://bechdeltest.com/\n"
   ]
  },
  {
   "cell_type": "code",
   "execution_count": null,
   "id": "116c31332c59d6c6",
   "metadata": {},
   "outputs": [],
   "source": [
    "dataset = pd.read_csv('movie.csv')\n",
    "bechdel_dataset = pd.read_csv('bechdel.csv')"
   ]
  },
  {
   "cell_type": "markdown",
   "id": "399e5c1bd9876e49",
   "metadata": {},
   "source": [
    "## Data Exploration & Analysis\n",
    "text hier om in het kort te beschrijven wat in dit stuk behandeld wordt\n",
    "\n",
    "### Algemene verkenning\n",
    "om een eerste blik te krijgen van de Data maken we gebruik van de **head** functie:"
   ]
  },
  {
   "cell_type": "code",
   "execution_count": null,
   "id": "b593b1c415c73ac9",
   "metadata": {},
   "outputs": [],
   "source": [
    "dataset.head()"
   ]
  },
  {
   "cell_type": "markdown",
   "id": "6052061fa335db7a",
   "metadata": {},
   "source": [
    "Om in één blik de kolommen / potentiële features te kunnen zien gebruiken we de **columns** functie:"
   ]
  },
  {
   "cell_type": "code",
   "execution_count": null,
   "id": "70ec4cd8fbcbb8aa",
   "metadata": {},
   "outputs": [],
   "source": [
    "dataset.columns"
   ]
  },
  {
   "cell_type": "markdown",
   "id": "8c99b52d2b787110",
   "metadata": {},
   "source": [
    "vervolgens gebruiken we de **dtypes** functie om de datatypen van elke kolom te krijgen"
   ]
  },
  {
   "cell_type": "code",
   "execution_count": null,
   "id": "89751cf695cb41a2",
   "metadata": {},
   "outputs": [],
   "source": [
    "dataset.dtypes"
   ]
  },
  {
   "cell_type": "markdown",
   "id": "a0fe337ac6ad7260",
   "metadata": {},
   "source": [
    "We gebruiken de functie **describe** om een samenvatting te genereren van de numerieke kolommen  "
   ]
  },
  {
   "cell_type": "code",
   "execution_count": null,
   "id": "9d2b8c01457eb7e3",
   "metadata": {},
   "outputs": [],
   "source": [
    "dataset.describe()"
   ]
  },
  {
   "cell_type": "markdown",
   "id": "6521c2ce28dd3bfd",
   "metadata": {},
   "source": [
    "Om de samenvatting van de niet numerieke data te krijgen moeten we dat specificeren in de **describe** functie"
   ]
  },
  {
   "cell_type": "code",
   "execution_count": null,
   "id": "3d32eec8ef35a87b",
   "metadata": {},
   "outputs": [],
   "source": [
    "dataset.describe(include='object')"
   ]
  },
  {
   "cell_type": "markdown",
   "id": "99b0e88228739f06",
   "metadata": {},
   "source": [
    "### Variabelen & Meetniveaus\n",
    "\n",
    "In deze analyse zijn de volgende variabelen overwogen met hun verwachte impact op de omzet (gross):\n",
    "\n",
    "- Director name & Actor names: De bekendheid van de regisseur en de hoofdrolspelers kan invloed hebben op de aantrekkingskracht van de film en daarmee de omzet.\n",
    "- Facebook Likes: De sociale media populariteit van de regisseur en de acteurs kan de zichtbaarheid van de film vergroten en zo invloed op de omzet hebben.\n",
    "- Budget: Een hoger budget kan leiden tot hogere omzet.\n",
    "- IMDB score: Een hogere score op IMDB wijst vaak op betere filmkwaliteit en kan leiden tot meer kijkers en daarmee hogere omzet.\n",
    "\n",
    "\n",
    "| Feature                 | Afhankelijk/Onafhankelijk | Meetniveau |\n",
    "|:------------------------|:--------------------------|:-----------|\n",
    "| Director Name           | Onafhankelijk             | Nominaal   |\n",
    "| Actor 1 Name            | Onafhankelijk             | Nominaal   |\n",
    "| Actor 2 Name            | Onafhankelijk             | Nominaal   |\n",
    "| Actor 3 Name            | Onafhankelijk             | Nominaal   |\n",
    "| Director Facebook Likes | Onafhankelijk             | Discreet   |\n",
    "| Actor 1 Facebook Likes  | Onafhankelijk             | Discreet   |\n",
    "| Actor 2 Facebook Likes  | Onafhankelijk             | Discreet   |\n",
    "| Actor 3 Facebook Likes  | Onafhankelijk             | Discreet   |\n",
    "| Movie Facebook Likes    | Onafhankelijk             | Discreet   |\n",
    "| Budget                  | Onafhankelijk             | Continu    |\n",
    "| IMDB Score              | Onafhankelijk             | Discreet   |\n",
    "| Gross                   | Afhankelijk               | Continu    |"
   ]
  },
  {
   "cell_type": "code",
   "execution_count": null,
   "id": "560e830d3888931d",
   "metadata": {},
   "outputs": [],
   "source": [
    "kolommen = ['director_name', 'actor_1_name', 'actor_2_name', 'actor_3_name', 'director_facebook_likes', 'actor_1_facebook_likes', 'actor_2_facebook_likes', 'actor_3_facebook_likes', 'cast_total_facebook_likes','movie_facebook_likes', 'budget', 'imdb_score', 'gross']\n",
    "data_analyse = dataset[kolommen]\n",
    "data_analyse.head()\n"
   ]
  },
  {
   "cell_type": "code",
   "execution_count": null,
   "id": "ede8c14f26e7205f",
   "metadata": {},
   "outputs": [],
   "source": [
    "data_analyse.describe()"
   ]
  },
  {
   "cell_type": "markdown",
   "id": "8f1d23c0f71ad8e",
   "metadata": {},
   "source": [
    "### Target\n",
    "De targetvariabele in dit onderzoek is de Omzet `gross`. Deze variabele vertegenwoordigt de inkomsten van een film.\n",
    "\n",
    "Om inzicht te krijgen in de verspreiding van de omzetwaarden, zullen er twee histogrammen worden gebruikt. De eerste is zonder limiet hierin is het mogelijk om ook de uitschieters te zien. De tweede is ingezoomd op de waarde tot max 100 Miljoen. Dit helpt om de verdeling van de omzet in de dataset te visualiseren en te identificeren of er sprake is van een normale verdeling, uitschieters of andere patronen die van invloed kunnen zijn op de analyses."
   ]
  },
  {
   "cell_type": "code",
   "execution_count": null,
   "id": "a9e47851235f6be3",
   "metadata": {},
   "outputs": [],
   "source": [
    "fig, axes = plt.subplots(1, 2, figsize=(14, 6))\n",
    "\n",
    "sns.histplot(dataset['gross'] / 10**6, bins=50, ax=axes[0])\n",
    "axes[0].set_title('Omzetverdeling')\n",
    "axes[0].set_xlabel('Omzet (Miljoenen)')\n",
    "axes[0].set_ylabel('Frequentie')\n",
    "\n",
    "sns.histplot(dataset['gross'] / 10**6, bins=200, ax=axes[1])\n",
    "axes[1].set_title('Omzetverdeling met limiet (Max 100 miljoen)')\n",
    "axes[1].set_xlabel('Omzet (Miljoenen)')\n",
    "axes[1].set_ylabel('Frequentie')\n",
    "\n",
    "# Zet de x-as limiet tot maximaal 200 miljoen\n",
    "axes[1].set_xlim(0, 100)\n",
    "\n",
    "plt.tight_layout()\n",
    "plt.show()"
   ]
  },
  {
   "cell_type": "markdown",
   "id": "8f7732bc2f12514b",
   "metadata": {},
   "source": [
    "Uit de histogrammen blijkt dat een groot deel van de `gross` waarden zich rond nul bevindt. Dit wijst mogelijk op een aanzienlijk aantal ontbrekende of ongeldige waarden in de dataset. Het kan zijn dat voor veel films de omzet ontbreekt. Dit zou de betrouwbaarheid van verdere analyses kunnen beïnvloeden."
   ]
  },
  {
   "cell_type": "code",
   "execution_count": null,
   "id": "238b089007c2b586",
   "metadata": {},
   "outputs": [],
   "source": [
    "omzet = data_analyse['gross'].dropna()\n",
    "omzet_log = np.log10(omzet + 1)\n",
    "\n",
    "# Seaborn histogram plotten\n",
    "plt.figure(figsize=(8, 6))\n",
    "sns.histplot(omzet_log, bins=50, color='skyblue', edgecolor='black')\n",
    "\n",
    "# Titel en labels toevoegen\n",
    "plt.title('Omzet van films')\n",
    "plt.xlabel('Omzet')\n",
    "plt.ylabel('Aantal films')\n",
    "plt.xticks(ticks=range(10), labels=[\"1\",\"10\",\"100\",\"1k\",\"10k\",\"100k\",\"1M\", \"10M\", \"100M\", \"1B\"])\n",
    "\n",
    "plt.grid(True)\n",
    "plt.show()"
   ]
  },
  {
   "cell_type": "markdown",
   "id": "ff061f3d92d51b80",
   "metadata": {},
   "source": [
    "Er is gekozen om een log10-transformatie toe te passen op de omzet in plaats van een standaard histogram. Dit komt doordat er in de dataset veel films zijn met een omzet van 0 of zeer lage waarden. Door deze waarden op een lineaire schaal weer te geven, zouden de meeste films in een enkele categorie vallen, wat een \"saaie\" visualisatie oplevert met weinig inzicht in de spreiding van de hogere omzetten. De logaritmische schaal comprimeert de hoge uitschieters en spreidt de lagere waarden beter uit, waardoor de onderlinge verschillen beter zichtbaar worden en de visualisatie meer informatieve waarde krijgt."
   ]
  },
  {
   "cell_type": "markdown",
   "id": "b22f3002730bec3d",
   "metadata": {},
   "source": [
    "### Features\n",
    "\n",
    "#### Facebook likes\n",
    "Om inzicht te krijgen in de populariteit van de verschillende actoren en de regisseur, hebben we de verdeling van de Facebook-likes per persoon afzonderlijk gevisualiseerd in de vorm van histogrammen. Deze grafieken tonen de frequentie van het aantal likes van de `director`, `acteur 1`, `acteur 2`, `acteur 3`, `cast_total` en de `movie`."
   ]
  },
  {
   "cell_type": "code",
   "execution_count": null,
   "id": "24b29471fb1da8fc",
   "metadata": {},
   "outputs": [],
   "source": [
    "dataset['director_facebook_likes'].describe()"
   ]
  },
  {
   "cell_type": "code",
   "execution_count": null,
   "id": "49b232182e29bf67",
   "metadata": {},
   "outputs": [],
   "source": [
    "fig, axes = plt.subplots(3, 2, figsize=(12, 10))\n",
    "\n",
    "# Logaritmische transformatie van de 'director_facebook_likes' om uitschieters te comprimeren\n",
    "director_likes = dataset['director_facebook_likes'].dropna()\n",
    "director_likes_log = np.log10(director_likes + 1)\n",
    "sns.histplot(director_likes_log, bins=20, kde=False, ax=axes[0, 0])\n",
    "\n",
    "axes[0, 0].set_title('Regisseur FB Likes')\n",
    "axes[0, 0].set_xlabel('Aantal Likes')\n",
    "axes[0, 0].set_ylabel('Frequentie')\n",
    "axes[0, 0].set_xticks([0, 1, 2, 3, 4, 5])\n",
    "axes[0, 0].set_xticklabels([\"1\",\"10\",\"100\",\"1k\",\"10k\",\"100k\"])\n",
    "\n",
    "# Logaritmische transformatie van de 'actor_1_facebook_likes' om uitschieters te comprimeren\n",
    "actor_1_likes = dataset['actor_1_facebook_likes'].dropna()\n",
    "actor_1_likes_log = np.log10(actor_1_likes + 1)\n",
    "sns.histplot(actor_1_likes_log, bins=20, kde=False, ax=axes[0, 1])\n",
    "\n",
    "axes[0, 1].set_title('Acteur 1 FB Likes')\n",
    "axes[0, 1].set_xlabel('Aantal Likes')\n",
    "axes[0, 1].set_ylabel('Frequentie')\n",
    "axes[0, 1].set_xticks([0, 1, 2, 3, 4, 5, 6])\n",
    "axes[0, 1].set_xticklabels([\"1\",\"10\",\"100\",\"1k\",\"10k\",\"100k\",\"1M\"])\n",
    "\n",
    "# Logaritmische transformatie van de 'actor_2_facebook_likes' om uitschieters te comprimeren\n",
    "actor_2_likes = dataset['actor_2_facebook_likes'].dropna()\n",
    "actor_2_likes_log = np.log10(actor_2_likes + 1)\n",
    "sns.histplot(actor_2_likes_log, bins=20, kde=False, ax=axes[1, 0])\n",
    "\n",
    "axes[1, 0].set_title('Acteur 2 FB Likes')\n",
    "axes[1, 0].set_xlabel('Aantal Likes')\n",
    "axes[1, 0].set_ylabel('Frequentie')\n",
    "axes[1, 0].set_xticks([0, 1, 2, 3, 4, 5, 6])\n",
    "axes[1, 0].set_xticklabels([\"1\",\"10\",\"100\",\"1k\",\"10k\",\"100k\",\"1M\"])\n",
    "\n",
    "# Logaritmische transformatie van de 'actor_3_facebook_likes' om uitschieters te comprimeren\n",
    "actor_3_likes = dataset['actor_3_facebook_likes'].dropna()\n",
    "actor_3_likes_log = np.log10(actor_3_likes + 1)\n",
    "sns.histplot(actor_3_likes_log, bins=20, kde=False, ax=axes[1, 1])\n",
    "\n",
    "axes[1, 1].set_title('Acteur 3 FB Likes')\n",
    "axes[1, 1].set_xlabel('Aantal Likes')\n",
    "axes[1, 1].set_ylabel('Frequentie')\n",
    "axes[1, 1].set_xticks([0, 1, 2, 3, 4, 5, 6])\n",
    "axes[1, 1].set_xticklabels([\"1\",\"10\",\"100\",\"1k\",\"10k\",\"100k\",\"1M\"])\n",
    "\n",
    "# Logaritmische transformatie van de 'cast_total_facebook_likes' om uitschieters te comprimeren\n",
    "cast_total_likes = dataset['cast_total_facebook_likes'].dropna()\n",
    "cast_total_likes_log = np.log10(cast_total_likes + 1)\n",
    "sns.histplot(cast_total_likes_log, bins=20, kde=False, ax=axes[2, 0])\n",
    "\n",
    "axes[2, 0].set_title('Cast Total FB Likes')\n",
    "axes[2, 0].set_xlabel('Aantal Likes')\n",
    "axes[2, 0].set_ylabel('Frequentie')\n",
    "axes[2, 0].set_xticks([0, 1, 2, 3, 4, 5, 6])\n",
    "axes[2, 0].set_xticklabels([\"1\", \"10\", \"100\", \"1k\", \"10k\", \"100k\", \"1M\"])\n",
    "\n",
    "# Logaritmische transformatie van de 'movie_facebook_likes' om uitschieters te comprimeren\n",
    "movie_likes = dataset['movie_facebook_likes'].dropna()\n",
    "movie_likes_log = np.log10(movie_likes + 1)\n",
    "sns.histplot(movie_likes_log, bins=20, kde=False, ax=axes[2, 1])\n",
    "\n",
    "axes[2, 1].set_title('Movie Facebook Likes')\n",
    "axes[2, 1].set_xlabel('Aantal Likes')\n",
    "axes[2, 1].set_ylabel('Frequentie')\n",
    "axes[2, 1].set_xticks([0, 1, 2, 3, 4, 5, 6])\n",
    "axes[2, 1].set_xticklabels([\"1\", \"10\", \"100\", \"1k\", \"10k\", \"100k\", \"1M\"])\n",
    "\n",
    "plt.tight_layout()\n",
    "plt.show()"
   ]
  },
  {
   "cell_type": "markdown",
   "id": "1e5270cf",
   "metadata": {},
   "source": [
    "#### IMDB-Score"
   ]
  },
  {
   "cell_type": "code",
   "execution_count": null,
   "id": "206d3b75",
   "metadata": {},
   "outputs": [],
   "source": [
    "# Veronderstel dat de dataset al geladen is en IMDb-scores bevat\n",
    "imdb_scores = data_analyse['imdb_score'].dropna()\n",
    "\n",
    "# Maak een boxplot voor de IMDb-scores\n",
    "plt.figure(figsize=(8, 6))\n",
    "sns.boxplot(x=imdb_scores)\n",
    "\n",
    "# Instellen van de titel en labels\n",
    "plt.title('IMDb Scores')\n",
    "plt.ylabel('Cijfer IMDB')\n",
    "\n",
    "# Weergeven van de plot\n",
    "plt.grid(True)\n",
    "plt.show()\n"
   ]
  },
  {
   "cell_type": "markdown",
   "id": "6e653e665c5f8b75",
   "metadata": {},
   "source": [
    "#### Budget"
   ]
  },
  {
   "cell_type": "code",
   "execution_count": null,
   "id": "100d6bd1",
   "metadata": {},
   "outputs": [],
   "source": [
    "budget = data_analyse['budget'].dropna()\n",
    "budget_log = np.log10(budget + 1)\n",
    "\n",
    "# Seaborn histogram plotten\n",
    "plt.figure(figsize=(8, 6))\n",
    "sns.histplot(budget_log, bins=50, color='skyblue', edgecolor='black')\n",
    "\n",
    "# Titel en labels toevoegen\n",
    "plt.title('Budget')\n",
    "plt.xlabel('Budget')\n",
    "plt.ylabel('Aantal films')\n",
    "plt.xticks(ticks=range(11), labels=[\"1\",\"10\",\"100\",\"1k\",\"10k\",\"100k\",\"1M\", \"10M\", \"100M\", \"1B\", \"10B\"])\n",
    "\n",
    "plt.grid(True)\n",
    "plt.show()"
   ]
  },
  {
   "cell_type": "markdown",
   "id": "5cccedca632995a8",
   "metadata": {},
   "source": [
    "## Data Kwaliteit\n",
    "Met de functie `isnull` kunnen we controleren hoeveel missende waarden we hebben. Hier voegen we nog een check aan toe om te kijken hoevel waarden 0 zijn"
   ]
  },
  {
   "cell_type": "code",
   "execution_count": null,
   "id": "55dc9f7bf672a79e",
   "metadata": {},
   "outputs": [],
   "source": [
    "(data_analyse.isnull() | (data_analyse == 0)).sum()\n"
   ]
  },
  {
   "cell_type": "markdown",
   "id": "6a98599fd64521fa",
   "metadata": {},
   "source": [
    "Met de functie **duplicated** checken we of er duplicates in de data zijn. Dit checken we door de waarde van kolommen **movie_title** en **movie_imdb_link** mee te geven aangezien dit eigenlijk de unieke waarden zouden moeten zijn."
   ]
  },
  {
   "cell_type": "code",
   "execution_count": null,
   "id": "3aa6f44ab0574de3",
   "metadata": {},
   "outputs": [],
   "source": [
    "dataset[dataset.duplicated(['movie_title', 'movie_imdb_link'])]"
   ]
  },
  {
   "cell_type": "markdown",
   "id": "506582fe67c00a1a",
   "metadata": {},
   "source": [
    "## Waarnemingen\n",
    "\n",
    "- movie_facebook_likes heeft 930 extreme uitschieters, dat is behoorlijk veel. Zoals eerder benoemd, komt dit waarschijnlijk doordat er veel films zijn zonder facebook pagina, wat geregistreerd wordt als 0 likes.\n",
    "\n",
    "- imdb_score heeft 0 extreme uitschieters. Dit lijkt ons logisch omdat de imdb score voor een film altijd tussen de 1 en 10 ligt. Er zal dus nooit een waarde van bijvoorbeeld 100 moeten zijn, wat een extreme uitschieter zou zijn.\n",
    "\n",
    "- De kolommen movie_facebook_likes en imdb_score hebben beide 5043 waarden, maar budget en gross hebben minder waarden (4551 en 4159 waarden).  \n",
    "We zullen hier een oplossing voor moeten vinden, door bijvoorbeeld de rijen met missende waarden te droppen van de dataset.\n",
    "\n",
    "- Q1 voor movie_facebook_likes is 0, dit betekent dat ten minste 25% van de films 0 facebook likes hebben. Dit komt waarschijnlijk omdat deze films geen facebook-pagina hebben."
   ]
  },
  {
   "cell_type": "markdown",
   "id": "59f7ff3f72dc5102",
   "metadata": {},
   "source": [
    "# 3. Data preparation\n"
   ]
  },
  {
   "cell_type": "code",
   "execution_count": null,
   "id": "5d41dbcd",
   "metadata": {},
   "outputs": [],
   "source": [
    "#We hebben de link voor de imdb pagina niet nodig maar hierin staat wel de imdb_id die we later kunnen gebruiken om een externe dataset te koppelen.\n",
    "\n",
    "dataset['movie_imdb_link'] = dataset['movie_imdb_link'].str.slice(start=28, stop=-17)"
   ]
  },
  {
   "cell_type": "code",
   "execution_count": null,
   "id": "c37891ab",
   "metadata": {},
   "outputs": [],
   "source": [
    "#Veranderen van een paar column namen\n",
    "dataset.rename(columns={'director_name':'director', 'movie_title':'title', 'movie_imdb_link':'imdb_id'}, inplace=True)"
   ]
  },
  {
   "cell_type": "code",
   "execution_count": null,
   "id": "c27ae720",
   "metadata": {},
   "outputs": [],
   "source": [
    "#Zoals hierboven zijn bijna 96% van de films in kleur, daarom ervoor gekozen om deze kolom te droppen.\n",
    "dataset.drop(['color'], axis = 1, inplace=True)\n"
   ]
  },
  {
   "cell_type": "code",
   "execution_count": null,
   "id": "4a1c1510",
   "metadata": {},
   "outputs": [],
   "source": [
    "#De duration kan invloed hebben op kijkersbeoordelingen, maar minder op omzet of andere clusters.\n",
    "dataset.drop(['duration'], axis = 1, inplace=True)"
   ]
  },
  {
   "cell_type": "code",
   "execution_count": null,
   "id": "05c10e0a",
   "metadata": {},
   "outputs": [],
   "source": [
    "#Aspect ratio is niet relevant\n",
    "dataset.drop(['aspect_ratio'], axis = 1, inplace=True)"
   ]
  },
  {
   "cell_type": "code",
   "execution_count": null,
   "id": "347965ce",
   "metadata": {},
   "outputs": [],
   "source": [
    "#We zijn niet van plan om genre op dit moment te gebruiken.\n",
    "dataset.drop(['genres'], axis = 1, inplace=True)\n"
   ]
  },
  {
   "cell_type": "code",
   "execution_count": null,
   "id": "a915cdc0",
   "metadata": {},
   "outputs": [],
   "source": [
    "dataset.drop(['num_voted_users', 'facenumber_in_poster','plot_keywords'], axis = 1, inplace=True)"
   ]
  },
  {
   "cell_type": "code",
   "execution_count": null,
   "id": "06f90d2d",
   "metadata": {},
   "outputs": [],
   "source": [
    "#Kan interessant zijn voor een populariteitsanalyse, maar minder voor omzet of clustering\n",
    "dataset.drop(['num_user_for_reviews','num_critic_for_reviews'], axis = 1, inplace=True)"
   ]
  },
  {
   "cell_type": "code",
   "execution_count": null,
   "id": "6ba7d7fc",
   "metadata": {},
   "outputs": [],
   "source": [
    "#Niet relevant voor ons.\n",
    "dataset.drop(['content_rating' ], axis = 1, inplace=True)\n"
   ]
  },
  {
   "cell_type": "code",
   "execution_count": null,
   "id": "7b4966d8",
   "metadata": {},
   "outputs": [],
   "source": [
    "dataset.drop(['title_year'], axis = 1, inplace=True)\n"
   ]
  },
  {
   "cell_type": "code",
   "execution_count": null,
   "id": "d7cca6cb",
   "metadata": {},
   "outputs": [],
   "source": [
    "#Country niet gedropt voor de valuta\n",
    "dataset.drop(['language'], axis = 1, inplace=True)\n"
   ]
  },
  {
   "cell_type": "code",
   "execution_count": null,
   "id": "98679e63",
   "metadata": {},
   "outputs": [],
   "source": [
    "dataset.dropna(subset=['gross'], inplace = True)\n",
    "\n"
   ]
  },
  {
   "cell_type": "markdown",
   "id": "a68280e9",
   "metadata": {},
   "source": [
    "## Data duplicates\n"
   ]
  },
  {
   "cell_type": "code",
   "execution_count": null,
   "id": "e824c374",
   "metadata": {},
   "outputs": [],
   "source": [
    "# Controleert het aantal duplicates in de dataset.\n",
    "totaal_duplicates = dataset.duplicated().sum()\n",
    "print(f\"Aantal duplicates in de dataset: {totaal_duplicates}\")\n",
    "\n",
    "zonder_duplicates = dataset.drop_duplicates()\n",
    "\n"
   ]
  },
  {
   "cell_type": "markdown",
   "id": "da50226a",
   "metadata": {},
   "source": []
  },
  {
   "cell_type": "markdown",
   "id": "1cc54f4f",
   "metadata": {},
   "source": [
    "## Valuta naar USD voor gross\n"
   ]
  },
  {
   "cell_type": "code",
   "execution_count": null,
   "id": "2402704d",
   "metadata": {},
   "outputs": [],
   "source": [
    "landen = dataset['country'].dropna().unique()\n",
    "print(\"Unieke landen in de dataset:\", landen)\n",
    "\n"
   ]
  },
  {
   "cell_type": "code",
   "execution_count": null,
   "id": "724cb8d0",
   "metadata": {},
   "outputs": [],
   "source": [
    "land_naar_valuta = {\n",
    "    'USA': 'USD',\n",
    "    'UK': 'GBP',\n",
    "    'New Zealand': 'NZD',\n",
    "    'Canada': 'CAD',\n",
    "    'Australia': 'AUD',\n",
    "    'Belgium': 'EUR',\n",
    "    'Japan': 'JPY',\n",
    "    'Germany': 'EUR',\n",
    "    'China': 'CNY',\n",
    "    'France': 'EUR',\n",
    "    'Mexico': 'MXN',\n",
    "    'Spain': 'EUR',\n",
    "    'Hong Kong': 'HKD',\n",
    "    'Czech Republic': 'CZK',\n",
    "    'India': 'INR',\n",
    "    'South Korea': 'KRW',\n",
    "    'Peru': 'PEN',\n",
    "    'Italy': 'EUR',\n",
    "    'Russia': 'RUB',\n",
    "    'Denmark': 'DKK',\n",
    "    'Ireland': 'EUR',\n",
    "    'South Africa': 'ZAR',\n",
    "    'Iceland': 'ISK',\n",
    "    'Switzerland': 'CHF',\n",
    "    'Romania': 'RON',\n",
    "    'Netherlands': 'EUR',\n",
    "    'Hungary': 'HUF',\n",
    "    'Greece': 'EUR',\n",
    "    'Sweden': 'SEK',\n",
    "    'Norway': 'NOK',\n",
    "    'Taiwan': 'TWD',\n",
    "    'Cambodia': 'KHR',\n",
    "    'Thailand': 'THB',\n",
    "    'Slovakia': 'EUR',\n",
    "    'Bulgaria': 'BGN',\n",
    "    'Iran': 'IRR',\n",
    "    'Poland': 'PLN',\n",
    "    'Turkey': 'TRY',\n",
    "    'Nigeria': 'NGN',\n",
    "    'Brazil': 'BRL',\n",
    "    'Finland': 'EUR',\n",
    "    'Bahamas': 'BSD',\n",
    "    'Argentina': 'ARS',\n",
    "    'Colombia': 'COP',\n",
    "    'Israel': 'ILS',\n",
    "    'Egypt': 'EGP',\n",
    "    'Indonesia': 'IDR',\n",
    "    'Pakistan': 'PKR',\n",
    "    'Slovenia': 'EUR',\n",
    "    'Dominican Republic': 'DOP',\n",
    "    'United Arab Emirates': 'AED',\n",
    "    'Kenya': 'KES',\n",
    "    'Philippines': 'PHP',\n",
    "    'Libya': 'LYD',\n",
    "}\n",
    "\n",
    "#Koers gebruikt van xe.com (27-09-2024)\n",
    "valuta_naar_usd = {\n",
    "    'USD': 1,\n",
    "    'GBP': 1.33,\n",
    "    'NZD': 0.63,\n",
    "    'CAD': 0.74,\n",
    "    'AUD': 0.68,\n",
    "    'EUR': 1.11,\n",
    "    'JPY': 0.0069,\n",
    "    'CNY': 0.14,\n",
    "    'MXN': 0.05,\n",
    "    'HKD': 0.13,\n",
    "    'CZK': 0.044,\n",
    "    'INR': 0.012,\n",
    "    'KRW': 0.000076,\n",
    "    'PEN': 0.268,\n",
    "    'RUB': 0.0107,\n",
    "    'DKK': 0.15,\n",
    "    'ZAR': 0.058,\n",
    "    'ISK': 0.0074,\n",
    "    'CHF': 1.184,\n",
    "    'RON': 0.224,\n",
    "    'HUF': 0.0028,\n",
    "    'SEK': 0.0987,\n",
    "    'NOK': 0.0948,\n",
    "    'TWD': 0.0317,\n",
    "    'KHR': 0.000245,\n",
    "    'THB': 0.030,\n",
    "    'BGN': 0.57,\n",
    "    'IRR': 0.000023738816,\n",
    "    'PLN': 0.26,\n",
    "    'TRY': 0.029,\n",
    "    'NGN': 0.00060493026,\n",
    "    'BRL': 0.183,\n",
    "    'BSD': 1,\n",
    "    'ARS': 0.010,\n",
    "    'COP': 0.00023999137,\n",
    "    'ILS': 0.27,\n",
    "    'EGP': 0.0206,\n",
    "    'IDR': 0.000066187407,\n",
    "    'PKR': 0.0036020965,\n",
    "    'DOP': 0.0166,\n",
    "    'AED': 0.27,\n",
    "    'KES': 0.0077,\n",
    "    'PHP': 0.017,\n",
    "    'LYD': 0.209,\n",
    "}\n",
    "\n",
    "dataset['gross'] = dataset.apply(\n",
    "    lambda row: row['gross'] * valuta_naar_usd.get(land_naar_valuta.get(row['country'], 'USD'), 1), \n",
    "    axis=1\n",
    ")\n",
    "\n",
    "dataset[['country', 'gross']].head(10)\n"
   ]
  },
  {
   "cell_type": "markdown",
   "id": "d39794cf",
   "metadata": {},
   "source": [
    "## Valuta naar USD voor budget\n"
   ]
  },
  {
   "cell_type": "code",
   "execution_count": null,
   "id": "335f1db8",
   "metadata": {},
   "outputs": [],
   "source": [
    "land_naar_valuta = {\n",
    "    'USA': 'USD',\n",
    "    'UK': 'GBP',\n",
    "    'New Zealand': 'NZD',\n",
    "    'Canada': 'CAD',\n",
    "    'Australia': 'AUD',\n",
    "    'Belgium': 'EUR',\n",
    "    'Japan': 'JPY',\n",
    "    'Germany': 'EUR',\n",
    "    'China': 'CNY',\n",
    "    'France': 'EUR',\n",
    "    'Mexico': 'MXN',\n",
    "    'Spain': 'EUR',\n",
    "    'Hong Kong': 'HKD',\n",
    "    'Czech Republic': 'CZK',\n",
    "    'India': 'INR',\n",
    "    'South Korea': 'KRW',\n",
    "    'Peru': 'PEN',\n",
    "    'Italy': 'EUR',\n",
    "    'Russia': 'RUB',\n",
    "    'Denmark': 'DKK',\n",
    "    'Ireland': 'EUR',\n",
    "    'South Africa': 'ZAR',\n",
    "    'Iceland': 'ISK',\n",
    "    'Switzerland': 'CHF',\n",
    "    'Romania': 'RON',\n",
    "    'Netherlands': 'EUR',\n",
    "    'Hungary': 'HUF',\n",
    "    'Greece': 'EUR',\n",
    "    'Sweden': 'SEK',\n",
    "    'Norway': 'NOK',\n",
    "    'Taiwan': 'TWD',\n",
    "    'Cambodia': 'KHR',\n",
    "    'Thailand': 'THB',\n",
    "    'Slovakia': 'EUR',\n",
    "    'Bulgaria': 'BGN',\n",
    "    'Iran': 'IRR',\n",
    "    'Poland': 'PLN',\n",
    "    'Turkey': 'TRY',\n",
    "    'Nigeria': 'NGN',\n",
    "    'Brazil': 'BRL',\n",
    "    'Finland': 'EUR',\n",
    "    'Bahamas': 'BSD',\n",
    "    'Argentina': 'ARS',\n",
    "    'Colombia': 'COP',\n",
    "    'Israel': 'ILS',\n",
    "    'Egypt': 'EGP',\n",
    "    'Indonesia': 'IDR',\n",
    "    'Pakistan': 'PKR',\n",
    "    'Slovenia': 'EUR',\n",
    "    'Dominican Republic': 'DOP',\n",
    "    'United Arab Emirates': 'AED',\n",
    "    'Kenya': 'KES',\n",
    "    'Philippines': 'PHP',\n",
    "    'Libya': 'LYD',\n",
    "}\n",
    "\n",
    "#Koers gebruikt van xe.com (27-09-2024)\n",
    "valuta_naar_usd = {\n",
    "    'USD': 1,\n",
    "    'GBP': 1.33,\n",
    "    'NZD': 0.63,\n",
    "    'CAD': 0.74,\n",
    "    'AUD': 0.68,\n",
    "    'EUR': 1.11,\n",
    "    'JPY': 0.0069,\n",
    "    'CNY': 0.14,\n",
    "    'MXN': 0.05,\n",
    "    'HKD': 0.13,\n",
    "    'CZK': 0.044,\n",
    "    'INR': 0.012,\n",
    "    'KRW': 0.000076,\n",
    "    'PEN': 0.268,\n",
    "    'RUB': 0.0107,\n",
    "    'DKK': 0.15,\n",
    "    'ZAR': 0.058,\n",
    "    'ISK': 0.0074,\n",
    "    'CHF': 1.184,\n",
    "    'RON': 0.224,\n",
    "    'HUF': 0.0028,\n",
    "    'SEK': 0.0987,\n",
    "    'NOK': 0.0948,\n",
    "    'TWD': 0.0317,\n",
    "    'KHR': 0.000245,\n",
    "    'THB': 0.030,\n",
    "    'BGN': 0.57,\n",
    "    'IRR': 0.000023738816,\n",
    "    'PLN': 0.26,\n",
    "    'TRY': 0.029,\n",
    "    'NGN': 0.00060493026,\n",
    "    'BRL': 0.183,\n",
    "    'BSD': 1,\n",
    "    'ARS': 0.010,\n",
    "    'COP': 0.00023999137,\n",
    "    'ILS': 0.27,\n",
    "    'EGP': 0.0206,\n",
    "    'IDR': 0.000066187407,\n",
    "    'PKR': 0.0036020965,\n",
    "    'DOP': 0.0166,\n",
    "    'AED': 0.27,\n",
    "    'KES': 0.0077,\n",
    "    'PHP': 0.017,\n",
    "    'LYD': 0.209,\n",
    "}\n",
    "\n",
    "dataset['budget'] = dataset.apply(\n",
    "    lambda row: row['budget'] * valuta_naar_usd.get(land_naar_valuta.get(row['country'], 'USD'), 1), \n",
    "    axis=1\n",
    ")\n",
    "\n",
    "dataset[['country', 'budget']].head(10)\n"
   ]
  },
  {
   "cell_type": "markdown",
   "id": "c815fc61",
   "metadata": {},
   "source": []
  }
 ],
 "metadata": {
  "kernelspec": {
   "display_name": "Python 3 (ipykernel)",
   "language": "python",
   "name": "python3"
  },
  "language_info": {
   "codemirror_mode": {
    "name": "ipython",
    "version": 3
   },
   "file_extension": ".py",
   "mimetype": "text/x-python",
   "name": "python",
   "nbconvert_exporter": "python",
   "pygments_lexer": "ipython3",
   "version": "3.11.5"
  }
 },
 "nbformat": 4,
 "nbformat_minor": 5
}
