{
 "cells": [
  {
   "cell_type": "markdown",
   "id": "9792813af899c547",
   "metadata": {},
   "source": [
    "# Casusopdracht - Films\n",
    "\n",
    "**Klas:** V2B\n",
    "**Studenten:** \n",
    "- Roan Gaasbeek\n",
    "- Mathijs de Jong\n",
    "- Luc Pikaar\n"
   ]
  },
  {
   "cell_type": "code",
   "id": "44a89e05a94ac61f",
   "metadata": {},
   "source": [
    "import numpy as np\n",
    "import pandas as pd\n",
    "import seaborn as sns\n",
    "import matplotlib.pyplot as plt\n",
    "from astropy.cosmology import w0waCDM\n",
    "from sklearn.model_selection import train_test_split, GridSearchCV\n",
    "from sklearn.linear_model import LinearRegression\n",
    "from sklearn.linear_model import Ridge\n",
    "from sklearn.metrics import r2_score\n",
    "from sklearn.linear_model import Lasso"
   ],
   "outputs": [],
   "execution_count": null
  },
  {
   "cell_type": "markdown",
   "id": "83de1bbcdd822c52",
   "metadata": {},
   "source": [
    "# 1. Business Understanding\n",
    "\n",
    "## Doelstelling\n",
    "Het doel van dit onderzoek is het vaststellen van de belangrijkste kenmerken (zoals budget\n",
    "IMDb-scores, en sociale media populariteit) van films die goed presteren, om te begrijpen welke\n",
    "factoren bijdragen aan succes in de filmindustrie.\n",
    "\n",
    "## Onderzoeksvragen\n",
    "De volgende onderzoeksvragen worden behandeld in deze opdracht:\n",
    "\n",
    "1. In hoeverre is de bruto-omzet van een film te voorspellen op basis van de populariteit op **Facebook** en **IMDB**?\n",
    "2. In hoeverre beïnvloedt het slagen voor de Bechdeltest de bruto-omzet van een film?\n",
    "3. In hoeverre is het mogelijk om logische clusters te vinden o.b.v. `budget`, `omzet` en `IMDB-score`?"
   ]
  },
  {
   "cell_type": "code",
   "id": "14e26319b1c03ce",
   "metadata": {},
   "source": [
    "# TODO - onderzoeksvraag 2:"
   ],
   "outputs": [],
   "execution_count": null
  },
  {
   "cell_type": "markdown",
   "id": "15afebd94e3a3d7c",
   "metadata": {},
   "source": [
    "# 2. Data understanding\n",
    "De tweede fase in **CRISP-DM** is de **data understanding** dit houdt in:\n",
    "- Data Collection\n",
    "- Data Exploration & Analysis\n",
    "\n",
    "## Data Collection\n",
    "\n",
    "### Movies dataset\n",
    "dit is de dataset die we uit deze opdracht hebben meegekregen\n",
    "\n",
    "### Bechdeltest\n",
    "De bechdel test is als volgt:\n",
    "1. It has to have at least two (named) women in it\n",
    "2. Who talk to each other\n",
    "3. About something besides a man\n",
    "\n",
    "https://bechdeltest.com/\n"
   ]
  },
  {
   "cell_type": "code",
   "id": "875fca4a974d1313",
   "metadata": {},
   "source": [
    "dataset = pd.read_csv('movie.csv')\n",
    "bechdel_dataset = pd.read_csv('bechdel.csv')"
   ],
   "outputs": [],
   "execution_count": null
  },
  {
   "cell_type": "markdown",
   "id": "2547c164443534b9",
   "metadata": {},
   "source": [
    "## Data Exploration & Analysis\n",
    "In deze fase wordt de dataset grondig onderzocht om patronen, relaties en potentieel problematische gegevens te identificeren. Het doel van data exploration is om een eerste inzicht te krijgen in de structuur van de data, trends te ontdekken en belangrijke kenmerken te identificeren die verder onderzocht moeten worden.\n",
    "\n",
    "### Algemene verkenning\n",
    "Om een eerste indruk van de dataset te krijgen, maken we gebruik van de `head`-functie. Deze functie geeft een overzicht van de eerste paar rijen van de dataset, waardoor we snel inzicht krijgen in de structuur van de data."
   ]
  },
  {
   "cell_type": "code",
   "id": "1a6fbc1d1b96c509",
   "metadata": {},
   "source": [
    "dataset.head()"
   ],
   "outputs": [],
   "execution_count": null
  },
  {
   "cell_type": "markdown",
   "id": "5a7b1f374b8a02f",
   "metadata": {},
   "source": [
    "Om snel een overzicht te krijgen van alle kolommen en mogelijke features in de dataset, maken we gebruik van de `columns`-functie. Hiermee kunnen we eenvoudig de namen van de kolommen bekijken, wat nuttig is voor het bepalen van welke variabelen relevant zijn voor verdere analyse."
   ]
  },
  {
   "cell_type": "code",
   "id": "1a4378d063571f76",
   "metadata": {},
   "source": [
    "dataset.columns"
   ],
   "outputs": [],
   "execution_count": null
  },
  {
   "cell_type": "markdown",
   "id": "4ffd5f26aa8dcb47",
   "metadata": {},
   "source": [
    "Vervolgens gebruiken we de `dtypes`-functie om de datatypen van elke kolom in de dataset te achterhalen. Dit helpt ons te begrijpen welke soort gegevens in elke kolom aanwezig zijn"
   ]
  },
  {
   "cell_type": "code",
   "id": "35890e7d780de1ad",
   "metadata": {},
   "source": [
    "dataset.dtypes"
   ],
   "outputs": [],
   "execution_count": null
  },
  {
   "cell_type": "markdown",
   "id": "894d3d7e9e788eca",
   "metadata": {},
   "source": [
    "We gebruiken de `describe`-functie om een overzicht te krijgen van de belangrijkste statistieken van de numerieke kolommen in de dataset. Deze functie geeft ons inzicht in de gemiddelde waarden, de spreiding, en de extremen van de data, waardoor we beter begrijpen hoe de gegevens zijn verdeeld."
   ]
  },
  {
   "cell_type": "code",
   "id": "b99853c5a1713722",
   "metadata": {},
   "source": [
    "dataset.describe()"
   ],
   "outputs": [],
   "execution_count": null
  },
  {
   "cell_type": "markdown",
   "id": "1a0de3bbc9c0ba4c",
   "metadata": {},
   "source": [
    "Voor een samenvatting van de niet-numerieke gegevens specificeren we in de `describe`-functie dat we ook objecttypen willen opnemen door `include='object'` toe te voegen."
   ]
  },
  {
   "cell_type": "code",
   "id": "cb131da9682ef2c7",
   "metadata": {},
   "source": [
    "dataset.describe(include='object')"
   ],
   "outputs": [],
   "execution_count": null
  },
  {
   "cell_type": "markdown",
   "id": "b060acd0983750e2",
   "metadata": {},
   "source": [
    "### Variabelen & Meetniveaus\n",
    "\n",
    "In deze analyse zijn de volgende variabelen overwogen met hun verwachte impact op de bruto-omzet (gross):\n",
    "\n",
    "- Director name & Actor names: De bekendheid van de regisseur en de hoofdrolspelers kan invloed hebben op de aantrekkingskracht van de film en daarmee de bruto-omzet.\n",
    "- Facebook Likes: De sociale media populariteit van de regisseur en de acteurs kan de zichtbaarheid van de film vergroten en zo invloed op de bruto-omzet hebben.\n",
    "- Budget: Een hoger budget kan leiden tot hogere bruto-omzet.\n",
    "- IMDB score: Een hogere score op IMDB wijst vaak op betere filmkwaliteit en kan leiden tot meer kijkers en daarmee hogere bruto-omzet.\n",
    "\n",
    "\n",
    "| Feature                 | Afhankelijk/Onafhankelijk | Meetniveau |\n",
    "|:------------------------|:--------------------------|:-----------|\n",
    "| Director Name           | Onafhankelijk             | Nominaal   |\n",
    "| Actor 1 Name            | Onafhankelijk             | Nominaal   |\n",
    "| Actor 2 Name            | Onafhankelijk             | Nominaal   |\n",
    "| Actor 3 Name            | Onafhankelijk             | Nominaal   |\n",
    "| Director Facebook Likes | Onafhankelijk             | Discreet   |\n",
    "| Actor 1 Facebook Likes  | Onafhankelijk             | Discreet   |\n",
    "| Actor 2 Facebook Likes  | Onafhankelijk             | Discreet   |\n",
    "| Actor 3 Facebook Likes  | Onafhankelijk             | Discreet   |\n",
    "| Movie Facebook Likes    | Onafhankelijk             | Discreet   |\n",
    "| Budget                  | Onafhankelijk             | Continu    |\n",
    "| IMDB Score              | Onafhankelijk             | Discreet   |\n",
    "| Gross                   | Afhankelijk               | Continu    |"
   ]
  },
  {
   "cell_type": "code",
   "id": "ade8058961df6a2c",
   "metadata": {},
   "source": [
    "kolommen = ['director_name', 'actor_1_name', 'actor_2_name', 'actor_3_name', 'director_facebook_likes', 'actor_1_facebook_likes', 'actor_2_facebook_likes', 'actor_3_facebook_likes', 'cast_total_facebook_likes','movie_facebook_likes', 'budget', 'imdb_score', 'gross']\n",
    "data_analyse = dataset[kolommen]\n",
    "data_analyse.head()\n"
   ],
   "outputs": [],
   "execution_count": null
  },
  {
   "cell_type": "code",
   "id": "e9ceaba0ec53ea32",
   "metadata": {},
   "source": [
    "data_analyse.describe()"
   ],
   "outputs": [],
   "execution_count": null
  },
  {
   "cell_type": "markdown",
   "id": "d595b5b2ec119700",
   "metadata": {},
   "source": [
    "### Target\n",
    "De targetvariabele in dit onderzoek is de Bruto-omzet `gross`. Deze variabele vertegenwoordigt de inkomsten van een film.\n",
    "\n",
    "Om inzicht te krijgen in de verspreiding van de bruto-omzetwaarden, zullen er twee histogrammen worden gebruikt. De eerste is zonder limiet hierin is het mogelijk om ook de uitschieters te zien. De tweede is ingezoomd op de waarde tot max 100 Miljoen. Dit helpt om de verdeling van de omzet in de dataset te visualiseren en te identificeren of er sprake is van een normale verdeling, uitschieters of andere patronen die van invloed kunnen zijn op de analyses."
   ]
  },
  {
   "cell_type": "code",
   "id": "4b7674f88b7a5b0d",
   "metadata": {},
   "source": [
    "fig, axes = plt.subplots(1, 2, figsize=(14, 6))\n",
    "gross = data_analyse['gross'].dropna()\n",
    "sns.histplot(gross / 10**6, bins=50, ax=axes[0])\n",
    "axes[0].set_title('Bruto-omzetverdeling')\n",
    "axes[0].set_xlabel('Bruto-omzet (Miljoenen)')\n",
    "axes[0].set_ylabel('Frequentie')\n",
    "\n",
    "sns.histplot(dataset['gross'] / 10**6, bins=200, ax=axes[1])\n",
    "axes[1].set_title('Bruto-omzetverdeling met limiet (Max 100 miljoen)')\n",
    "axes[1].set_xlabel('Bruto-omzet (Miljoenen)')\n",
    "axes[1].set_ylabel('Frequentie')\n",
    "\n",
    "# Zet de x-as limiet tot maximaal 200 miljoen\n",
    "axes[1].set_xlim(0, 100)\n",
    "\n",
    "plt.tight_layout()\n",
    "plt.show()"
   ],
   "outputs": [],
   "execution_count": null
  },
  {
   "cell_type": "markdown",
   "id": "e7609b64f1d404de",
   "metadata": {},
   "source": [
    "Uit de histogrammen blijkt dat een groot deel van de `gross` waarden zich rond nul bevindt. Dit wijst mogelijk op een aanzienlijk aantal ontbrekende of ongeldige waarden in de dataset. Het kan zijn dat voor veel films de bruto-omzet ontbreekt. Dit zou de betrouwbaarheid van verdere analyses kunnen beïnvloeden."
   ]
  },
  {
   "cell_type": "code",
   "id": "a09abdf93118f873",
   "metadata": {},
   "source": [
    "omzet = data_analyse['gross'].dropna()\n",
    "omzet_log = np.log10(omzet + 1)\n",
    "\n",
    "# Seaborn histogram plotten\n",
    "plt.figure(figsize=(8, 6))\n",
    "sns.histplot(omzet_log, bins=50, color='skyblue', edgecolor='black')\n",
    "\n",
    "# Titel en labels toevoegen\n",
    "plt.title('Bruto-omzet van films')\n",
    "plt.xlabel('Bruto-omzet')\n",
    "plt.ylabel('Aantal films')\n",
    "plt.xticks(ticks=range(10), labels=[\"1\",\"10\",\"100\",\"1k\",\"10k\",\"100k\",\"1M\", \"10M\", \"100M\", \"1B\"])\n",
    "\n",
    "plt.grid(True)\n",
    "plt.show()"
   ],
   "outputs": [],
   "execution_count": null
  },
  {
   "cell_type": "markdown",
   "id": "ff1c71975a705d02",
   "metadata": {},
   "source": "Er is gekozen om een log10-transformatie toe te passen op de Bruot-omzet in plaats van een standaard histogram. Dit komt doordat er in de dataset veel films zijn met een bruto-omzet van 0 of zeer lage waarden. Door deze waarden op een lineaire schaal weer te geven, zouden de meeste films in een enkele categorie vallen, wat een onduidelijke visualisatie oplevert met weinig inzicht in de spreiding van de bruto-omzetten. De logaritmische schaal comprimeert de hoge uitschieters en spreidt de lagere waarden beter uit, waardoor de onderlinge verschillen beter zichtbaar worden en de visualisatie meer informatieve waarde krijgt."
  },
  {
   "cell_type": "markdown",
   "id": "71bc6a1cef156267",
   "metadata": {},
   "source": [
    "### Features\n",
    "\n",
    "#### Facebook likes\n",
    "Om inzicht te krijgen in de populariteit van de verschillende actoren en de regisseur, hebben we de verdeling van de Facebook-likes per persoon afzonderlijk gevisualiseerd in de vorm van histogrammen. Deze grafieken tonen de frequentie van het aantal likes van de `director`, `acteur 1`, `acteur 2`, `acteur 3`, `cast_total` en de `movie`."
   ]
  },
  {
   "cell_type": "code",
   "id": "e058a0b8560dca0d",
   "metadata": {},
   "source": [
    "dataset['director_facebook_likes'].describe()"
   ],
   "outputs": [],
   "execution_count": null
  },
  {
   "cell_type": "code",
   "id": "a27e9a116a4e0636",
   "metadata": {},
   "source": [
    "_, axes = plt.subplots(3, 2, figsize=(12, 10))\n",
    "\n",
    "# Logaritmische transformatie van de 'director_facebook_likes' om uitschieters te comprimeren\n",
    "director_likes = dataset['director_facebook_likes'].dropna()\n",
    "director_likes_log = np.log10(director_likes + 1)\n",
    "sns.histplot(director_likes_log, bins=20, kde=False, ax=axes[0, 0])\n",
    "\n",
    "axes[0, 0].set_title('Regisseur FB Likes')\n",
    "axes[0, 0].set_xlabel('Aantal Likes')\n",
    "axes[0, 0].set_ylabel('Frequentie')\n",
    "axes[0, 0].set_xticks([0, 1, 2, 3, 4, 5])\n",
    "axes[0, 0].set_xticklabels([\"1\",\"10\",\"100\",\"1k\",\"10k\",\"100k\"])\n",
    "\n",
    "# Logaritmische transformatie van de 'actor_1_facebook_likes' om uitschieters te comprimeren\n",
    "actor_1_likes = dataset['actor_1_facebook_likes'].dropna()\n",
    "actor_1_likes_log = np.log10(actor_1_likes + 1)\n",
    "sns.histplot(actor_1_likes_log, bins=20, kde=False, ax=axes[0, 1])\n",
    "\n",
    "axes[0, 1].set_title('Acteur 1 FB Likes')\n",
    "axes[0, 1].set_xlabel('Aantal Likes')\n",
    "axes[0, 1].set_ylabel('Frequentie')\n",
    "axes[0, 1].set_xticks([0, 1, 2, 3, 4, 5, 6])\n",
    "axes[0, 1].set_xticklabels([\"1\",\"10\",\"100\",\"1k\",\"10k\",\"100k\",\"1M\"])\n",
    "\n",
    "# Logaritmische transformatie van de 'actor_2_facebook_likes' om uitschieters te comprimeren\n",
    "actor_2_likes = dataset['actor_2_facebook_likes'].dropna()\n",
    "actor_2_likes_log = np.log10(actor_2_likes + 1)\n",
    "sns.histplot(actor_2_likes_log, bins=20, kde=False, ax=axes[1, 0])\n",
    "\n",
    "axes[1, 0].set_title('Acteur 2 FB Likes')\n",
    "axes[1, 0].set_xlabel('Aantal Likes')\n",
    "axes[1, 0].set_ylabel('Frequentie')\n",
    "axes[1, 0].set_xticks([0, 1, 2, 3, 4, 5, 6])\n",
    "axes[1, 0].set_xticklabels([\"1\",\"10\",\"100\",\"1k\",\"10k\",\"100k\",\"1M\"])\n",
    "\n",
    "# Logaritmische transformatie van de 'actor_3_facebook_likes' om uitschieters te comprimeren\n",
    "actor_3_likes = dataset['actor_3_facebook_likes'].dropna()\n",
    "actor_3_likes_log = np.log10(actor_3_likes + 1)\n",
    "sns.histplot(actor_3_likes_log, bins=20, kde=False, ax=axes[1, 1])\n",
    "\n",
    "axes[1, 1].set_title('Acteur 3 FB Likes')\n",
    "axes[1, 1].set_xlabel('Aantal Likes')\n",
    "axes[1, 1].set_ylabel('Frequentie')\n",
    "axes[1, 1].set_xticks([0, 1, 2, 3, 4, 5, 6])\n",
    "axes[1, 1].set_xticklabels([\"1\",\"10\",\"100\",\"1k\",\"10k\",\"100k\",\"1M\"])\n",
    "\n",
    "# Logaritmische transformatie van de 'cast_total_facebook_likes' om uitschieters te comprimeren\n",
    "cast_total_likes = dataset['cast_total_facebook_likes'].dropna()\n",
    "cast_total_likes_log = np.log10(cast_total_likes + 1)\n",
    "sns.histplot(cast_total_likes_log, bins=20, kde=False, ax=axes[2, 0])\n",
    "\n",
    "axes[2, 0].set_title('Cast Total FB Likes')\n",
    "axes[2, 0].set_xlabel('Aantal Likes')\n",
    "axes[2, 0].set_ylabel('Frequentie')\n",
    "axes[2, 0].set_xticks([0, 1, 2, 3, 4, 5, 6])\n",
    "axes[2, 0].set_xticklabels([\"1\", \"10\", \"100\", \"1k\", \"10k\", \"100k\", \"1M\"])\n",
    "\n",
    "# Logaritmische transformatie van de 'movie_facebook_likes' om uitschieters te comprimeren\n",
    "movie_likes = dataset['movie_facebook_likes'].dropna()\n",
    "movie_likes_log = np.log10(movie_likes + 1)\n",
    "sns.histplot(movie_likes_log, bins=20, kde=False, ax=axes[2, 1])\n",
    "\n",
    "axes[2, 1].set_title('Movie Facebook Likes')\n",
    "axes[2, 1].set_xlabel('Aantal Likes')\n",
    "axes[2, 1].set_ylabel('Frequentie')\n",
    "axes[2, 1].set_xticks([0, 1, 2, 3, 4, 5, 6])\n",
    "axes[2, 1].set_xticklabels([\"1\", \"10\", \"100\", \"1k\", \"10k\", \"100k\", \"1M\"])\n",
    "\n",
    "plt.tight_layout()\n",
    "plt.show()"
   ],
   "outputs": [],
   "execution_count": null
  },
  {
   "cell_type": "markdown",
   "id": "ad19aa162f610290",
   "metadata": {},
   "source": [
    "#### IMDB-Score"
   ]
  },
  {
   "cell_type": "code",
   "id": "1c6a849b1865520f",
   "metadata": {},
   "source": [
    "# Veronderstel dat de dataset al geladen is en IMDb-scores bevat\n",
    "imdb_scores = data_analyse['imdb_score'].dropna()\n",
    "\n",
    "# Maak een boxplot voor de IMDb-scores\n",
    "plt.figure(figsize=(8, 6))\n",
    "sns.boxplot(x=imdb_scores)\n",
    "\n",
    "# Instellen van de titel en labels\n",
    "plt.title('IMDB Scores')\n",
    "plt.ylabel('Cijfer IMDB')\n",
    "\n",
    "# Weergeven van de plot\n",
    "plt.grid(True)\n",
    "plt.show()\n"
   ],
   "outputs": [],
   "execution_count": null
  },
  {
   "cell_type": "markdown",
   "id": "573f18cdc6c48361",
   "metadata": {},
   "source": [
    "#### Budget"
   ]
  },
  {
   "cell_type": "code",
   "id": "c096587b32e97846",
   "metadata": {},
   "source": [
    "budget = data_analyse['budget'].dropna()\n",
    "budget_log = np.log10(budget + 1)\n",
    "\n",
    "# Seaborn histogram plotten\n",
    "plt.figure(figsize=(8, 6))\n",
    "sns.histplot(budget_log, bins=50, color='skyblue', edgecolor='black')\n",
    "\n",
    "# Titel en labels toevoegen\n",
    "plt.title('Budget')\n",
    "plt.xlabel('Budget')\n",
    "plt.ylabel('Aantal films')\n",
    "plt.xticks(ticks=range(11), labels=[\"1\",\"10\",\"100\",\"1k\",\"10k\",\"100k\",\"1M\", \"10M\", \"100M\", \"1B\", \"10B\"])\n",
    "\n",
    "plt.grid(True)\n",
    "plt.show()"
   ],
   "outputs": [],
   "execution_count": null
  },
  {
   "cell_type": "markdown",
   "id": "6312f581b750a775",
   "metadata": {},
   "source": [
    "## Data Kwaliteit\n",
    "\n",
    "### Missende Waarden\n",
    "Met de functie `isnull` kunnen we controleren hoeveel missende waarden we hebben. Hier voegen we nog een check aan toe om te kijken hoevel waarden 0 zijn"
   ]
  },
  {
   "cell_type": "code",
   "id": "ab6acbc0cd62a12d",
   "metadata": {},
   "source": [
    "(data_analyse.isnull() | (data_analyse == 0)).sum()\n"
   ],
   "outputs": [],
   "execution_count": null
  },
  {
   "cell_type": "markdown",
   "id": "385bb83c9fd0d28",
   "metadata": {},
   "source": [
    "### Duplicate data\n",
    "Met de functie `duplicated` checken we of er duplicates in de data zijn. Dit checken we door de waarde van kolommen `movie_title` en `movie_imdb_link` mee te geven aangezien dit eigenlijk de unieke waarden zouden moeten zijn."
   ]
  },
  {
   "cell_type": "code",
   "id": "3cd8f82225d49040",
   "metadata": {},
   "source": [
    "dataset[dataset.duplicated(['movie_title', 'movie_imdb_link'])]"
   ],
   "outputs": [],
   "execution_count": null
  },
  {
   "cell_type": "markdown",
   "id": "1a95e0287ed9046a",
   "metadata": {},
   "source": [
    "### Uitschieters"
   ]
  },
  {
   "cell_type": "code",
   "id": "a1daa232ad9b4a69",
   "metadata": {},
   "source": [
    "def bepaal_uitschieters(kolom):\n",
    "\n",
    "        # Q1, Q3 en IQR bepalen\n",
    "        q1 = data_analyse[kolom].quantile(0.25)\n",
    "        q3 = data_analyse[kolom].quantile(0.75)\n",
    "        iqr = q3 - q1\n",
    "\n",
    "        # Limieten uitschieters berekenen\n",
    "        klein_laag = q1 - 1.5 * iqr\n",
    "        klein_hoog = q3 + 1.5 * iqr\n",
    "        extreem_laag = q1 - 3 * iqr\n",
    "        extreem_hoog = q3 + 3 * iqr\n",
    "\n",
    "        print(f\"Kolom: {kolom}\")\n",
    "        print(F\"Totaal aantal waarden: {data_analyse[kolom].count()}\")\n",
    "        # Kleine uitschieters (1.5 - 3 IQR)\n",
    "        kleine_uitschieters = data_analyse[kolom][((data_analyse[kolom] < klein_laag) & (data_analyse[kolom] > extreem_laag)) | ((data_analyse[kolom] > klein_hoog) & (data_analyse[kolom] < extreem_hoog))]\n",
    "        print(f\"Kleine uitschieters: {kleine_uitschieters.count()} ({kleine_uitschieters.count() / data_analyse[kolom].count() * 100:.2f}%)\")\n",
    "    \n",
    "        # Extreme uitschieters (3+ IQR)\n",
    "        extreme_uitschieters = data_analyse[kolom][(data_analyse[kolom] < extreem_laag) | (data_analyse[kolom] > extreem_hoog)]\n",
    "        print(f\"Extreme uitschieters: {extreme_uitschieters.count()} ({extreme_uitschieters.count() / data_analyse[kolom].count() * 100:.2f}%)\")"
   ],
   "outputs": [],
   "execution_count": null
  },
  {
   "cell_type": "code",
   "id": "dc1c07b2",
   "metadata": {},
   "source": [
    "bepaal_uitschieters('director_facebook_likes')"
   ],
   "outputs": [],
   "execution_count": null
  },
  {
   "cell_type": "code",
   "id": "f2929942",
   "metadata": {},
   "source": [
    "bepaal_uitschieters('actor_1_facebook_likes')"
   ],
   "outputs": [],
   "execution_count": null
  },
  {
   "cell_type": "code",
   "id": "3619c0b0",
   "metadata": {},
   "source": [
    "bepaal_uitschieters('actor_2_facebook_likes')"
   ],
   "outputs": [],
   "execution_count": null
  },
  {
   "cell_type": "code",
   "id": "dc1d1356",
   "metadata": {},
   "source": [
    "bepaal_uitschieters('actor_3_facebook_likes')"
   ],
   "outputs": [],
   "execution_count": null
  },
  {
   "cell_type": "code",
   "id": "7f3e5570",
   "metadata": {},
   "source": [
    "bepaal_uitschieters('cast_total_facebook_likes')"
   ],
   "outputs": [],
   "execution_count": null
  },
  {
   "cell_type": "code",
   "id": "a9891640",
   "metadata": {},
   "source": [
    "bepaal_uitschieters('movie_facebook_likes')"
   ],
   "outputs": [],
   "execution_count": null
  },
  {
   "cell_type": "code",
   "id": "eddd4fb0",
   "metadata": {},
   "source": [
    "bepaal_uitschieters('budget')"
   ],
   "outputs": [],
   "execution_count": null
  },
  {
   "cell_type": "code",
   "id": "42632b5e",
   "metadata": {},
   "source": [
    "bepaal_uitschieters('gross')"
   ],
   "outputs": [],
   "execution_count": null
  },
  {
   "cell_type": "markdown",
   "id": "5edd885e",
   "metadata": {},
   "source": [
    "## Waarnemingen\n",
    "\n",
    "- movie_facebook_likes heeft 930 extreme uitschieters, dat is behoorlijk veel. Zoals eerder benoemd, komt dit waarschijnlijk doordat er veel films zijn zonder facebook pagina, wat geregistreerd wordt als 0 likes.\n",
    "\n",
    "- imdb_score heeft 0 extreme uitschieters. Dit lijkt ons logisch omdat de imdb score voor een film altijd tussen de 1 en 10 ligt. Er zal dus nooit een waarde van bijvoorbeeld 100 moeten zijn, wat een extreme uitschieter zou zijn.\n",
    "\n",
    "- De kolommen movie_facebook_likes en imdb_score hebben beide 5043 waarden, maar budget en gross hebben minder waarden (4551 en 4159 waarden).  \n",
    "We zullen hier een oplossing voor moeten vinden, door bijvoorbeeld de rijen met missende waarden te droppen van de dataset.\n",
    "\n",
    "- Q1 voor movie_facebook_likes is 0, dit betekent dat ten minste 25% van de films 0 facebook likes hebben. Dit komt waarschijnlijk omdat deze films geen facebook-pagina hebben."
   ]
  },
  {
   "cell_type": "markdown",
   "id": "4d6ab33ae8201a5e",
   "metadata": {},
   "source": [
    "# 3. Data preparation\n",
    "\n",
    "\n",
    "## Data Cleaning"
   ]
  },
  {
   "metadata": {},
   "cell_type": "code",
   "source": "#TODO : titels hebben nog een chasing spatie",
   "id": "7be2556f76295d5",
   "outputs": [],
   "execution_count": null
  },
  {
   "metadata": {},
   "cell_type": "markdown",
   "source": [
    "### Verwerken van de IMDb-link\n",
    "In deze stap verwijderen we de volledige IMDb-link omdat we deze niet nodig hebben voor onze analyse. We extraheren echter de `imdb_id` uit de link, die we later kunnen gebruiken om de dataset te koppelen aan een externe dataset.\n"
   ],
   "id": "d0a8d8c6fe7d8852"
  },
  {
   "cell_type": "code",
   "id": "ef793c4d749b89c9",
   "metadata": {},
   "source": "dataset['movie_imdb_link'] = dataset['movie_imdb_link'].str.slice(start=28, stop=-17)",
   "outputs": [],
   "execution_count": null
  },
  {
   "metadata": {},
   "cell_type": "markdown",
   "source": [
    "### kolomnamen\n",
    "In deze stap wijzigen we de kolomnamen van de dataset naar het Nederlands voor een betere leesbaarheid en consistentie. Dit helpt om de data-analyse en rapportage te vergemakkelijken.\n"
   ],
   "id": "875c487abcff0878"
  },
  {
   "cell_type": "code",
   "id": "2c0b5fd2dc2a48e7",
   "metadata": {},
   "source": [
    "dataset.rename(columns={\n",
    "    'director_name': 'directeur',\n",
    "    'director_facebook_likes': 'directeur_likes',\n",
    "    'actor_1_name': 'acteur_1',\n",
    "    'actor_1_facebook_likes': 'acteur_1_likes',\n",
    "    'actor_2_name': 'acteur_2',\n",
    "    'actor_2_facebook_likes': 'acteur_2_likes',\n",
    "    'actor_3_name': 'acteur_3',\n",
    "    'actor_3_facebook_likes': 'acteur_3_likes',\n",
    "    'cast_total_facebook_likes': 'cast_totaal_likes',\n",
    "    'movie_facebook_likes': 'film_likes',\n",
    "    'movie_title': 'titel',\n",
    "    'movie_imdb_link': 'imdb_id',\n",
    "    'gross': 'omzet',\n",
    "    'country': 'land',\n",
    "    'budget': 'budget',\n",
    "    'imdb_score': 'imdb_score',\n",
    "}, inplace=True)"
   ],
   "outputs": [],
   "execution_count": null
  },
  {
   "cell_type": "markdown",
   "id": "f8a975cc7ce2165a",
   "metadata": {},
   "source": [
    "### Drop NaN\n",
    "In deze stap controleren we op ontbrekende waarden in de kolommen die essentieel zijn voor onze analyses. We hebben ervoor gekozen om rijen met ontbrekende waarden te verwijderen in plaats van ze op te vullen, omdat het invullen van ontbrekende gegevens kan leiden tot vertekening van de analyses.\n"
   ]
  },
  {
   "cell_type": "code",
   "id": "afa884720ac34b8d",
   "metadata": {},
   "source": [
    "columns_to_check = [\n",
    "    'directeur',\n",
    "    'acteur_1',\n",
    "    'acteur_2',\n",
    "    'acteur_3',\n",
    "    'directeur_likes',\n",
    "    'acteur_1_likes',\n",
    "    'acteur_2_likes',\n",
    "    'acteur_3_likes',\n",
    "    'budget',\n",
    "    'omzet'\n",
    "]\n",
    "\n",
    "# Controleer op ontbrekende waarden in de specifieke kolommen\n",
    "missing_values = dataset[columns_to_check].isna().sum()\n",
    "\n",
    "# Print de resultaten\n",
    "print(\"Ontbrekende waarden per kolom:\\n\", missing_values)\n",
    "\n",
    "dataset = dataset.dropna(subset=columns_to_check)"
   ],
   "outputs": [],
   "execution_count": null
  },
  {
   "cell_type": "markdown",
   "id": "1196974a962cd27b",
   "metadata": {},
   "source": [
    "### Drop Duplicates \n",
    "In deze stap controleren we de dataset op duplicaten. Duplicaten kunnen ontstaan door foutieve gegevensinvoer of tijdens het samenvoegen van meerdere datasets.\n",
    "\n",
    "In deze code controleren we specifiek op duplicaten op basis van de kolom `titel`, omdat we ervan uitgaan dat elke film een unieke titel moet hebben.\n",
    " \n",
    "Na het identificeren van de duplicaten, verwijderen we deze om ervoor te zorgen dat onze dataset alleen unieke films bevat.\n"
   ]
  },
  {
   "cell_type": "code",
   "id": "7b1b6f6c338f2b38",
   "metadata": {},
   "source": [
    "# Controleert het aantal duplicates in de dataset.\n",
    "totaal_duplicates = dataset.duplicated(['titel']).sum()\n",
    "print(f\"Aantal duplicates in de dataset: {totaal_duplicates}\")\n",
    "\n",
    "# Verwijder duplicates gebaseerd op de 'titel' kolom\n",
    "dataset = dataset.drop_duplicates(['titel'])\n",
    "\n",
    "# Controleer opnieuw of er nog duplicates zijn\n",
    "remaining_duplicates = dataset.duplicated(['titel']).sum()\n",
    "print(f\"Aantal duplicates na verwijdering: {remaining_duplicates}\")"
   ],
   "outputs": [],
   "execution_count": null
  },
  {
   "metadata": {},
   "cell_type": "markdown",
   "source": "### Local Currency to USD",
   "id": "5778bc8765d04e67"
  },
  {
   "cell_type": "code",
   "id": "49aa56976666ea16",
   "metadata": {},
   "source": [
    "# Lees het CSV-bestand met de wisselkoersen\n",
    "land_valuta_koers = pd.read_csv('land_valuta_koers.csv')\n",
    "\n",
    "# Maak een dictionary voor de wisselkoersen\n",
    "valuta_naar_usd_dict = pd.Series(land_valuta_koers['Koers_naar_USD'].values, index=land_valuta_koers['Land']).to_dict()\n",
    "\n",
    "# Pas de omzet aan op basis van het land en de wisselkoers en rond af op 2 decimalen\n",
    "dataset['omzet'] = dataset.apply(\n",
    "    lambda row: round(row['omzet'] * valuta_naar_usd_dict.get(row['land'], 1), 2),  # Gebruik 1 als standaardwaarde\n",
    "    axis=1\n",
    ")\n",
    "\n",
    "# Pas het budget aan op basis van het land en de wisselkoers en rond af op 2 decimalen\n",
    "dataset['budget'] = dataset.apply(\n",
    "    lambda row: round(row['budget'] * valuta_naar_usd_dict.get(row['land'], 1), 2),  # Gebruik 1 als standaardwaarde\n",
    "    axis=1\n",
    ")\n",
    "\n",
    "\n",
    "# de eerste paar rijen om te controleren of de omzet goed is aangepast\n",
    "dataset[['land', 'budget', 'omzet']].head()"
   ],
   "outputs": [],
   "execution_count": null
  },
  {
   "metadata": {},
   "cell_type": "markdown",
   "source": [
    "### Kolomvolgorde\n",
    "Het aanpassen van de volgorde van de kolommen in de dataset voor betere leesbaarheid en overzichtelijkheid.\n"
   ],
   "id": "96f6a029c96a5690"
  },
  {
   "metadata": {},
   "cell_type": "code",
   "source": [
    "dataset = dataset[\n",
    "    [\n",
    "        'titel',              # title\n",
    "        'directeur',          # director\n",
    "        'directeur_likes',    # director_facebook_likes\n",
    "        'acteur_1',           # actor_1\n",
    "        'acteur_1_likes',     # actor_1_facebook_likes\n",
    "        'acteur_2',           # actor_2\n",
    "        'acteur_2_likes',     # actor_2_facebook_likes\n",
    "        'acteur_3',           # actor_3\n",
    "        'acteur_3_likes',     # actor_3_facebook_likes\n",
    "        'cast_totaal_likes',   # cast_total_facebook_likes\n",
    "        'film_likes',        # movie_facebook_likes\n",
    "        'imdb_score',         # imdb_score\n",
    "        'budget',             # budget\n",
    "        'omzet'               # gross\n",
    "    ]]"
   ],
   "id": "1e23b52a5247cf52",
   "outputs": [],
   "execution_count": null
  },
  {
   "metadata": {},
   "cell_type": "code",
   "source": "dataset.head(10)",
   "id": "47ef69ef350e9940",
   "outputs": [],
   "execution_count": null
  },
  {
   "metadata": {},
   "cell_type": "markdown",
   "source": "### Exporteren Dataset",
   "id": "bdf3ec7b2a704bf0"
  },
  {
   "metadata": {},
   "cell_type": "code",
   "source": [
    "# Exporteer de dataset naar een CSV-bestand\n",
    "dataset.to_csv('films.csv', index=False)\n",
    "\n",
    "print(\"De dataset is succesvol geëxporteerd naar films.csv.\")"
   ],
   "id": "31f69f544621de06",
   "outputs": [],
   "execution_count": null
  },
  {
   "cell_type": "markdown",
   "id": "a23f7ab9cc3914ec",
   "metadata": {},
   "source": [
    "## Correlation Analysis\n",
    "\n",
    "### Facebook Likes"
   ]
  },
  {
   "cell_type": "code",
   "id": "67b0dcb1717d6e38",
   "metadata": {},
   "source": [
    "# TODO: beschrijving in markdown erboven\n",
    "dataset['totaal_likes'] = dataset['cast_totaal_likes'] + dataset['film_likes']\n",
    "plt.figure(figsize=(8, 8))\n",
    "plt.scatter(dataset['totaal_likes'], dataset['omzet'])\n",
    "plt.title('Scatterplot van totale likes vs omzet')\n",
    "plt.xlabel('Totaal aantal likes')\n",
    "plt.ylabel('Omzet (USD)')\n",
    "plt.grid(True)\n",
    "plt.show()\n",
    "correlatie = np.corrcoef(dataset['totaal_likes'], dataset['omzet'])[0,1]\n",
    "print(f\"De correlatie is {correlatie}\")"
   ],
   "outputs": [],
   "execution_count": null
  },
  {
   "cell_type": "markdown",
   "id": "fdbb5b8b018a7d1a",
   "metadata": {},
   "source": [
    "### budget\n"
   ]
  },
  {
   "cell_type": "code",
   "id": "35c19fa3bf36d7e7",
   "metadata": {},
   "source": [
    "# TODO: beschrijving in markdown erboven\n",
    "plt.figure(figsize=(8, 8))\n",
    "\n",
    "data = dataset[['budget', 'omzet']].dropna() #TODO: dit moet nog in cleaning opgelost worden\n",
    "\n",
    "plt.scatter(data['budget'], data['omzet'])\n",
    "plt.title('Scatterplot van budget vs omzet')\n",
    "plt.xlabel('Budget')\n",
    "plt.ylabel('Omzet (USD)')\n",
    "plt.grid(True)\n",
    "plt.show()\n",
    "correlatie = np.corrcoef(data['budget'], data['omzet'])[0,1]\n",
    "print(f\"De correlatie is {correlatie}\")"
   ],
   "outputs": [],
   "execution_count": null
  },
  {
   "cell_type": "markdown",
   "id": "b131ff2cf6b5c07b",
   "metadata": {},
   "source": [
    "### IMDB Score"
   ]
  },
  {
   "cell_type": "code",
   "id": "874f990440f624a9",
   "metadata": {},
   "source": [
    "# TODO: beschrijving in markdown erboven\n",
    "plt.figure(figsize=(8, 8))\n",
    "plt.scatter(dataset['imdb_score'], dataset['omzet'])\n",
    "plt.title('Scatterplot van imdb_score vs omzet')\n",
    "plt.xlabel('IMDB score')\n",
    "plt.ylabel('Omzet (USD)')\n",
    "plt.grid(True)\n",
    "plt.show()\n",
    "correlatie = np.corrcoef(dataset['imdb_score'], dataset['omzet'])[0,1]\n",
    "print(f\"De correlatie is {correlatie}\")"
   ],
   "outputs": [],
   "execution_count": null
  },
  {
   "cell_type": "markdown",
   "id": "7b8c8eb5b635302a",
   "metadata": {},
   "source": [
    "### Acteur \n",
    "\n",
    "Door films te herstructureren naar individuele film-acteur combinaties, kun je `acteur`-specifieke invloed op het succes van de film onderzoeken. Je kunt films clusteren op basis van de Facebook-likes van individuele acteurs en de bijbehorende filmomzet, en vervolgens patronen analyseren zoals welke acteurs de meeste invloed hebben op commerciële successen."
   ]
  },
  {
   "cell_type": "markdown",
   "id": "de066056d98f6b26",
   "metadata": {},
   "source": []
  },
  {
   "cell_type": "code",
   "id": "6bca42baec00e341",
   "metadata": {},
   "source": [
    "actor_dataset = dataset[['titel', 'acteur_1', 'acteur_2', 'acteur_3', 'acteur_1_likes', 'acteur_2_likes', 'acteur_3_likes', 'omzet']]\n",
    "\n",
    "# Reshape the DataFrame\n",
    "actor_data = pd.DataFrame({\n",
    "    'titel': actor_dataset['titel'].values.repeat(3),\n",
    "    'acteur': actor_dataset[['acteur_1', 'acteur_2', 'acteur_3']].values.flatten(),\n",
    "    'likes': actor_dataset[['acteur_1_likes', 'acteur_2_likes', 'acteur_3_likes']].values.flatten(),\n",
    "    'omzet': actor_dataset['omzet'].values.repeat(3)\n",
    "}).dropna()\n",
    "\n",
    "actor_data.head()"
   ],
   "outputs": [],
   "execution_count": null
  },
  {
   "cell_type": "code",
   "id": "7eda7d3b450f76f2",
   "metadata": {},
   "source": [
    "idx = actor_data.groupby('titel')['likes'].idxmax()\n",
    "\n",
    "# Selecteer alleen de rijen met de meeste likes per film\n",
    "actor_data = actor_data.loc[idx].reset_index(drop=True)\n",
    "actor_data.head()"
   ],
   "outputs": [],
   "execution_count": null
  },
  {
   "cell_type": "code",
   "id": "e75c9748d7d9129a",
   "metadata": {},
   "source": [
    "# Scatter plot: Likes vs Gross\n",
    "plt.figure(figsize=(8, 6))\n",
    "\n",
    "# Maak een nieuwe kolom met log10 van likes\n",
    "actor_data['log_likes'] = np.log10(actor_data['likes'] + 1)  # +1 om log(0) te vermijden\n",
    "\n",
    "# Scatterplot met log10 op de x-as\n",
    "sns.scatterplot(x='log_likes', y='omzet', data=actor_data)\n",
    "\n",
    "plt.title('Acteur Populariteit vs. Film omzet')\n",
    "plt.xlabel('Acteur Facebook Likes')\n",
    "plt.ylabel('Film omzet')\n",
    "plt.grid(True)\n",
    "plt.xticks(ticks=[0,1,2,3,4,5,6], labels=[\"1\", \"10\", \"100\", \"1k\", \"10k\", \"100k\", \"1M\"])  # Labels voor x-as\n",
    "plt.show()\n",
    "\n",
    "correlatie = np.corrcoef(actor_data['log_likes'], actor_data['omzet'])[0,1]\n",
    "print(f\"De correlatie is {correlatie}\")\n"
   ],
   "outputs": [],
   "execution_count": null
  },
  {
   "cell_type": "markdown",
   "id": "dc12af15",
   "metadata": {},
   "source": [
    "## Train test split voor baseline en regressie model\n"
   ]
  },
  {
   "cell_type": "code",
   "id": "72c9cea7",
   "metadata": {},
   "source": [
    "# Hier kiezen we onze features en het target. Daarnaast splitsen we de training en validatie.\n",
    "\n",
    "features = dataset[['imdb_score', 'film_likes', 'directeur_likes', \n",
    "        'acteur_1_likes', 'acteur_2_likes', \n",
    "        'acteur_3_likes', 'cast_totaal_likes']]\n",
    "\n",
    "target = dataset['omzet']\n",
    "\n",
    "features_train, features_val, target_train, target_val = train_test_split(features, target, random_state=70, test_size=0.23)\n",
    "print(\"Training set:\", features_train.shape, target_train.shape)\n",
    "print(\"Validatie set:\", features_val.shape, target_val.shape)"
   ],
   "outputs": [],
   "execution_count": null
  },
  {
   "cell_type": "markdown",
   "id": "427a3f3f",
   "metadata": {},
   "source": [
    "### Baseline model"
   ]
  },
  {
   "cell_type": "code",
   "id": "77eb4fcb",
   "metadata": {},
   "source": [
    "# In het baseline model berekenen we het gemiddelde uit van het target. We gebruiken een baseline model om te vergelijken met het\n",
    "# supervised learning model.\n",
    "\n",
    "gemiddelde_baseline = target_train.mean()\n",
    "\n",
    "baseline_voorspelling = [gemiddelde_baseline] * len(target_val)\n",
    "\n",
    "baseline_r2 = r2_score(target_val, baseline_voorspelling)\n",
    "score = baseline_r2 * 100\n",
    "print(f\"R2 score: {score:.2f}%\")"
   ],
   "outputs": [],
   "execution_count": null
  },
  {
   "cell_type": "markdown",
   "id": "faa90032",
   "metadata": {},
   "source": [
    "Een score van -0.03% betekent dat het model slechter voorspelt dan het gemiddelde. Het baseline model is daarom geen goed model om de target variabele 'gross' te voorspellen. "
   ]
  },
  {
   "cell_type": "markdown",
   "id": "2fcd3602",
   "metadata": {},
   "source": [
    "### Supervised learning model"
   ]
  },
  {
   "cell_type": "code",
   "id": "21bd1591",
   "metadata": {},
   "source": [
    "model = LinearRegression()\n",
    "model.fit(features_train, target_train)\n",
    "pd.DataFrame(model.coef_, features.columns, columns = ['Coeff'])\n",
    "\n",
    "target_pred = model.predict(features_val)\n",
    "r2 = r2_score(target_val, target_pred)\n",
    "score_percentage = r2 * 100\n",
    "print(f\"R2 score: {score_percentage:.2f}%\")"
   ],
   "outputs": [],
   "execution_count": null
  },
  {
   "cell_type": "markdown",
   "id": "bf7eb4be",
   "metadata": {},
   "source": [
    "Wat betekent een R² score van 29% precies?\n",
    "Een R² van 0.29 betekent dat het model slechts 29% van de variatie in de afhankelijke variabele in dit geval omzet verklaart. Dit betekent dat 71% van de variatie niet wordt verklaard door het model en door andere factoren komt. \n",
    "\n",
    "R² = 1 (100%) betekent dat het model perfect past en alle variatie in de data verklaart.\n",
    "R² = 0 (0%) betekent dat het model helemaal geen verklaring biedt voor de variatie in de data. Dit is even 'slecht' als het gemiddelde.\n",
    "\n",
    "Zoals hier boven te zien zit het model er redelijk vaak naast en enkele keren in de buurt. De conclusie die wij hieruit trekken is dat dit model met een score van 29% niet betrouwbaar is om de omzet te voorspellen."
   ]
  },
  {
   "cell_type": "code",
   "id": "34970b4b",
   "metadata": {},
   "source": [
    "plt.figure(figsize=(8,6))\n",
    "\n",
    "plt.scatter(target_val, target_pred, edgecolor='k')\n",
    "\n",
    "#Diagonale rode lijn die de perfecte voorspelling laat zien\n",
    "plt.plot([target_val.min(), target_val.max()], [target_val.min(), target_val.max()], color='red', linestyle='--')\n",
    "\n",
    "plt.title('Werkelijke waarde (omzet) vs voorspelde waarde (omzet)')\n",
    "plt.xlabel('Werkelijke waarde (omzet)')\n",
    "plt.ylabel('Voorspelde waarde (omzet)')\n",
    "plt.grid(True)\n",
    "plt.show()\n"
   ],
   "outputs": [],
   "execution_count": null
  },
  {
   "metadata": {},
   "cell_type": "markdown",
   "source": "De rode lijn in het plot is de perfect voorspelde waarde. In het plot kan je zien dat bij een lagere bruto inkomst het model beter werkt en naarmate de gross hoger wordt het steeds minder goed werkt.",
   "id": "d1f050f69e8f73f3"
  }
 ],
 "metadata": {
  "kernelspec": {
   "display_name": "Python 3 (ipykernel)",
   "language": "python",
   "name": "python3"
  },
  "language_info": {
   "codemirror_mode": {
    "name": "ipython",
    "version": 3
   },
   "file_extension": ".py",
   "mimetype": "text/x-python",
   "name": "python",
   "nbconvert_exporter": "python",
   "pygments_lexer": "ipython3",
   "version": "3.11.5"
  }
 },
 "nbformat": 4,
 "nbformat_minor": 5
}
