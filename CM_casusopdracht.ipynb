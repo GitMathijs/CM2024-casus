{
 "cells": [
  {
   "cell_type": "markdown",
   "id": "9792813af899c547",
   "metadata": {},
   "source": [
    "# Casusopdracht - Films\n",
    "\n",
    "**Klas:** V2B\n",
    "**Studenten:** \n",
    "- Roan Gaasbeek\n",
    "- Mathias Hendriks\n",
    "- Luc Pikaar\n"
   ]
  },
  {
   "cell_type": "code",
   "id": "9a3acdf323189db",
   "metadata": {},
   "source": [
    "import numpy as np\n",
    "import pandas as pd"
   ],
   "outputs": [],
   "execution_count": null
  },
  {
   "cell_type": "markdown",
   "id": "6c46f1a396bc8f4b",
   "metadata": {},
   "source": [
    "# 1. Business Understanding\n",
    "\n",
    "## Doelstelling\n",
    "Het doel van dit onderzoek is het vaststellen van de belangrijkste kenmerken (zoals budget\n",
    "IMDb-scores, en sociale media populariteit) van films die goed presteren, om te begrijpen welke\n",
    "factoren bijdragen aan success in de filmindustrie.\n",
    "\n",
    "## Onderzoeksvragen\n",
    "De volgende onderzoeksvragen worden behandeld in deze opdracht:\n",
    "\n",
    "1. In hoeverre is de omzet van een film te voorspellen op basis van de populariteit op **Facebook** en **IMDB**?\n",
    "2. In hoeverre beïnvloedt het slagen voor de Bechdeltest de omzet van een film?\n",
    "3. In hoeverre is het mogelijk om logische clusters te vinden o.b.v. onder andere budget en omzet? Denk aan blockbusters (hoog budget en hoge omzet), flops (hoog budget en lage omzet) of cultfilms (laag budget en hoge omzet). Je mag extra features toevoegen. "
   ]
  },
  {
   "cell_type": "markdown",
   "id": "497ab43ff62dbce0",
   "metadata": {},
   "source": [
    "# 2. Data understanding\n",
    "De tweede fase in **CRISP-DM** is de **data understanding** dit houdt in:\n",
    "- Data Collection\n",
    "- Data Exploration & Analysis\n",
    "\n",
    "## Data Collection\n",
    "\n",
    "### Movies dataset\n",
    "dit is de dataset die we uit deze opdracht hebben meegekregen\n",
    "\n",
    "### Bechdeltest\n",
    "De bechdel test is als volgt:\n",
    "1. It has to have at least two (named) women in it\n",
    "2. Who talk to each other\n",
    "3. About something besides a man\n",
    "\n",
    "https://bechdeltest.com/\n"
   ]
  },
  {
   "cell_type": "code",
   "id": "116c31332c59d6c6",
   "metadata": {},
   "source": [
    "# Dit is de casus dataset\n",
    "dataset = pd.read_csv('movie.csv')\n",
    "# dit is de gekozen externe dataset\n"
   ],
   "outputs": [],
   "execution_count": null
  },
  {
   "cell_type": "markdown",
   "id": "399e5c1bd9876e49",
   "metadata": {},
   "source": [
    "## Data Exploration & Analysis\n",
    "text hier om in het kort te beschrijven wat in dit stuk behandeld wordt\n",
    "\n",
    "### Algemene verkenning\n",
    "om een eerste blik te krijgen van de Data maken we gebruik van de **head** functie:"
   ]
  },
  {
   "cell_type": "code",
   "id": "b593b1c415c73ac9",
   "metadata": {},
   "source": [
    "dataset.head()"
   ],
   "outputs": [],
   "execution_count": null
  },
  {
   "cell_type": "markdown",
   "id": "6052061fa335db7a",
   "metadata": {},
   "source": [
    "Om in één blik de kolommen / potentiële features te kunnen zien gebruiken we de **columns** functie:"
   ]
  },
  {
   "cell_type": "code",
   "id": "70ec4cd8fbcbb8aa",
   "metadata": {},
   "source": [
    "dataset.columns"
   ],
   "outputs": [],
   "execution_count": null
  },
  {
   "cell_type": "markdown",
   "id": "8c99b52d2b787110",
   "metadata": {},
   "source": [
    "vervolgens gebruiken we de **dtypes** functie om de datatypen van elke kolom te krijgen"
   ]
  },
  {
   "cell_type": "code",
   "id": "89751cf695cb41a2",
   "metadata": {},
   "source": [
    "dataset.dtypes"
   ],
   "outputs": [],
   "execution_count": null
  },
  {
   "cell_type": "markdown",
   "id": "a0fe337ac6ad7260",
   "metadata": {},
   "source": [
    "We gebruiken de functie **describe** om een samenvatting te genereren van de numerieke kolommen  "
   ]
  },
  {
   "cell_type": "code",
   "id": "9d2b8c01457eb7e3",
   "metadata": {},
   "source": [
    "dataset.describe()"
   ],
   "outputs": [],
   "execution_count": null
  },
  {
   "cell_type": "markdown",
   "id": "6521c2ce28dd3bfd",
   "metadata": {},
   "source": [
    "Om de samenvatting van de niet numerieke data te krijgen moeten we dat specificeren in de **describe** functie"
   ]
  },
  {
   "cell_type": "code",
   "id": "3d32eec8ef35a87b",
   "metadata": {},
   "source": [
    "dataset.describe(include='object')"
   ],
   "outputs": [],
   "execution_count": null
  },
  {
   "metadata": {},
   "cell_type": "markdown",
   "source": [
    "### Target\n",
    "/// in dit stukje kunnen we om beter inzicht te krijgen in de targetvariabele wat visualisaties neerzetten"
   ],
   "id": "8f1d23c0f71ad8e"
  },
  {
   "metadata": {},
   "cell_type": "code",
   "source": "",
   "id": "a9e47851235f6be3",
   "outputs": [],
   "execution_count": null
  },
  {
   "metadata": {},
   "cell_type": "markdown",
   "source": [
    "### Potential Features\n",
    "/// hier eerst een korte uitleg waarom we bepaalde features kiezen om te exploren dus al een soort mini hyphothese hoeft niet langer dan een of twee zinnen per feature en dit combineren we met welke meetniveaus deze features hebben\n",
    "\n",
    "\n",
    "misschien kunnen we hier ook nog kort iets met namen van acteurs/director doen bijv gemiddelde opbrengst per acteur/director dan zien we gelijk of dit waardevolle data is"
   ],
   "id": "b22f3002730bec3d"
  },
  {
   "metadata": {},
   "cell_type": "code",
   "source": "",
   "id": "4e774cd6b35669dc",
   "outputs": [],
   "execution_count": null
  },
  {
   "cell_type": "markdown",
   "id": "81b26bd7d18cad6a",
   "metadata": {},
   "source": [
    "### Analyse van feature- en targetvariabelen\n",
    "\n",
    "Te onderzoeken featurevariabelen:  \n",
    "- movie_facebook_likes\n",
    "- imdb_score\n",
    "- budget\n",
    "\n",
    "Te onderzoeken targetvariabele:  \n",
    "- gross"
   ]
  },
  {
   "cell_type": "code",
   "id": "797268df",
   "metadata": {},
   "source": [
    "# Kolommen selecteren\n",
    "data_analyse = dataset['movie_facebook_likes', 'imdb_score', 'budget', 'gross']\n",
    "data_analyse\n"
   ],
   "outputs": [],
   "execution_count": null
  },
  {
   "cell_type": "code",
   "id": "30bfcc15",
   "metadata": {},
   "source": [
    "# Centrum- en spreidingsmaten\n",
    "data_analyse.describe()"
   ],
   "outputs": [],
   "execution_count": null
  },
  {
   "cell_type": "code",
   "id": "600de326",
   "metadata": {},
   "source": [
    "# Uitschieters bepalen\n",
    "for kolom in data_analyse:\n",
    "\n",
    "    # Q1, Q3 en IQR bepalen\n",
    "    q1 = data_analyse[kolom].quantile(0.25)\n",
    "    q3 = data_analyse[kolom].quantile(0.75)\n",
    "    iqr = q3 - q1\n",
    "\n",
    "    # Limieten uitschieters berekenen\n",
    "    klein_laag = q1 - 1.5 * iqr\n",
    "    klein_hoog = q3 + 1.5 * iqr\n",
    "    extreem_laag = q1 - 3 * iqr\n",
    "    extreem_hoog = q3 + 3 * iqr\n",
    "\n",
    "    print(data_analyse[kolom].name)\n",
    "\n",
    "    # Kleine uitschieters (1.5 - 3 IQR)\n",
    "    kleine_uitschieters = data_analyse[kolom][((data_analyse[kolom] < klein_laag) & (data_analyse[kolom] > extreem_laag)) | ((data_analyse[kolom] > klein_hoog) & (data_analyse[kolom] < extreem_hoog))]\n",
    "    print(f\"Kleine uitschieters: {kleine_uitschieters.count()}\")\n",
    " \n",
    "    # Extreme uitschieters (3+ IQR)\n",
    "    extreme_uitschieters = data_analyse[kolom][(data_analyse[kolom] < extreem_laag) | (data_analyse[kolom] > extreem_hoog)]\n",
    "    print(f\"Extreme uitschieters: {extreme_uitschieters.count()}\")"
   ],
   "outputs": [],
   "execution_count": null
  },
  {
   "cell_type": "markdown",
   "id": "5cccedca632995a8",
   "metadata": {},
   "source": [
    "## Data Kwaliteit\n",
    "Met de functie **isnull** kunnen we controleren hoeveel missende waarden we hebben"
   ]
  },
  {
   "cell_type": "code",
   "id": "d4091372",
   "metadata": {},
   "source": [
    "dataset.isnull().sum()"
   ],
   "outputs": [],
   "execution_count": null
  },
  {
   "cell_type": "markdown",
   "id": "6a98599fd64521fa",
   "metadata": {},
   "source": [
    "Met de functie **duplicated** checken we of er duplicates in de data zijn. Dit checken we door de waarde van kolommen **movie_title** en **movie_imdb_link** mee te geven aangezien dit eigenlijk de unieke waarden zouden moeten zijn."
   ]
  },
  {
   "cell_type": "code",
   "id": "3aa6f44ab0574de3",
   "metadata": {},
   "source": [
    "dataset[dataset.duplicated(['movie_title', 'movie_imdb_link'])]"
   ],
   "outputs": [],
   "execution_count": null
  },
  {
   "cell_type": "markdown",
   "id": "506582fe67c00a1a",
   "metadata": {},
   "source": [
    "## Waarnemingen\n",
    "\n",
    "- movie_facebook_likes heeft 930 extreme uitschieters, dat is behoorlijk veel. Zoals eerder benoemd, komt dit waarschijnlijk doordat er veel films zijn zonder facebook pagina, wat geregistreerd wordt als 0 likes.\n",
    "\n",
    "- imdb_score heeft 0 extreme uitschieters. Dit lijkt ons logisch omdat de imdb score voor een film altijd tussen de 1 en 10 ligt. Er zal dus nooit een waarde van bijvoorbeeld 100 moeten zijn, wat een extreme uitschieter zou zijn.\n",
    "\n",
    "- De kolommen movie_facebook_likes en imdb_score hebben beide 5043 waarden, maar budget en gross hebben minder waarden (4551 en 4159 waarden).  \n",
    "We zullen hier een oplossing voor moeten vinden, door bijvoorbeeld de rijen met missende waarden te droppen van de dataset.\n",
    "\n",
    "- Q1 voor movie_facebook_likes is 0, dit betekent dat ten minste 25% van de films 0 facebook likes hebben. Dit komt waarschijnlijk omdat deze films geen facebook-pagina hebben."
   ]
  },
  {
   "cell_type": "markdown",
   "id": "59f7ff3f72dc5102",
   "metadata": {},
   "source": "# 3. Data preparation\n"
  },
  {
   "cell_type": "code",
   "id": "5d41dbcd",
   "metadata": {},
   "source": [
    "#We hebben de link voor de imdb pagina niet nodig maar hierin staat wel de imdb_id die we later kunnen gebruiken om een externe dataset te koppelen.\n",
    "\n",
    "dataset['movie_imdb_link'] = dataset['movie_imdb_link'].str.slice(start=28, stop=-17)"
   ],
   "outputs": [],
   "execution_count": null
  },
  {
   "cell_type": "code",
   "id": "c37891ab",
   "metadata": {},
   "source": [
    "#Veranderen van een paar column namen\n",
    "dataset.rename(columns={'director_name':'director', 'movie_title':'title', 'movie_imdb_link':'imdb_id'}, inplace=True)"
   ],
   "outputs": [],
   "execution_count": null
  },
  {
   "cell_type": "markdown",
   "id": "010284b0",
   "metadata": {},
   "source": [
    "# Color Feature"
   ]
  },
  {
   "cell_type": "code",
   "id": "5b027af4",
   "metadata": {},
   "source": [
    "dataset.describe(include=\"all\")\n",
    "totaal_films = dataset['color'].count()\n",
    "\n",
    "kleur_films = dataset[dataset['color'] == 'Color'].shape[0]\n",
    "\n",
    "zw_films = dataset[dataset['color'] != 'Color'].shape[0]  \n",
    "\n",
    "percentage_kleur = (kleur_films / totaal_films) * 100\n",
    "percentage_zw = (zw_films / totaal_films) * 100\n",
    "\n",
    "print(f\"Percentage gekleurde films: {percentage_kleur:.2f}%\")\n",
    "print(f\"Percentage zwart-wit films: {percentage_zw:.2f}%\")\n"
   ],
   "outputs": [],
   "execution_count": null
  },
  {
   "cell_type": "code",
   "id": "c27ae720",
   "metadata": {},
   "source": [
    "#Zoals hierboven zijn bijna 96% van de films in kleur, daarom ervoor gekozen om deze kolom te droppen.\n",
    "dataset.drop(['color'], axis = 1, inplace=True)\n"
   ],
   "outputs": [],
   "execution_count": null
  },
  {
   "cell_type": "markdown",
   "id": "e989f015",
   "metadata": {},
   "source": [
    "# Duration Feature"
   ]
  },
  {
   "cell_type": "code",
   "id": "4a1c1510",
   "metadata": {},
   "source": [
    "#De duration kan invloed hebben op kijkersbeoordelingen, maar minder op omzet of andere clusters.\n",
    "dataset.drop(['duration'], axis = 1, inplace=True)"
   ],
   "outputs": [],
   "execution_count": null
  },
  {
   "cell_type": "markdown",
   "id": "01b427c5",
   "metadata": {},
   "source": [
    "# Actors Like Feature"
   ]
  },
  {
   "cell_type": "code",
   "id": "18dfc11a",
   "metadata": {},
   "source": [
    "#We hebben besloten om de cast_total_facebook_likes te gebruiken, omdat het een beter algemeen beeld geeft.\n",
    "dataset.drop(['actor_1_facebook_likes', 'actor_2_facebook_likes', 'actor_3_facebook_likes'], axis = 1, inplace=True)"
   ],
   "outputs": [],
   "execution_count": null
  },
  {
   "cell_type": "markdown",
   "id": "997db7d6",
   "metadata": {},
   "source": [
    "# Aspect Ratio Feature"
   ]
  },
  {
   "cell_type": "code",
   "id": "05c10e0a",
   "metadata": {},
   "source": [
    "#Aspect ratio is niet relevant\n",
    "dataset.drop(['aspect_ratio'], axis = 1, inplace=True)"
   ],
   "outputs": [],
   "execution_count": null
  },
  {
   "cell_type": "markdown",
   "id": "d74be683",
   "metadata": {},
   "source": [
    "# Movie Imdb Link Feature"
   ]
  },
  {
   "cell_type": "code",
   "id": "b1b6271e",
   "metadata": {},
   "source": [
    "#Movie Imdb Link is ook niet relevant\n",
    "#dataset.drop(['movie_imdb_link'], axis = 1, inplace=True)"
   ],
   "outputs": [],
   "execution_count": null
  },
  {
   "cell_type": "markdown",
   "id": "a266db25",
   "metadata": {},
   "source": [
    "# Genre Feature"
   ]
  },
  {
   "cell_type": "code",
   "id": "347965ce",
   "metadata": {},
   "source": [
    "#We zijn niet van plan om genre op dit moment te gebruiken.\n",
    "dataset.drop(['genres'], axis = 1, inplace=True)\n"
   ],
   "outputs": [],
   "execution_count": null
  },
  {
   "cell_type": "markdown",
   "id": "7dd53127",
   "metadata": {},
   "source": [
    "# Users, Poster en Keywords Feature"
   ]
  },
  {
   "cell_type": "code",
   "id": "a915cdc0",
   "metadata": {},
   "source": [
    "dataset.drop(['num_voted_users', 'facenumber_in_poster','plot_keywords'], axis = 1, inplace=True)\n",
    "\n"
   ],
   "outputs": [],
   "execution_count": null
  },
  {
   "cell_type": "markdown",
   "id": "d73c3305",
   "metadata": {},
   "source": [
    "# Reviews Feature"
   ]
  },
  {
   "cell_type": "code",
   "id": "06f90d2d",
   "metadata": {},
   "source": [
    "#Kan interessant zijn voor een populariteitsanalyse, maar minder voor omzet of clustering\n",
    "dataset.drop(['num_user_for_reviews','num_critic_for_reviews'], axis = 1, inplace=True)\n",
    "\n"
   ],
   "outputs": [],
   "execution_count": null
  },
  {
   "cell_type": "markdown",
   "id": "dbdca4ce",
   "metadata": {},
   "source": [
    "# Content Rating Feature"
   ]
  },
  {
   "cell_type": "code",
   "id": "6ba7d7fc",
   "metadata": {},
   "source": [
    "#Niet relevant voor ons.\n",
    "dataset.drop(['content_rating' ], axis = 1, inplace=True)\n"
   ],
   "outputs": [],
   "execution_count": null
  },
  {
   "cell_type": "markdown",
   "id": "f3902a5a",
   "metadata": {},
   "source": [
    "# Title Year Feature"
   ]
  },
  {
   "cell_type": "code",
   "id": "7b4966d8",
   "metadata": {},
   "source": [
    "dataset.drop(['title_year'], axis = 1, inplace=True)\n"
   ],
   "outputs": [],
   "execution_count": null
  },
  {
   "cell_type": "markdown",
   "id": "f65f8b73",
   "metadata": {},
   "source": [
    "# Language en Country Feature"
   ]
  },
  {
   "cell_type": "code",
   "id": "d7cca6cb",
   "metadata": {},
   "source": [
    "dataset.drop(['language', 'country' ], axis = 1, inplace=True)\n"
   ],
   "outputs": [],
   "execution_count": null
  },
  {
   "cell_type": "markdown",
   "id": "913ee3ce",
   "metadata": {},
   "source": [
    "#  Gross Target"
   ]
  },
  {
   "cell_type": "code",
   "id": "0a660cc9",
   "metadata": {},
   "source": [
    "#Hier wordt het gemiddelde van de gross waardes die er zijn berekend\n",
    "gemiddelde_gross = dataset['gross'].mean()\n",
    "print(f\"Gemiddelde gross: ${gemiddelde_gross:.2f}\")\n"
   ],
   "outputs": [],
   "execution_count": null
  },
  {
   "cell_type": "code",
   "id": "4bff99f2",
   "metadata": {},
   "source": [
    "\n",
    "dataset.fillna({\"gross\" :48468407.53 }, inplace=True)"
   ],
   "outputs": [],
   "execution_count": null
  },
  {
   "cell_type": "markdown",
   "id": "2ef3fb18",
   "metadata": {},
   "source": [
    "#  Budget Target"
   ]
  },
  {
   "cell_type": "code",
   "id": "610aa0a7",
   "metadata": {},
   "source": [
    "gemiddelde_budget = dataset['budget'].mean()\n",
    "print(f\"Gemiddelde budget: ${gemiddelde_budget:.2f}\")\n"
   ],
   "outputs": [],
   "execution_count": null
  },
  {
   "cell_type": "code",
   "id": "84ad5787",
   "metadata": {},
   "source": [
    "dataset.fillna({\"budget\" :48468407.53 }, inplace=True)"
   ],
   "outputs": [],
   "execution_count": null
  },
  {
   "cell_type": "code",
   "id": "c82caf8c",
   "metadata": {},
   "source": [
    "dataset.head()\n"
   ],
   "outputs": [],
   "execution_count": null
  },
  {
   "cell_type": "markdown",
   "id": "1059e93d",
   "metadata": {},
   "source": [
    "# Datatypes"
   ]
  },
  {
   "cell_type": "code",
   "id": "7b0108a3",
   "metadata": {},
   "source": [],
   "outputs": [],
   "execution_count": null
  }
 ],
 "metadata": {
  "kernelspec": {
   "display_name": "Python 3 (ipykernel)",
   "language": "python",
   "name": "python3"
  },
  "language_info": {
   "codemirror_mode": {
    "name": "ipython",
    "version": 3
   },
   "file_extension": ".py",
   "mimetype": "text/x-python",
   "name": "python",
   "nbconvert_exporter": "python",
   "pygments_lexer": "ipython3",
   "version": "3.9.6"
  }
 },
 "nbformat": 4,
 "nbformat_minor": 5
}
