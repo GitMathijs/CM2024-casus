{
 "cells": [
  {
   "cell_type": "markdown",
   "id": "9792813af899c547",
   "metadata": {},
   "source": [
    "# Casusopdracht - Films\n",
    "\n",
    "**Klas:** V2B\n",
    "**Studenten:** \n",
    "- Roan Gaasbeek\n",
    "- Mathijs de Jong\n",
    "- Luc Pikaar\n"
   ]
  },
  {
   "cell_type": "code",
   "id": "44a89e05a94ac61f",
   "metadata": {
    "ExecuteTime": {
     "end_time": "2024-10-09T21:11:07.912495Z",
     "start_time": "2024-10-09T21:11:07.414639Z"
    }
   },
   "source": [
    "import numpy as np\n",
    "import pandas as pd\n",
    "import seaborn as sns\n",
    "import matplotlib.pyplot as plt\n"
   ],
   "outputs": [],
   "execution_count": 1
  },
  {
   "cell_type": "markdown",
   "id": "83de1bbcdd822c52",
   "metadata": {},
   "source": [
    "# 1. Business Understanding\n",
    "\n",
    "## Doelstelling\n",
    "Het doel van dit onderzoek is het vaststellen van de belangrijkste kenmerken (zoals budget\n",
    "IMDb-scores, en sociale media populariteit) van films die goed presteren, om te begrijpen welke\n",
    "factoren bijdragen aan succes in de filmindustrie.\n",
    "\n",
    "## Onderzoeksvragen\n",
    "De volgende onderzoeksvragen worden behandeld in deze opdracht:\n",
    "\n",
    "1. In hoeverre is de bruto-omzet van een film te voorspellen op basis van de populariteit op **Facebook** en **IMDB**?\n",
    "2. In hoeverre kan de IMDB-score van een film worden voorspeld op basis van de sociale media-populariteit van de cast (zoals Facebook-likes) en de bechdeltest rating uit de externe dataset?\n",
    "3. In hoeverre is het mogelijk om logische clusters te vinden o.b.v. `budget`, `omzet` en `IMDB-score`?"
   ]
  },
  {
   "cell_type": "markdown",
   "id": "15afebd94e3a3d7c",
   "metadata": {},
   "source": [
    "# 2. Data understanding\n",
    "De tweede fase in **CRISP-DM** is de **data understanding** dit houdt in:\n",
    "- Data Collection\n",
    "- Data Exploration & Analysis\n",
    "\n",
    "## Data Collection\n",
    "\n",
    "### Movies dataset\n",
    "dit is de dataset die we uit deze opdracht hebben meegekregen\n",
    "\n",
    "### Bechdeltest\n",
    "De bechdel test is als volgt:\n",
    "1. It has to have at least two (named) women in it\n",
    "2. Who talk to each other\n",
    "3. About something besides a man\n",
    "\n",
    "https://bechdeltest.com/\n"
   ]
  },
  {
   "cell_type": "code",
   "id": "875fca4a974d1313",
   "metadata": {
    "ExecuteTime": {
     "end_time": "2024-10-09T21:11:08.006332Z",
     "start_time": "2024-10-09T21:11:07.924475Z"
    }
   },
   "source": [
    "dataset = pd.read_csv('movie.csv')\n",
    "bechdel_dataset = pd.read_csv('bechdel.csv')"
   ],
   "outputs": [],
   "execution_count": 2
  },
  {
   "cell_type": "markdown",
   "id": "2547c164443534b9",
   "metadata": {},
   "source": [
    "## Data Exploration & Analysis\n",
    "In deze fase wordt de dataset grondig onderzocht om patronen, relaties en potentieel problematische gegevens te identificeren. Het doel van data exploration is om een eerste inzicht te krijgen in de structuur van de data, trends te ontdekken en belangrijke kenmerken te identificeren die verder onderzocht moeten worden.\n",
    "\n",
    "### Algemene verkenning\n",
    "Om een eerste indruk van de dataset te krijgen, maken we gebruik van de `head`-functie. Deze functie geeft een overzicht van de eerste paar rijen van de dataset, waardoor we snel inzicht krijgen in de structuur van de data."
   ]
  },
  {
   "cell_type": "code",
   "id": "1a6fbc1d1b96c509",
   "metadata": {
    "ExecuteTime": {
     "end_time": "2024-10-09T21:11:08.134707Z",
     "start_time": "2024-10-09T21:11:08.108929Z"
    }
   },
   "source": [
    "dataset.head()"
   ],
   "outputs": [
    {
     "data": {
      "text/plain": [
       "   color      director_name  num_critic_for_reviews  duration  \\\n",
       "0  Color      James Cameron                   723.0     178.0   \n",
       "1  Color     Gore Verbinski                   302.0     169.0   \n",
       "2  Color         Sam Mendes                   602.0     148.0   \n",
       "3  Color  Christopher Nolan                   813.0     164.0   \n",
       "4    NaN        Doug Walker                     NaN       NaN   \n",
       "\n",
       "   director_facebook_likes  actor_3_facebook_likes      actor_2_name  \\\n",
       "0                      0.0                   855.0  Joel David Moore   \n",
       "1                    563.0                  1000.0     Orlando Bloom   \n",
       "2                      0.0                   161.0      Rory Kinnear   \n",
       "3                  22000.0                 23000.0    Christian Bale   \n",
       "4                    131.0                     NaN        Rob Walker   \n",
       "\n",
       "   actor_1_facebook_likes        gross                           genres  ...  \\\n",
       "0                  1000.0  760505847.0  Action|Adventure|Fantasy|Sci-Fi  ...   \n",
       "1                 40000.0  309404152.0         Action|Adventure|Fantasy  ...   \n",
       "2                 11000.0  200074175.0        Action|Adventure|Thriller  ...   \n",
       "3                 27000.0  448130642.0                  Action|Thriller  ...   \n",
       "4                   131.0          NaN                      Documentary  ...   \n",
       "\n",
       "  num_user_for_reviews language  country  content_rating       budget  \\\n",
       "0               3054.0  English      USA           PG-13  237000000.0   \n",
       "1               1238.0  English      USA           PG-13  300000000.0   \n",
       "2                994.0  English       UK           PG-13  245000000.0   \n",
       "3               2701.0  English      USA           PG-13  250000000.0   \n",
       "4                  NaN      NaN      NaN             NaN          NaN   \n",
       "\n",
       "   title_year actor_2_facebook_likes imdb_score  aspect_ratio  \\\n",
       "0      2009.0                  936.0        7.9          1.78   \n",
       "1      2007.0                 5000.0        7.1          2.35   \n",
       "2      2015.0                  393.0        6.8          2.35   \n",
       "3      2012.0                23000.0        8.5          2.35   \n",
       "4         NaN                   12.0        7.1           NaN   \n",
       "\n",
       "  movie_facebook_likes  \n",
       "0                33000  \n",
       "1                    0  \n",
       "2                85000  \n",
       "3               164000  \n",
       "4                    0  \n",
       "\n",
       "[5 rows x 28 columns]"
      ],
      "text/html": [
       "<div>\n",
       "<style scoped>\n",
       "    .dataframe tbody tr th:only-of-type {\n",
       "        vertical-align: middle;\n",
       "    }\n",
       "\n",
       "    .dataframe tbody tr th {\n",
       "        vertical-align: top;\n",
       "    }\n",
       "\n",
       "    .dataframe thead th {\n",
       "        text-align: right;\n",
       "    }\n",
       "</style>\n",
       "<table border=\"1\" class=\"dataframe\">\n",
       "  <thead>\n",
       "    <tr style=\"text-align: right;\">\n",
       "      <th></th>\n",
       "      <th>color</th>\n",
       "      <th>director_name</th>\n",
       "      <th>num_critic_for_reviews</th>\n",
       "      <th>duration</th>\n",
       "      <th>director_facebook_likes</th>\n",
       "      <th>actor_3_facebook_likes</th>\n",
       "      <th>actor_2_name</th>\n",
       "      <th>actor_1_facebook_likes</th>\n",
       "      <th>gross</th>\n",
       "      <th>genres</th>\n",
       "      <th>...</th>\n",
       "      <th>num_user_for_reviews</th>\n",
       "      <th>language</th>\n",
       "      <th>country</th>\n",
       "      <th>content_rating</th>\n",
       "      <th>budget</th>\n",
       "      <th>title_year</th>\n",
       "      <th>actor_2_facebook_likes</th>\n",
       "      <th>imdb_score</th>\n",
       "      <th>aspect_ratio</th>\n",
       "      <th>movie_facebook_likes</th>\n",
       "    </tr>\n",
       "  </thead>\n",
       "  <tbody>\n",
       "    <tr>\n",
       "      <th>0</th>\n",
       "      <td>Color</td>\n",
       "      <td>James Cameron</td>\n",
       "      <td>723.0</td>\n",
       "      <td>178.0</td>\n",
       "      <td>0.0</td>\n",
       "      <td>855.0</td>\n",
       "      <td>Joel David Moore</td>\n",
       "      <td>1000.0</td>\n",
       "      <td>760505847.0</td>\n",
       "      <td>Action|Adventure|Fantasy|Sci-Fi</td>\n",
       "      <td>...</td>\n",
       "      <td>3054.0</td>\n",
       "      <td>English</td>\n",
       "      <td>USA</td>\n",
       "      <td>PG-13</td>\n",
       "      <td>237000000.0</td>\n",
       "      <td>2009.0</td>\n",
       "      <td>936.0</td>\n",
       "      <td>7.9</td>\n",
       "      <td>1.78</td>\n",
       "      <td>33000</td>\n",
       "    </tr>\n",
       "    <tr>\n",
       "      <th>1</th>\n",
       "      <td>Color</td>\n",
       "      <td>Gore Verbinski</td>\n",
       "      <td>302.0</td>\n",
       "      <td>169.0</td>\n",
       "      <td>563.0</td>\n",
       "      <td>1000.0</td>\n",
       "      <td>Orlando Bloom</td>\n",
       "      <td>40000.0</td>\n",
       "      <td>309404152.0</td>\n",
       "      <td>Action|Adventure|Fantasy</td>\n",
       "      <td>...</td>\n",
       "      <td>1238.0</td>\n",
       "      <td>English</td>\n",
       "      <td>USA</td>\n",
       "      <td>PG-13</td>\n",
       "      <td>300000000.0</td>\n",
       "      <td>2007.0</td>\n",
       "      <td>5000.0</td>\n",
       "      <td>7.1</td>\n",
       "      <td>2.35</td>\n",
       "      <td>0</td>\n",
       "    </tr>\n",
       "    <tr>\n",
       "      <th>2</th>\n",
       "      <td>Color</td>\n",
       "      <td>Sam Mendes</td>\n",
       "      <td>602.0</td>\n",
       "      <td>148.0</td>\n",
       "      <td>0.0</td>\n",
       "      <td>161.0</td>\n",
       "      <td>Rory Kinnear</td>\n",
       "      <td>11000.0</td>\n",
       "      <td>200074175.0</td>\n",
       "      <td>Action|Adventure|Thriller</td>\n",
       "      <td>...</td>\n",
       "      <td>994.0</td>\n",
       "      <td>English</td>\n",
       "      <td>UK</td>\n",
       "      <td>PG-13</td>\n",
       "      <td>245000000.0</td>\n",
       "      <td>2015.0</td>\n",
       "      <td>393.0</td>\n",
       "      <td>6.8</td>\n",
       "      <td>2.35</td>\n",
       "      <td>85000</td>\n",
       "    </tr>\n",
       "    <tr>\n",
       "      <th>3</th>\n",
       "      <td>Color</td>\n",
       "      <td>Christopher Nolan</td>\n",
       "      <td>813.0</td>\n",
       "      <td>164.0</td>\n",
       "      <td>22000.0</td>\n",
       "      <td>23000.0</td>\n",
       "      <td>Christian Bale</td>\n",
       "      <td>27000.0</td>\n",
       "      <td>448130642.0</td>\n",
       "      <td>Action|Thriller</td>\n",
       "      <td>...</td>\n",
       "      <td>2701.0</td>\n",
       "      <td>English</td>\n",
       "      <td>USA</td>\n",
       "      <td>PG-13</td>\n",
       "      <td>250000000.0</td>\n",
       "      <td>2012.0</td>\n",
       "      <td>23000.0</td>\n",
       "      <td>8.5</td>\n",
       "      <td>2.35</td>\n",
       "      <td>164000</td>\n",
       "    </tr>\n",
       "    <tr>\n",
       "      <th>4</th>\n",
       "      <td>NaN</td>\n",
       "      <td>Doug Walker</td>\n",
       "      <td>NaN</td>\n",
       "      <td>NaN</td>\n",
       "      <td>131.0</td>\n",
       "      <td>NaN</td>\n",
       "      <td>Rob Walker</td>\n",
       "      <td>131.0</td>\n",
       "      <td>NaN</td>\n",
       "      <td>Documentary</td>\n",
       "      <td>...</td>\n",
       "      <td>NaN</td>\n",
       "      <td>NaN</td>\n",
       "      <td>NaN</td>\n",
       "      <td>NaN</td>\n",
       "      <td>NaN</td>\n",
       "      <td>NaN</td>\n",
       "      <td>12.0</td>\n",
       "      <td>7.1</td>\n",
       "      <td>NaN</td>\n",
       "      <td>0</td>\n",
       "    </tr>\n",
       "  </tbody>\n",
       "</table>\n",
       "<p>5 rows × 28 columns</p>\n",
       "</div>"
      ]
     },
     "execution_count": 3,
     "metadata": {},
     "output_type": "execute_result"
    }
   ],
   "execution_count": 3
  },
  {
   "cell_type": "markdown",
   "id": "5a7b1f374b8a02f",
   "metadata": {},
   "source": [
    "Om snel een overzicht te krijgen van alle kolommen en mogelijke features in de dataset, maken we gebruik van de `columns`-functie. Hiermee kunnen we eenvoudig de namen van de kolommen bekijken, wat nuttig is voor het bepalen van welke variabelen relevant zijn voor verdere analyse."
   ]
  },
  {
   "cell_type": "code",
   "id": "1a4378d063571f76",
   "metadata": {
    "ExecuteTime": {
     "end_time": "2024-10-09T21:11:08.195693Z",
     "start_time": "2024-10-09T21:11:08.190824Z"
    }
   },
   "source": [
    "dataset.columns"
   ],
   "outputs": [
    {
     "data": {
      "text/plain": [
       "Index(['color', 'director_name', 'num_critic_for_reviews', 'duration',\n",
       "       'director_facebook_likes', 'actor_3_facebook_likes', 'actor_2_name',\n",
       "       'actor_1_facebook_likes', 'gross', 'genres', 'actor_1_name',\n",
       "       'movie_title', 'num_voted_users', 'cast_total_facebook_likes',\n",
       "       'actor_3_name', 'facenumber_in_poster', 'plot_keywords',\n",
       "       'movie_imdb_link', 'num_user_for_reviews', 'language', 'country',\n",
       "       'content_rating', 'budget', 'title_year', 'actor_2_facebook_likes',\n",
       "       'imdb_score', 'aspect_ratio', 'movie_facebook_likes'],\n",
       "      dtype='object')"
      ]
     },
     "execution_count": 4,
     "metadata": {},
     "output_type": "execute_result"
    }
   ],
   "execution_count": 4
  },
  {
   "cell_type": "markdown",
   "id": "4ffd5f26aa8dcb47",
   "metadata": {},
   "source": [
    "Vervolgens gebruiken we de `dtypes`-functie om de datatypen van elke kolom in de dataset te achterhalen. Dit helpt ons te begrijpen welke soort gegevens in elke kolom aanwezig zijn"
   ]
  },
  {
   "cell_type": "code",
   "id": "35890e7d780de1ad",
   "metadata": {
    "ExecuteTime": {
     "end_time": "2024-10-09T21:11:08.296796Z",
     "start_time": "2024-10-09T21:11:08.272799Z"
    }
   },
   "source": [
    "dataset.dtypes"
   ],
   "outputs": [
    {
     "data": {
      "text/plain": [
       "color                         object\n",
       "director_name                 object\n",
       "num_critic_for_reviews       float64\n",
       "duration                     float64\n",
       "director_facebook_likes      float64\n",
       "actor_3_facebook_likes       float64\n",
       "actor_2_name                  object\n",
       "actor_1_facebook_likes       float64\n",
       "gross                        float64\n",
       "genres                        object\n",
       "actor_1_name                  object\n",
       "movie_title                   object\n",
       "num_voted_users                int64\n",
       "cast_total_facebook_likes      int64\n",
       "actor_3_name                  object\n",
       "facenumber_in_poster         float64\n",
       "plot_keywords                 object\n",
       "movie_imdb_link               object\n",
       "num_user_for_reviews         float64\n",
       "language                      object\n",
       "country                       object\n",
       "content_rating                object\n",
       "budget                       float64\n",
       "title_year                   float64\n",
       "actor_2_facebook_likes       float64\n",
       "imdb_score                   float64\n",
       "aspect_ratio                 float64\n",
       "movie_facebook_likes           int64\n",
       "dtype: object"
      ]
     },
     "execution_count": 5,
     "metadata": {},
     "output_type": "execute_result"
    }
   ],
   "execution_count": 5
  },
  {
   "cell_type": "markdown",
   "id": "894d3d7e9e788eca",
   "metadata": {},
   "source": [
    "We gebruiken de `describe`-functie om een overzicht te krijgen van de belangrijkste statistieken van de numerieke kolommen in de dataset. Deze functie geeft ons inzicht in de gemiddelde waarden, de spreiding, en de extremen van de data, waardoor we beter begrijpen hoe de gegevens zijn verdeeld."
   ]
  },
  {
   "cell_type": "code",
   "id": "b99853c5a1713722",
   "metadata": {
    "ExecuteTime": {
     "end_time": "2024-10-09T21:11:08.623923Z",
     "start_time": "2024-10-09T21:11:08.344501Z"
    }
   },
   "source": [
    "dataset.describe()"
   ],
   "outputs": [
    {
     "data": {
      "text/plain": [
       "       num_critic_for_reviews     duration  director_facebook_likes  \\\n",
       "count             4993.000000  5028.000000              4939.000000   \n",
       "mean               140.194272   107.201074               686.509212   \n",
       "std                121.601675    25.197441              2813.328607   \n",
       "min                  1.000000     7.000000                 0.000000   \n",
       "25%                 50.000000    93.000000                 7.000000   \n",
       "50%                110.000000   103.000000                49.000000   \n",
       "75%                195.000000   118.000000               194.500000   \n",
       "max                813.000000   511.000000             23000.000000   \n",
       "\n",
       "       actor_3_facebook_likes  actor_1_facebook_likes         gross  \\\n",
       "count             5020.000000             5036.000000  4.159000e+03   \n",
       "mean               645.009761             6560.047061  4.846841e+07   \n",
       "std               1665.041728            15020.759120  6.845299e+07   \n",
       "min                  0.000000                0.000000  1.620000e+02   \n",
       "25%                133.000000              614.000000  5.340988e+06   \n",
       "50%                371.500000              988.000000  2.551750e+07   \n",
       "75%                636.000000            11000.000000  6.230944e+07   \n",
       "max              23000.000000           640000.000000  7.605058e+08   \n",
       "\n",
       "       num_voted_users  cast_total_facebook_likes  facenumber_in_poster  \\\n",
       "count     5.043000e+03                5043.000000           5030.000000   \n",
       "mean      8.366816e+04                9699.063851              1.371173   \n",
       "std       1.384853e+05               18163.799124              2.013576   \n",
       "min       5.000000e+00                   0.000000              0.000000   \n",
       "25%       8.593500e+03                1411.000000              0.000000   \n",
       "50%       3.435900e+04                3090.000000              1.000000   \n",
       "75%       9.630900e+04               13756.500000              2.000000   \n",
       "max       1.689764e+06              656730.000000             43.000000   \n",
       "\n",
       "       num_user_for_reviews        budget   title_year  \\\n",
       "count           5022.000000  4.551000e+03  4935.000000   \n",
       "mean             272.770808  3.975262e+07  2002.470517   \n",
       "std              377.982886  2.061149e+08    12.474599   \n",
       "min                1.000000  2.180000e+02  1916.000000   \n",
       "25%               65.000000  6.000000e+06  1999.000000   \n",
       "50%              156.000000  2.000000e+07  2005.000000   \n",
       "75%              326.000000  4.500000e+07  2011.000000   \n",
       "max             5060.000000  1.221550e+10  2016.000000   \n",
       "\n",
       "       actor_2_facebook_likes   imdb_score  aspect_ratio  movie_facebook_likes  \n",
       "count             5030.000000  5043.000000   4714.000000           5043.000000  \n",
       "mean              1651.754473     6.442138      2.220403           7525.964505  \n",
       "std               4042.438863     1.125116      1.385113          19320.445110  \n",
       "min                  0.000000     1.600000      1.180000              0.000000  \n",
       "25%                281.000000     5.800000      1.850000              0.000000  \n",
       "50%                595.000000     6.600000      2.350000            166.000000  \n",
       "75%                918.000000     7.200000      2.350000           3000.000000  \n",
       "max             137000.000000     9.500000     16.000000         349000.000000  "
      ],
      "text/html": [
       "<div>\n",
       "<style scoped>\n",
       "    .dataframe tbody tr th:only-of-type {\n",
       "        vertical-align: middle;\n",
       "    }\n",
       "\n",
       "    .dataframe tbody tr th {\n",
       "        vertical-align: top;\n",
       "    }\n",
       "\n",
       "    .dataframe thead th {\n",
       "        text-align: right;\n",
       "    }\n",
       "</style>\n",
       "<table border=\"1\" class=\"dataframe\">\n",
       "  <thead>\n",
       "    <tr style=\"text-align: right;\">\n",
       "      <th></th>\n",
       "      <th>num_critic_for_reviews</th>\n",
       "      <th>duration</th>\n",
       "      <th>director_facebook_likes</th>\n",
       "      <th>actor_3_facebook_likes</th>\n",
       "      <th>actor_1_facebook_likes</th>\n",
       "      <th>gross</th>\n",
       "      <th>num_voted_users</th>\n",
       "      <th>cast_total_facebook_likes</th>\n",
       "      <th>facenumber_in_poster</th>\n",
       "      <th>num_user_for_reviews</th>\n",
       "      <th>budget</th>\n",
       "      <th>title_year</th>\n",
       "      <th>actor_2_facebook_likes</th>\n",
       "      <th>imdb_score</th>\n",
       "      <th>aspect_ratio</th>\n",
       "      <th>movie_facebook_likes</th>\n",
       "    </tr>\n",
       "  </thead>\n",
       "  <tbody>\n",
       "    <tr>\n",
       "      <th>count</th>\n",
       "      <td>4993.000000</td>\n",
       "      <td>5028.000000</td>\n",
       "      <td>4939.000000</td>\n",
       "      <td>5020.000000</td>\n",
       "      <td>5036.000000</td>\n",
       "      <td>4.159000e+03</td>\n",
       "      <td>5.043000e+03</td>\n",
       "      <td>5043.000000</td>\n",
       "      <td>5030.000000</td>\n",
       "      <td>5022.000000</td>\n",
       "      <td>4.551000e+03</td>\n",
       "      <td>4935.000000</td>\n",
       "      <td>5030.000000</td>\n",
       "      <td>5043.000000</td>\n",
       "      <td>4714.000000</td>\n",
       "      <td>5043.000000</td>\n",
       "    </tr>\n",
       "    <tr>\n",
       "      <th>mean</th>\n",
       "      <td>140.194272</td>\n",
       "      <td>107.201074</td>\n",
       "      <td>686.509212</td>\n",
       "      <td>645.009761</td>\n",
       "      <td>6560.047061</td>\n",
       "      <td>4.846841e+07</td>\n",
       "      <td>8.366816e+04</td>\n",
       "      <td>9699.063851</td>\n",
       "      <td>1.371173</td>\n",
       "      <td>272.770808</td>\n",
       "      <td>3.975262e+07</td>\n",
       "      <td>2002.470517</td>\n",
       "      <td>1651.754473</td>\n",
       "      <td>6.442138</td>\n",
       "      <td>2.220403</td>\n",
       "      <td>7525.964505</td>\n",
       "    </tr>\n",
       "    <tr>\n",
       "      <th>std</th>\n",
       "      <td>121.601675</td>\n",
       "      <td>25.197441</td>\n",
       "      <td>2813.328607</td>\n",
       "      <td>1665.041728</td>\n",
       "      <td>15020.759120</td>\n",
       "      <td>6.845299e+07</td>\n",
       "      <td>1.384853e+05</td>\n",
       "      <td>18163.799124</td>\n",
       "      <td>2.013576</td>\n",
       "      <td>377.982886</td>\n",
       "      <td>2.061149e+08</td>\n",
       "      <td>12.474599</td>\n",
       "      <td>4042.438863</td>\n",
       "      <td>1.125116</td>\n",
       "      <td>1.385113</td>\n",
       "      <td>19320.445110</td>\n",
       "    </tr>\n",
       "    <tr>\n",
       "      <th>min</th>\n",
       "      <td>1.000000</td>\n",
       "      <td>7.000000</td>\n",
       "      <td>0.000000</td>\n",
       "      <td>0.000000</td>\n",
       "      <td>0.000000</td>\n",
       "      <td>1.620000e+02</td>\n",
       "      <td>5.000000e+00</td>\n",
       "      <td>0.000000</td>\n",
       "      <td>0.000000</td>\n",
       "      <td>1.000000</td>\n",
       "      <td>2.180000e+02</td>\n",
       "      <td>1916.000000</td>\n",
       "      <td>0.000000</td>\n",
       "      <td>1.600000</td>\n",
       "      <td>1.180000</td>\n",
       "      <td>0.000000</td>\n",
       "    </tr>\n",
       "    <tr>\n",
       "      <th>25%</th>\n",
       "      <td>50.000000</td>\n",
       "      <td>93.000000</td>\n",
       "      <td>7.000000</td>\n",
       "      <td>133.000000</td>\n",
       "      <td>614.000000</td>\n",
       "      <td>5.340988e+06</td>\n",
       "      <td>8.593500e+03</td>\n",
       "      <td>1411.000000</td>\n",
       "      <td>0.000000</td>\n",
       "      <td>65.000000</td>\n",
       "      <td>6.000000e+06</td>\n",
       "      <td>1999.000000</td>\n",
       "      <td>281.000000</td>\n",
       "      <td>5.800000</td>\n",
       "      <td>1.850000</td>\n",
       "      <td>0.000000</td>\n",
       "    </tr>\n",
       "    <tr>\n",
       "      <th>50%</th>\n",
       "      <td>110.000000</td>\n",
       "      <td>103.000000</td>\n",
       "      <td>49.000000</td>\n",
       "      <td>371.500000</td>\n",
       "      <td>988.000000</td>\n",
       "      <td>2.551750e+07</td>\n",
       "      <td>3.435900e+04</td>\n",
       "      <td>3090.000000</td>\n",
       "      <td>1.000000</td>\n",
       "      <td>156.000000</td>\n",
       "      <td>2.000000e+07</td>\n",
       "      <td>2005.000000</td>\n",
       "      <td>595.000000</td>\n",
       "      <td>6.600000</td>\n",
       "      <td>2.350000</td>\n",
       "      <td>166.000000</td>\n",
       "    </tr>\n",
       "    <tr>\n",
       "      <th>75%</th>\n",
       "      <td>195.000000</td>\n",
       "      <td>118.000000</td>\n",
       "      <td>194.500000</td>\n",
       "      <td>636.000000</td>\n",
       "      <td>11000.000000</td>\n",
       "      <td>6.230944e+07</td>\n",
       "      <td>9.630900e+04</td>\n",
       "      <td>13756.500000</td>\n",
       "      <td>2.000000</td>\n",
       "      <td>326.000000</td>\n",
       "      <td>4.500000e+07</td>\n",
       "      <td>2011.000000</td>\n",
       "      <td>918.000000</td>\n",
       "      <td>7.200000</td>\n",
       "      <td>2.350000</td>\n",
       "      <td>3000.000000</td>\n",
       "    </tr>\n",
       "    <tr>\n",
       "      <th>max</th>\n",
       "      <td>813.000000</td>\n",
       "      <td>511.000000</td>\n",
       "      <td>23000.000000</td>\n",
       "      <td>23000.000000</td>\n",
       "      <td>640000.000000</td>\n",
       "      <td>7.605058e+08</td>\n",
       "      <td>1.689764e+06</td>\n",
       "      <td>656730.000000</td>\n",
       "      <td>43.000000</td>\n",
       "      <td>5060.000000</td>\n",
       "      <td>1.221550e+10</td>\n",
       "      <td>2016.000000</td>\n",
       "      <td>137000.000000</td>\n",
       "      <td>9.500000</td>\n",
       "      <td>16.000000</td>\n",
       "      <td>349000.000000</td>\n",
       "    </tr>\n",
       "  </tbody>\n",
       "</table>\n",
       "</div>"
      ]
     },
     "execution_count": 6,
     "metadata": {},
     "output_type": "execute_result"
    }
   ],
   "execution_count": 6
  },
  {
   "cell_type": "markdown",
   "id": "1a0de3bbc9c0ba4c",
   "metadata": {},
   "source": [
    "Voor een samenvatting van de niet-numerieke gegevens specificeren we in de `describe`-functie dat we ook objecttypen willen opnemen door `include='object'` toe te voegen."
   ]
  },
  {
   "cell_type": "code",
   "id": "cb131da9682ef2c7",
   "metadata": {
    "ExecuteTime": {
     "end_time": "2024-10-09T21:11:08.722772Z",
     "start_time": "2024-10-09T21:11:08.673016Z"
    }
   },
   "source": [
    "dataset.describe(include='object')"
   ],
   "outputs": [
    {
     "data": {
      "text/plain": [
       "        color     director_name    actor_2_name genres    actor_1_name  \\\n",
       "count    5024              4939            5030   5043            5036   \n",
       "unique      2              2398            3032    914            2097   \n",
       "top     Color  Steven Spielberg  Morgan Freeman  Drama  Robert De Niro   \n",
       "freq     4815                26              20    236              49   \n",
       "\n",
       "       movie_title actor_3_name   plot_keywords  \\\n",
       "count         5043         5020            4890   \n",
       "unique        4917         3521            4760   \n",
       "top       Ben-Hur    John Heard  based on novel   \n",
       "freq             3            8               4   \n",
       "\n",
       "                                          movie_imdb_link language country  \\\n",
       "count                                                5043     5029    5038   \n",
       "unique                                               4919       46      65   \n",
       "top     http://www.imdb.com/title/tt0232500/?ref_=fn_t...  English     USA   \n",
       "freq                                                    3     4704    3807   \n",
       "\n",
       "       content_rating  \n",
       "count            4740  \n",
       "unique             18  \n",
       "top                 R  \n",
       "freq             2118  "
      ],
      "text/html": [
       "<div>\n",
       "<style scoped>\n",
       "    .dataframe tbody tr th:only-of-type {\n",
       "        vertical-align: middle;\n",
       "    }\n",
       "\n",
       "    .dataframe tbody tr th {\n",
       "        vertical-align: top;\n",
       "    }\n",
       "\n",
       "    .dataframe thead th {\n",
       "        text-align: right;\n",
       "    }\n",
       "</style>\n",
       "<table border=\"1\" class=\"dataframe\">\n",
       "  <thead>\n",
       "    <tr style=\"text-align: right;\">\n",
       "      <th></th>\n",
       "      <th>color</th>\n",
       "      <th>director_name</th>\n",
       "      <th>actor_2_name</th>\n",
       "      <th>genres</th>\n",
       "      <th>actor_1_name</th>\n",
       "      <th>movie_title</th>\n",
       "      <th>actor_3_name</th>\n",
       "      <th>plot_keywords</th>\n",
       "      <th>movie_imdb_link</th>\n",
       "      <th>language</th>\n",
       "      <th>country</th>\n",
       "      <th>content_rating</th>\n",
       "    </tr>\n",
       "  </thead>\n",
       "  <tbody>\n",
       "    <tr>\n",
       "      <th>count</th>\n",
       "      <td>5024</td>\n",
       "      <td>4939</td>\n",
       "      <td>5030</td>\n",
       "      <td>5043</td>\n",
       "      <td>5036</td>\n",
       "      <td>5043</td>\n",
       "      <td>5020</td>\n",
       "      <td>4890</td>\n",
       "      <td>5043</td>\n",
       "      <td>5029</td>\n",
       "      <td>5038</td>\n",
       "      <td>4740</td>\n",
       "    </tr>\n",
       "    <tr>\n",
       "      <th>unique</th>\n",
       "      <td>2</td>\n",
       "      <td>2398</td>\n",
       "      <td>3032</td>\n",
       "      <td>914</td>\n",
       "      <td>2097</td>\n",
       "      <td>4917</td>\n",
       "      <td>3521</td>\n",
       "      <td>4760</td>\n",
       "      <td>4919</td>\n",
       "      <td>46</td>\n",
       "      <td>65</td>\n",
       "      <td>18</td>\n",
       "    </tr>\n",
       "    <tr>\n",
       "      <th>top</th>\n",
       "      <td>Color</td>\n",
       "      <td>Steven Spielberg</td>\n",
       "      <td>Morgan Freeman</td>\n",
       "      <td>Drama</td>\n",
       "      <td>Robert De Niro</td>\n",
       "      <td>Ben-Hur</td>\n",
       "      <td>John Heard</td>\n",
       "      <td>based on novel</td>\n",
       "      <td>http://www.imdb.com/title/tt0232500/?ref_=fn_t...</td>\n",
       "      <td>English</td>\n",
       "      <td>USA</td>\n",
       "      <td>R</td>\n",
       "    </tr>\n",
       "    <tr>\n",
       "      <th>freq</th>\n",
       "      <td>4815</td>\n",
       "      <td>26</td>\n",
       "      <td>20</td>\n",
       "      <td>236</td>\n",
       "      <td>49</td>\n",
       "      <td>3</td>\n",
       "      <td>8</td>\n",
       "      <td>4</td>\n",
       "      <td>3</td>\n",
       "      <td>4704</td>\n",
       "      <td>3807</td>\n",
       "      <td>2118</td>\n",
       "    </tr>\n",
       "  </tbody>\n",
       "</table>\n",
       "</div>"
      ]
     },
     "execution_count": 7,
     "metadata": {},
     "output_type": "execute_result"
    }
   ],
   "execution_count": 7
  },
  {
   "cell_type": "markdown",
   "id": "b060acd0983750e2",
   "metadata": {},
   "source": [
    "### Variabelen & Meetniveaus\n",
    "\n",
    "In deze analyse zijn de volgende variabelen overwogen met hun verwachte impact op de bruto-omzet (gross):\n",
    "\n",
    "- Director name & Actor names: De bekendheid van de regisseur en de hoofdrolspelers kan invloed hebben op de aantrekkingskracht van de film en daarmee de bruto-omzet.\n",
    "- Facebook Likes: De sociale media populariteit van de regisseur en de acteurs kan de zichtbaarheid van de film vergroten en zo invloed op de bruto-omzet hebben.\n",
    "- Budget: Een hoger budget kan leiden tot hogere bruto-omzet.\n",
    "- IMDB score: Een hogere score op IMDB wijst vaak op betere filmkwaliteit en kan leiden tot meer kijkers en daarmee hogere bruto-omzet.\n",
    "\n",
    "\n",
    "| Feature                 | Afhankelijk/Onafhankelijk | Meetniveau |\n",
    "|:------------------------|:--------------------------|:-----------|\n",
    "| Director Name           | Onafhankelijk             | Nominaal   |\n",
    "| Actor 1 Name            | Onafhankelijk             | Nominaal   |\n",
    "| Actor 2 Name            | Onafhankelijk             | Nominaal   |\n",
    "| Actor 3 Name            | Onafhankelijk             | Nominaal   |\n",
    "| Director Facebook Likes | Onafhankelijk             | Discreet   |\n",
    "| Actor 1 Facebook Likes  | Onafhankelijk             | Discreet   |\n",
    "| Actor 2 Facebook Likes  | Onafhankelijk             | Discreet   |\n",
    "| Actor 3 Facebook Likes  | Onafhankelijk             | Discreet   |\n",
    "| Movie Facebook Likes    | Onafhankelijk             | Discreet   |\n",
    "| Budget                  | Onafhankelijk             | Continu    |\n",
    "| IMDB Score              | Onafhankelijk             | Discreet   |\n",
    "| Gross                   | Afhankelijk               | Continu    |"
   ]
  },
  {
   "cell_type": "code",
   "id": "ade8058961df6a2c",
   "metadata": {
    "ExecuteTime": {
     "end_time": "2024-10-09T21:11:09.001759Z",
     "start_time": "2024-10-09T21:11:08.983784Z"
    }
   },
   "source": [
    "kolommen = ['director_name', 'actor_1_name', 'actor_2_name', 'actor_3_name', 'director_facebook_likes', 'actor_1_facebook_likes', 'actor_2_facebook_likes', 'actor_3_facebook_likes', 'cast_total_facebook_likes','movie_facebook_likes', 'budget', 'imdb_score', 'gross']\n",
    "data_analyse = dataset[kolommen]\n",
    "data_analyse.head()\n"
   ],
   "outputs": [
    {
     "data": {
      "text/plain": [
       "       director_name     actor_1_name      actor_2_name          actor_3_name  \\\n",
       "0      James Cameron      CCH Pounder  Joel David Moore             Wes Studi   \n",
       "1     Gore Verbinski      Johnny Depp     Orlando Bloom        Jack Davenport   \n",
       "2         Sam Mendes  Christoph Waltz      Rory Kinnear      Stephanie Sigman   \n",
       "3  Christopher Nolan        Tom Hardy    Christian Bale  Joseph Gordon-Levitt   \n",
       "4        Doug Walker      Doug Walker        Rob Walker                   NaN   \n",
       "\n",
       "   director_facebook_likes  actor_1_facebook_likes  actor_2_facebook_likes  \\\n",
       "0                      0.0                  1000.0                   936.0   \n",
       "1                    563.0                 40000.0                  5000.0   \n",
       "2                      0.0                 11000.0                   393.0   \n",
       "3                  22000.0                 27000.0                 23000.0   \n",
       "4                    131.0                   131.0                    12.0   \n",
       "\n",
       "   actor_3_facebook_likes  cast_total_facebook_likes  movie_facebook_likes  \\\n",
       "0                   855.0                       4834                 33000   \n",
       "1                  1000.0                      48350                     0   \n",
       "2                   161.0                      11700                 85000   \n",
       "3                 23000.0                     106759                164000   \n",
       "4                     NaN                        143                     0   \n",
       "\n",
       "        budget  imdb_score        gross  \n",
       "0  237000000.0         7.9  760505847.0  \n",
       "1  300000000.0         7.1  309404152.0  \n",
       "2  245000000.0         6.8  200074175.0  \n",
       "3  250000000.0         8.5  448130642.0  \n",
       "4          NaN         7.1          NaN  "
      ],
      "text/html": [
       "<div>\n",
       "<style scoped>\n",
       "    .dataframe tbody tr th:only-of-type {\n",
       "        vertical-align: middle;\n",
       "    }\n",
       "\n",
       "    .dataframe tbody tr th {\n",
       "        vertical-align: top;\n",
       "    }\n",
       "\n",
       "    .dataframe thead th {\n",
       "        text-align: right;\n",
       "    }\n",
       "</style>\n",
       "<table border=\"1\" class=\"dataframe\">\n",
       "  <thead>\n",
       "    <tr style=\"text-align: right;\">\n",
       "      <th></th>\n",
       "      <th>director_name</th>\n",
       "      <th>actor_1_name</th>\n",
       "      <th>actor_2_name</th>\n",
       "      <th>actor_3_name</th>\n",
       "      <th>director_facebook_likes</th>\n",
       "      <th>actor_1_facebook_likes</th>\n",
       "      <th>actor_2_facebook_likes</th>\n",
       "      <th>actor_3_facebook_likes</th>\n",
       "      <th>cast_total_facebook_likes</th>\n",
       "      <th>movie_facebook_likes</th>\n",
       "      <th>budget</th>\n",
       "      <th>imdb_score</th>\n",
       "      <th>gross</th>\n",
       "    </tr>\n",
       "  </thead>\n",
       "  <tbody>\n",
       "    <tr>\n",
       "      <th>0</th>\n",
       "      <td>James Cameron</td>\n",
       "      <td>CCH Pounder</td>\n",
       "      <td>Joel David Moore</td>\n",
       "      <td>Wes Studi</td>\n",
       "      <td>0.0</td>\n",
       "      <td>1000.0</td>\n",
       "      <td>936.0</td>\n",
       "      <td>855.0</td>\n",
       "      <td>4834</td>\n",
       "      <td>33000</td>\n",
       "      <td>237000000.0</td>\n",
       "      <td>7.9</td>\n",
       "      <td>760505847.0</td>\n",
       "    </tr>\n",
       "    <tr>\n",
       "      <th>1</th>\n",
       "      <td>Gore Verbinski</td>\n",
       "      <td>Johnny Depp</td>\n",
       "      <td>Orlando Bloom</td>\n",
       "      <td>Jack Davenport</td>\n",
       "      <td>563.0</td>\n",
       "      <td>40000.0</td>\n",
       "      <td>5000.0</td>\n",
       "      <td>1000.0</td>\n",
       "      <td>48350</td>\n",
       "      <td>0</td>\n",
       "      <td>300000000.0</td>\n",
       "      <td>7.1</td>\n",
       "      <td>309404152.0</td>\n",
       "    </tr>\n",
       "    <tr>\n",
       "      <th>2</th>\n",
       "      <td>Sam Mendes</td>\n",
       "      <td>Christoph Waltz</td>\n",
       "      <td>Rory Kinnear</td>\n",
       "      <td>Stephanie Sigman</td>\n",
       "      <td>0.0</td>\n",
       "      <td>11000.0</td>\n",
       "      <td>393.0</td>\n",
       "      <td>161.0</td>\n",
       "      <td>11700</td>\n",
       "      <td>85000</td>\n",
       "      <td>245000000.0</td>\n",
       "      <td>6.8</td>\n",
       "      <td>200074175.0</td>\n",
       "    </tr>\n",
       "    <tr>\n",
       "      <th>3</th>\n",
       "      <td>Christopher Nolan</td>\n",
       "      <td>Tom Hardy</td>\n",
       "      <td>Christian Bale</td>\n",
       "      <td>Joseph Gordon-Levitt</td>\n",
       "      <td>22000.0</td>\n",
       "      <td>27000.0</td>\n",
       "      <td>23000.0</td>\n",
       "      <td>23000.0</td>\n",
       "      <td>106759</td>\n",
       "      <td>164000</td>\n",
       "      <td>250000000.0</td>\n",
       "      <td>8.5</td>\n",
       "      <td>448130642.0</td>\n",
       "    </tr>\n",
       "    <tr>\n",
       "      <th>4</th>\n",
       "      <td>Doug Walker</td>\n",
       "      <td>Doug Walker</td>\n",
       "      <td>Rob Walker</td>\n",
       "      <td>NaN</td>\n",
       "      <td>131.0</td>\n",
       "      <td>131.0</td>\n",
       "      <td>12.0</td>\n",
       "      <td>NaN</td>\n",
       "      <td>143</td>\n",
       "      <td>0</td>\n",
       "      <td>NaN</td>\n",
       "      <td>7.1</td>\n",
       "      <td>NaN</td>\n",
       "    </tr>\n",
       "  </tbody>\n",
       "</table>\n",
       "</div>"
      ]
     },
     "execution_count": 8,
     "metadata": {},
     "output_type": "execute_result"
    }
   ],
   "execution_count": 8
  },
  {
   "cell_type": "code",
   "id": "e9ceaba0ec53ea32",
   "metadata": {
    "ExecuteTime": {
     "end_time": "2024-10-09T21:11:09.133815Z",
     "start_time": "2024-10-09T21:11:09.104689Z"
    }
   },
   "source": [
    "data_analyse.describe()"
   ],
   "outputs": [
    {
     "data": {
      "text/plain": [
       "       director_facebook_likes  actor_1_facebook_likes  \\\n",
       "count              4939.000000             5036.000000   \n",
       "mean                686.509212             6560.047061   \n",
       "std                2813.328607            15020.759120   \n",
       "min                   0.000000                0.000000   \n",
       "25%                   7.000000              614.000000   \n",
       "50%                  49.000000              988.000000   \n",
       "75%                 194.500000            11000.000000   \n",
       "max               23000.000000           640000.000000   \n",
       "\n",
       "       actor_2_facebook_likes  actor_3_facebook_likes  \\\n",
       "count             5030.000000             5020.000000   \n",
       "mean              1651.754473              645.009761   \n",
       "std               4042.438863             1665.041728   \n",
       "min                  0.000000                0.000000   \n",
       "25%                281.000000              133.000000   \n",
       "50%                595.000000              371.500000   \n",
       "75%                918.000000              636.000000   \n",
       "max             137000.000000            23000.000000   \n",
       "\n",
       "       cast_total_facebook_likes  movie_facebook_likes        budget  \\\n",
       "count                5043.000000           5043.000000  4.551000e+03   \n",
       "mean                 9699.063851           7525.964505  3.975262e+07   \n",
       "std                 18163.799124          19320.445110  2.061149e+08   \n",
       "min                     0.000000              0.000000  2.180000e+02   \n",
       "25%                  1411.000000              0.000000  6.000000e+06   \n",
       "50%                  3090.000000            166.000000  2.000000e+07   \n",
       "75%                 13756.500000           3000.000000  4.500000e+07   \n",
       "max                656730.000000         349000.000000  1.221550e+10   \n",
       "\n",
       "        imdb_score         gross  \n",
       "count  5043.000000  4.159000e+03  \n",
       "mean      6.442138  4.846841e+07  \n",
       "std       1.125116  6.845299e+07  \n",
       "min       1.600000  1.620000e+02  \n",
       "25%       5.800000  5.340988e+06  \n",
       "50%       6.600000  2.551750e+07  \n",
       "75%       7.200000  6.230944e+07  \n",
       "max       9.500000  7.605058e+08  "
      ],
      "text/html": [
       "<div>\n",
       "<style scoped>\n",
       "    .dataframe tbody tr th:only-of-type {\n",
       "        vertical-align: middle;\n",
       "    }\n",
       "\n",
       "    .dataframe tbody tr th {\n",
       "        vertical-align: top;\n",
       "    }\n",
       "\n",
       "    .dataframe thead th {\n",
       "        text-align: right;\n",
       "    }\n",
       "</style>\n",
       "<table border=\"1\" class=\"dataframe\">\n",
       "  <thead>\n",
       "    <tr style=\"text-align: right;\">\n",
       "      <th></th>\n",
       "      <th>director_facebook_likes</th>\n",
       "      <th>actor_1_facebook_likes</th>\n",
       "      <th>actor_2_facebook_likes</th>\n",
       "      <th>actor_3_facebook_likes</th>\n",
       "      <th>cast_total_facebook_likes</th>\n",
       "      <th>movie_facebook_likes</th>\n",
       "      <th>budget</th>\n",
       "      <th>imdb_score</th>\n",
       "      <th>gross</th>\n",
       "    </tr>\n",
       "  </thead>\n",
       "  <tbody>\n",
       "    <tr>\n",
       "      <th>count</th>\n",
       "      <td>4939.000000</td>\n",
       "      <td>5036.000000</td>\n",
       "      <td>5030.000000</td>\n",
       "      <td>5020.000000</td>\n",
       "      <td>5043.000000</td>\n",
       "      <td>5043.000000</td>\n",
       "      <td>4.551000e+03</td>\n",
       "      <td>5043.000000</td>\n",
       "      <td>4.159000e+03</td>\n",
       "    </tr>\n",
       "    <tr>\n",
       "      <th>mean</th>\n",
       "      <td>686.509212</td>\n",
       "      <td>6560.047061</td>\n",
       "      <td>1651.754473</td>\n",
       "      <td>645.009761</td>\n",
       "      <td>9699.063851</td>\n",
       "      <td>7525.964505</td>\n",
       "      <td>3.975262e+07</td>\n",
       "      <td>6.442138</td>\n",
       "      <td>4.846841e+07</td>\n",
       "    </tr>\n",
       "    <tr>\n",
       "      <th>std</th>\n",
       "      <td>2813.328607</td>\n",
       "      <td>15020.759120</td>\n",
       "      <td>4042.438863</td>\n",
       "      <td>1665.041728</td>\n",
       "      <td>18163.799124</td>\n",
       "      <td>19320.445110</td>\n",
       "      <td>2.061149e+08</td>\n",
       "      <td>1.125116</td>\n",
       "      <td>6.845299e+07</td>\n",
       "    </tr>\n",
       "    <tr>\n",
       "      <th>min</th>\n",
       "      <td>0.000000</td>\n",
       "      <td>0.000000</td>\n",
       "      <td>0.000000</td>\n",
       "      <td>0.000000</td>\n",
       "      <td>0.000000</td>\n",
       "      <td>0.000000</td>\n",
       "      <td>2.180000e+02</td>\n",
       "      <td>1.600000</td>\n",
       "      <td>1.620000e+02</td>\n",
       "    </tr>\n",
       "    <tr>\n",
       "      <th>25%</th>\n",
       "      <td>7.000000</td>\n",
       "      <td>614.000000</td>\n",
       "      <td>281.000000</td>\n",
       "      <td>133.000000</td>\n",
       "      <td>1411.000000</td>\n",
       "      <td>0.000000</td>\n",
       "      <td>6.000000e+06</td>\n",
       "      <td>5.800000</td>\n",
       "      <td>5.340988e+06</td>\n",
       "    </tr>\n",
       "    <tr>\n",
       "      <th>50%</th>\n",
       "      <td>49.000000</td>\n",
       "      <td>988.000000</td>\n",
       "      <td>595.000000</td>\n",
       "      <td>371.500000</td>\n",
       "      <td>3090.000000</td>\n",
       "      <td>166.000000</td>\n",
       "      <td>2.000000e+07</td>\n",
       "      <td>6.600000</td>\n",
       "      <td>2.551750e+07</td>\n",
       "    </tr>\n",
       "    <tr>\n",
       "      <th>75%</th>\n",
       "      <td>194.500000</td>\n",
       "      <td>11000.000000</td>\n",
       "      <td>918.000000</td>\n",
       "      <td>636.000000</td>\n",
       "      <td>13756.500000</td>\n",
       "      <td>3000.000000</td>\n",
       "      <td>4.500000e+07</td>\n",
       "      <td>7.200000</td>\n",
       "      <td>6.230944e+07</td>\n",
       "    </tr>\n",
       "    <tr>\n",
       "      <th>max</th>\n",
       "      <td>23000.000000</td>\n",
       "      <td>640000.000000</td>\n",
       "      <td>137000.000000</td>\n",
       "      <td>23000.000000</td>\n",
       "      <td>656730.000000</td>\n",
       "      <td>349000.000000</td>\n",
       "      <td>1.221550e+10</td>\n",
       "      <td>9.500000</td>\n",
       "      <td>7.605058e+08</td>\n",
       "    </tr>\n",
       "  </tbody>\n",
       "</table>\n",
       "</div>"
      ]
     },
     "execution_count": 9,
     "metadata": {},
     "output_type": "execute_result"
    }
   ],
   "execution_count": 9
  },
  {
   "cell_type": "markdown",
   "id": "d595b5b2ec119700",
   "metadata": {},
   "source": [
    "### Target\n",
    "De targetvariabele in dit onderzoek is de Bruto-omzet `gross`. Deze variabele vertegenwoordigt de inkomsten van een film.\n",
    "\n",
    "Om inzicht te krijgen in de verspreiding van de bruto-omzetwaarden, zullen er twee histogrammen worden gebruikt. De eerste is zonder limiet hierin is het mogelijk om ook de uitschieters te zien. De tweede is ingezoomd op de waarde tot max 100 Miljoen. Dit helpt om de verdeling van de omzet in de dataset te visualiseren en te identificeren of er sprake is van een normale verdeling, uitschieters of andere patronen die van invloed kunnen zijn op de analyses."
   ]
  },
  {
   "cell_type": "code",
   "id": "4b7674f88b7a5b0d",
   "metadata": {
    "ExecuteTime": {
     "end_time": "2024-10-09T21:11:10.430528Z",
     "start_time": "2024-10-09T21:11:09.325590Z"
    }
   },
   "source": [
    "fig, axes = plt.subplots(1, 2, figsize=(14, 6))\n",
    "gross = data_analyse['gross'].dropna()\n",
    "sns.histplot(gross / 10**6, bins=50, ax=axes[0])\n",
    "axes[0].set_title('Bruto-omzetverdeling')\n",
    "axes[0].set_xlabel('Bruto-omzet (Miljoenen)')\n",
    "axes[0].set_ylabel('Frequentie')\n",
    "\n",
    "sns.histplot(dataset['gross'] / 10**6, bins=200, ax=axes[1])\n",
    "axes[1].set_title('Bruto-omzetverdeling met limiet (Max 100 miljoen)')\n",
    "axes[1].set_xlabel('Bruto-omzet (Miljoenen)')\n",
    "axes[1].set_ylabel('Frequentie')\n",
    "\n",
    "# Zet de x-as limiet tot maximaal 200 miljoen\n",
    "axes[1].set_xlim(0, 100)\n",
    "\n",
    "plt.tight_layout()\n",
    "plt.show()"
   ],
   "outputs": [
    {
     "data": {
      "text/plain": [
       "<Figure size 1400x600 with 2 Axes>"
      ],
      "image/png": "[encoded data removed]"
     },
     "metadata": {},
     "output_type": "display_data"
    }
   ],
   "execution_count": 10
  },
  {
   "cell_type": "markdown",
   "id": "e7609b64f1d404de",
   "metadata": {},
   "source": [
    "Uit de histogrammen blijkt dat een groot deel van de `gross` waarden zich rond nul bevindt. Dit wijst mogelijk op een aanzienlijk aantal ontbrekende of ongeldige waarden in de dataset. Het kan zijn dat voor veel films de bruto-omzet ontbreekt. Dit zou de betrouwbaarheid van verdere analyses kunnen beïnvloeden."
   ]
  },
  {
   "cell_type": "code",
   "id": "a09abdf93118f873",
   "metadata": {
    "ExecuteTime": {
     "end_time": "2024-10-09T21:11:10.770580Z",
     "start_time": "2024-10-09T21:11:10.508245Z"
    }
   },
   "source": [
    "omzet = data_analyse['gross'].dropna()\n",
    "omzet_log = np.log10(omzet + 1)\n",
    "\n",
    "# Seaborn histogram plotten\n",
    "plt.figure(figsize=(8, 6))\n",
    "sns.histplot(omzet_log, bins=50, color='skyblue', edgecolor='black')\n",
    "\n",
    "# Titel en labels toevoegen\n",
    "plt.title('Bruto-omzet van films')\n",
    "plt.xlabel('Bruto-omzet')\n",
    "plt.ylabel('Aantal films')\n",
    "plt.xticks(ticks=range(10), labels=[\"1\",\"10\",\"100\",\"1k\",\"10k\",\"100k\",\"1M\", \"10M\", \"100M\", \"1B\"])\n",
    "\n",
    "plt.grid(True)\n",
    "plt.show()"
   ],
   "outputs": [
    {
     "data": {
      "text/plain": [
       "<Figure size 800x600 with 1 Axes>"
      ],
      "image/png": "[encoded data removed]"
     },
     "metadata": {},
     "output_type": "display_data"
    }
   ],
   "execution_count": 11
  },
  {
   "cell_type": "markdown",
   "id": "ff1c71975a705d02",
   "metadata": {},
   "source": [
    "Er is gekozen om een log10-transformatie toe te passen op de Bruot-omzet in plaats van een standaard histogram. Dit komt doordat er in de dataset veel films zijn met een bruto-omzet van 0 of zeer lage waarden. Door deze waarden op een lineaire schaal weer te geven, zouden de meeste films in een enkele categorie vallen, wat een onduidelijke visualisatie oplevert met weinig inzicht in de spreiding van de bruto-omzetten. De logaritmische schaal comprimeert de hoge uitschieters en spreidt de lagere waarden beter uit, waardoor de onderlinge verschillen beter zichtbaar worden en de visualisatie meer informatieve waarde krijgt."
   ]
  },
  {
   "cell_type": "markdown",
   "id": "71bc6a1cef156267",
   "metadata": {},
   "source": [
    "### Features\n",
    "\n",
    "#### Facebook likes\n",
    "Om inzicht te krijgen in de populariteit van de verschillende actoren en de regisseur, hebben we de verdeling van de Facebook-likes per persoon afzonderlijk gevisualiseerd in de vorm van histogrammen. Deze grafieken tonen de frequentie van het aantal likes van de `director`, `acteur 1`, `acteur 2`, `acteur 3`, `cast_total` en de `movie`."
   ]
  },
  {
   "cell_type": "code",
   "id": "e058a0b8560dca0d",
   "metadata": {
    "ExecuteTime": {
     "end_time": "2024-10-09T21:11:10.804823Z",
     "start_time": "2024-10-09T21:11:10.797486Z"
    }
   },
   "source": [
    "dataset['director_facebook_likes'].describe()"
   ],
   "outputs": [
    {
     "data": {
      "text/plain": [
       "count     4939.000000\n",
       "mean       686.509212\n",
       "std       2813.328607\n",
       "min          0.000000\n",
       "25%          7.000000\n",
       "50%         49.000000\n",
       "75%        194.500000\n",
       "max      23000.000000\n",
       "Name: director_facebook_likes, dtype: float64"
      ]
     },
     "execution_count": 12,
     "metadata": {},
     "output_type": "execute_result"
    }
   ],
   "execution_count": 12
  },
  {
   "cell_type": "code",
   "id": "a27e9a116a4e0636",
   "metadata": {
    "ExecuteTime": {
     "end_time": "2024-10-09T21:11:12.287854Z",
     "start_time": "2024-10-09T21:11:10.861820Z"
    }
   },
   "source": [
    "_, axes = plt.subplots(3, 2, figsize=(12, 10))\n",
    "\n",
    "# Logaritmische transformatie van de 'director_facebook_likes' om uitschieters te comprimeren\n",
    "director_likes = dataset['director_facebook_likes'].dropna()\n",
    "director_likes_log = np.log10(director_likes + 1)\n",
    "sns.histplot(director_likes_log, bins=20, kde=False, ax=axes[0, 0])\n",
    "\n",
    "axes[0, 0].set_title('Regisseur FB Likes')\n",
    "axes[0, 0].set_xlabel('Aantal Likes')\n",
    "axes[0, 0].set_ylabel('Frequentie')\n",
    "axes[0, 0].set_xticks([0, 1, 2, 3, 4, 5])\n",
    "axes[0, 0].set_xticklabels([\"1\",\"10\",\"100\",\"1k\",\"10k\",\"100k\"])\n",
    "\n",
    "# Logaritmische transformatie van de 'actor_1_facebook_likes' om uitschieters te comprimeren\n",
    "actor_1_likes = dataset['actor_1_facebook_likes'].dropna()\n",
    "actor_1_likes_log = np.log10(actor_1_likes + 1)\n",
    "sns.histplot(actor_1_likes_log, bins=20, kde=False, ax=axes[0, 1])\n",
    "\n",
    "axes[0, 1].set_title('Acteur 1 FB Likes')\n",
    "axes[0, 1].set_xlabel('Aantal Likes')\n",
    "axes[0, 1].set_ylabel('Frequentie')\n",
    "axes[0, 1].set_xticks([0, 1, 2, 3, 4, 5, 6])\n",
    "axes[0, 1].set_xticklabels([\"1\",\"10\",\"100\",\"1k\",\"10k\",\"100k\",\"1M\"])\n",
    "\n",
    "# Logaritmische transformatie van de 'actor_2_facebook_likes' om uitschieters te comprimeren\n",
    "actor_2_likes = dataset['actor_2_facebook_likes'].dropna()\n",
    "actor_2_likes_log = np.log10(actor_2_likes + 1)\n",
    "sns.histplot(actor_2_likes_log, bins=20, kde=False, ax=axes[1, 0])\n",
    "\n",
    "axes[1, 0].set_title('Acteur 2 FB Likes')\n",
    "axes[1, 0].set_xlabel('Aantal Likes')\n",
    "axes[1, 0].set_ylabel('Frequentie')\n",
    "axes[1, 0].set_xticks([0, 1, 2, 3, 4, 5, 6])\n",
    "axes[1, 0].set_xticklabels([\"1\",\"10\",\"100\",\"1k\",\"10k\",\"100k\",\"1M\"])\n",
    "\n",
    "# Logaritmische transformatie van de 'actor_3_facebook_likes' om uitschieters te comprimeren\n",
    "actor_3_likes = dataset['actor_3_facebook_likes'].dropna()\n",
    "actor_3_likes_log = np.log10(actor_3_likes + 1)\n",
    "sns.histplot(actor_3_likes_log, bins=20, kde=False, ax=axes[1, 1])\n",
    "\n",
    "axes[1, 1].set_title('Acteur 3 FB Likes')\n",
    "axes[1, 1].set_xlabel('Aantal Likes')\n",
    "axes[1, 1].set_ylabel('Frequentie')\n",
    "axes[1, 1].set_xticks([0, 1, 2, 3, 4, 5, 6])\n",
    "axes[1, 1].set_xticklabels([\"1\",\"10\",\"100\",\"1k\",\"10k\",\"100k\",\"1M\"])\n",
    "\n",
    "# Logaritmische transformatie van de 'cast_total_facebook_likes' om uitschieters te comprimeren\n",
    "cast_total_likes = dataset['cast_total_facebook_likes'].dropna()\n",
    "cast_total_likes_log = np.log10(cast_total_likes + 1)\n",
    "sns.histplot(cast_total_likes_log, bins=20, kde=False, ax=axes[2, 0])\n",
    "\n",
    "axes[2, 0].set_title('Cast Total FB Likes')\n",
    "axes[2, 0].set_xlabel('Aantal Likes')\n",
    "axes[2, 0].set_ylabel('Frequentie')\n",
    "axes[2, 0].set_xticks([0, 1, 2, 3, 4, 5, 6])\n",
    "axes[2, 0].set_xticklabels([\"1\", \"10\", \"100\", \"1k\", \"10k\", \"100k\", \"1M\"])\n",
    "\n",
    "# Logaritmische transformatie van de 'movie_facebook_likes' om uitschieters te comprimeren\n",
    "movie_likes = dataset['movie_facebook_likes'].dropna()\n",
    "movie_likes_log = np.log10(movie_likes + 1)\n",
    "sns.histplot(movie_likes_log, bins=20, kde=False, ax=axes[2, 1])\n",
    "\n",
    "axes[2, 1].set_title('Movie Facebook Likes')\n",
    "axes[2, 1].set_xlabel('Aantal Likes')\n",
    "axes[2, 1].set_ylabel('Frequentie')\n",
    "axes[2, 1].set_xticks([0, 1, 2, 3, 4, 5, 6])\n",
    "axes[2, 1].set_xticklabels([\"1\", \"10\", \"100\", \"1k\", \"10k\", \"100k\", \"1M\"])\n",
    "\n",
    "plt.tight_layout()\n",
    "plt.show()"
   ],
   "outputs": [
    {
     "data": {
      "text/plain": [
       "<Figure size 1200x1000 with 6 Axes>"
      ],
      "image/png": "[encoded data removed]"
     },
     "metadata": {},
     "output_type": "display_data"
    }
   ],
   "execution_count": 13
  },
  {
   "cell_type": "markdown",
   "id": "ad19aa162f610290",
   "metadata": {},
   "source": [
    "#### IMDB-Score"
   ]
  },
  {
   "cell_type": "code",
   "id": "1c6a849b1865520f",
   "metadata": {
    "ExecuteTime": {
     "end_time": "2024-10-09T21:11:12.506020Z",
     "start_time": "2024-10-09T21:11:12.320434Z"
    }
   },
   "source": [
    "# Veronderstel dat de dataset al geladen is en IMDb-scores bevat\n",
    "imdb_scores = data_analyse['imdb_score'].dropna()\n",
    "\n",
    "# Maak een boxplot voor de IMDb-scores\n",
    "plt.figure(figsize=(8, 6))\n",
    "sns.boxplot(x=imdb_scores)\n",
    "\n",
    "# Instellen van de titel en labels\n",
    "plt.title('IMDB Scores')\n",
    "plt.ylabel('Cijfer IMDB')\n",
    "\n",
    "# Weergeven van de plot\n",
    "plt.grid(True)\n",
    "plt.show()\n"
   ],
   "outputs": [
    {
     "data": {
      "text/plain": [
       "<Figure size 800x600 with 1 Axes>"
      ],
      "image/png": "[encoded data removed]"
     },
     "metadata": {},
     "output_type": "display_data"
    }
   ],
   "execution_count": 14
  },
  {
   "cell_type": "markdown",
   "id": "573f18cdc6c48361",
   "metadata": {},
   "source": [
    "#### Budget"
   ]
  },
  {
   "cell_type": "code",
   "id": "c096587b32e97846",
   "metadata": {
    "ExecuteTime": {
     "end_time": "2024-10-09T21:11:12.765310Z",
     "start_time": "2024-10-09T21:11:12.532862Z"
    }
   },
   "source": [
    "budget = data_analyse['budget'].dropna()\n",
    "budget_log = np.log10(budget + 1)\n",
    "\n",
    "# Seaborn histogram plotten\n",
    "plt.figure(figsize=(8, 6))\n",
    "sns.histplot(budget_log, bins=50, color='skyblue', edgecolor='black')\n",
    "\n",
    "# Titel en labels toevoegen\n",
    "plt.title('Budget')\n",
    "plt.xlabel('Budget')\n",
    "plt.ylabel('Aantal films')\n",
    "plt.xticks(ticks=range(11), labels=[\"1\",\"10\",\"100\",\"1k\",\"10k\",\"100k\",\"1M\", \"10M\", \"100M\", \"1B\", \"10B\"])\n",
    "\n",
    "plt.grid(True)\n",
    "plt.show()"
   ],
   "outputs": [
    {
     "data": {
      "text/plain": [
       "<Figure size 800x600 with 1 Axes>"
      ],
      "image/png": "[encoded data removed]"
     },
     "metadata": {},
     "output_type": "display_data"
    }
   ],
   "execution_count": 15
  },
  {
   "cell_type": "markdown",
   "id": "6312f581b750a775",
   "metadata": {},
   "source": [
    "## Data Kwaliteit\n",
    "\n",
    "### Missende Waarden\n",
    "Met de functie `isnull` kunnen we controleren hoeveel missende waarden we hebben. Hier voegen we nog een check aan toe om te kijken hoevel waarden 0 zijn"
   ]
  },
  {
   "cell_type": "code",
   "id": "ab6acbc0cd62a12d",
   "metadata": {
    "ExecuteTime": {
     "end_time": "2024-10-09T21:11:12.812297Z",
     "start_time": "2024-10-09T21:11:12.803342Z"
    }
   },
   "source": [
    "(data_analyse.isnull() | (data_analyse == 0)).sum()\n"
   ],
   "outputs": [
    {
     "data": {
      "text/plain": [
       "director_name                 104\n",
       "actor_1_name                    7\n",
       "actor_2_name                   13\n",
       "actor_3_name                   23\n",
       "director_facebook_likes      1011\n",
       "actor_1_facebook_likes         33\n",
       "actor_2_facebook_likes         68\n",
       "actor_3_facebook_likes        112\n",
       "cast_total_facebook_likes      33\n",
       "movie_facebook_likes         2181\n",
       "budget                        492\n",
       "imdb_score                      0\n",
       "gross                         884\n",
       "dtype: int64"
      ]
     },
     "execution_count": 16,
     "metadata": {},
     "output_type": "execute_result"
    }
   ],
   "execution_count": 16
  },
  {
   "cell_type": "markdown",
   "id": "385bb83c9fd0d28",
   "metadata": {},
   "source": [
    "### Duplicate data\n",
    "Met de functie `duplicated` checken we of er duplicates in de data zijn. Dit checken we door de waarde van kolommen `movie_title` en `movie_imdb_link` mee te geven aangezien dit eigenlijk de unieke waarden zouden moeten zijn."
   ]
  },
  {
   "cell_type": "code",
   "id": "3cd8f82225d49040",
   "metadata": {
    "ExecuteTime": {
     "end_time": "2024-10-09T21:11:12.899750Z",
     "start_time": "2024-10-09T21:11:12.872016Z"
    }
   },
   "source": [
    "dataset[dataset.duplicated(['movie_title', 'movie_imdb_link'])]"
   ],
   "outputs": [
    {
     "data": {
      "text/plain": [
       "                 color     director_name  num_critic_for_reviews  duration  \\\n",
       "137              Color       David Yates                   248.0     110.0   \n",
       "187              Color       Bill Condon                   322.0     115.0   \n",
       "204              Color      Hideaki Anno                     1.0     120.0   \n",
       "303              Color        Joe Wright                   256.0     111.0   \n",
       "389              Color        Josh Trank                   369.0     100.0   \n",
       "...                ...               ...                     ...       ...   \n",
       "4942             Color     Paul Schrader                   130.0      93.0   \n",
       "4950             Color     David Hewlett                     8.0      88.0   \n",
       "4951   Black and White  George A. Romero                   284.0      96.0   \n",
       "4971             Color    Dennis Iliadis                   241.0     114.0   \n",
       "5012             Color        David Ayer                   233.0     109.0   \n",
       "\n",
       "      director_facebook_likes  actor_3_facebook_likes         actor_2_name  \\\n",
       "137                     282.0                   103.0  Alexander Skarsgård   \n",
       "187                     386.0                 12000.0      Kristen Stewart   \n",
       "204                      28.0                    12.0    Shin'ya Tsukamoto   \n",
       "303                     456.0                   394.0      Cara Delevingne   \n",
       "389                     128.0                    78.0        Reg E. Cathey   \n",
       "...                       ...                     ...                  ...   \n",
       "4942                    261.0                   697.0             Ruby Dee   \n",
       "4950                    686.0                   405.0        David Hewlett   \n",
       "4951                      0.0                    56.0          Duane Jones   \n",
       "4971                     29.0                   616.0        Monica Potter   \n",
       "5012                    453.0                   120.0       Martin Donovan   \n",
       "\n",
       "      actor_1_facebook_likes        gross  \\\n",
       "137                  11000.0  124051759.0   \n",
       "187                  21000.0  292298923.0   \n",
       "204                    544.0          NaN   \n",
       "303                  20000.0   34964818.0   \n",
       "389                    596.0   56114221.0   \n",
       "...                      ...          ...   \n",
       "4942                   783.0          NaN   \n",
       "4950                   847.0          NaN   \n",
       "4951                   125.0          NaN   \n",
       "4971                   956.0   32721635.0   \n",
       "5012                  1000.0   10499968.0   \n",
       "\n",
       "                                    genres  ... num_user_for_reviews  \\\n",
       "137         Action|Adventure|Drama|Romance  ...                239.0   \n",
       "187        Adventure|Drama|Fantasy|Romance  ...                329.0   \n",
       "204   Action|Adventure|Drama|Horror|Sci-Fi  ...                 13.0   \n",
       "303               Adventure|Family|Fantasy  ...                186.0   \n",
       "389                Action|Adventure|Sci-Fi  ...                695.0   \n",
       "...                                    ...  ...                  ...   \n",
       "4942               Fantasy|Horror|Thriller  ...                106.0   \n",
       "4950                                Comedy  ...                 46.0   \n",
       "4951                  Drama|Horror|Mystery  ...                580.0   \n",
       "4971                 Crime|Horror|Thriller  ...                279.0   \n",
       "5012           Action|Crime|Drama|Thriller  ...                212.0   \n",
       "\n",
       "      language  country  content_rating       budget  title_year  \\\n",
       "137    English      USA           PG-13  180000000.0      2016.0   \n",
       "187    English      USA           PG-13  120000000.0      2012.0   \n",
       "204   Japanese    Japan             NaN          NaN      2016.0   \n",
       "303    English      USA              PG  150000000.0      2015.0   \n",
       "389    English      USA           PG-13  120000000.0      2015.0   \n",
       "...        ...      ...             ...          ...         ...   \n",
       "4942   English      USA               R   18000000.0      1982.0   \n",
       "4950   English   Canada             NaN     120000.0      2007.0   \n",
       "4951   English      USA         Unrated     114000.0      1968.0   \n",
       "4971   English      USA               R   15000000.0      2009.0   \n",
       "5012   English      USA               R   35000000.0      2014.0   \n",
       "\n",
       "     actor_2_facebook_likes imdb_score  aspect_ratio movie_facebook_likes  \n",
       "137                 10000.0        6.6          2.35                29000  \n",
       "187                 17000.0        5.5          2.35                65000  \n",
       "204                   106.0        8.2          2.35                    0  \n",
       "303                   548.0        5.8          2.35                24000  \n",
       "389                   360.0        4.3          2.35                41000  \n",
       "...                     ...        ...           ...                  ...  \n",
       "4942                  782.0        6.1          1.85                    0  \n",
       "4950                  686.0        7.0          1.78                  377  \n",
       "4951                  108.0        8.0          1.85                    0  \n",
       "4971                  878.0        6.6          1.85                    0  \n",
       "5012                  206.0        5.7          1.85                10000  \n",
       "\n",
       "[124 rows x 28 columns]"
      ],
      "text/html": [
       "<div>\n",
       "<style scoped>\n",
       "    .dataframe tbody tr th:only-of-type {\n",
       "        vertical-align: middle;\n",
       "    }\n",
       "\n",
       "    .dataframe tbody tr th {\n",
       "        vertical-align: top;\n",
       "    }\n",
       "\n",
       "    .dataframe thead th {\n",
       "        text-align: right;\n",
       "    }\n",
       "</style>\n",
       "<table border=\"1\" class=\"dataframe\">\n",
       "  <thead>\n",
       "    <tr style=\"text-align: right;\">\n",
       "      <th></th>\n",
       "      <th>color</th>\n",
       "      <th>director_name</th>\n",
       "      <th>num_critic_for_reviews</th>\n",
       "      <th>duration</th>\n",
       "      <th>director_facebook_likes</th>\n",
       "      <th>actor_3_facebook_likes</th>\n",
       "      <th>actor_2_name</th>\n",
       "      <th>actor_1_facebook_likes</th>\n",
       "      <th>gross</th>\n",
       "      <th>genres</th>\n",
       "      <th>...</th>\n",
       "      <th>num_user_for_reviews</th>\n",
       "      <th>language</th>\n",
       "      <th>country</th>\n",
       "      <th>content_rating</th>\n",
       "      <th>budget</th>\n",
       "      <th>title_year</th>\n",
       "      <th>actor_2_facebook_likes</th>\n",
       "      <th>imdb_score</th>\n",
       "      <th>aspect_ratio</th>\n",
       "      <th>movie_facebook_likes</th>\n",
       "    </tr>\n",
       "  </thead>\n",
       "  <tbody>\n",
       "    <tr>\n",
       "      <th>137</th>\n",
       "      <td>Color</td>\n",
       "      <td>David Yates</td>\n",
       "      <td>248.0</td>\n",
       "      <td>110.0</td>\n",
       "      <td>282.0</td>\n",
       "      <td>103.0</td>\n",
       "      <td>Alexander Skarsgård</td>\n",
       "      <td>11000.0</td>\n",
       "      <td>124051759.0</td>\n",
       "      <td>Action|Adventure|Drama|Romance</td>\n",
       "      <td>...</td>\n",
       "      <td>239.0</td>\n",
       "      <td>English</td>\n",
       "      <td>USA</td>\n",
       "      <td>PG-13</td>\n",
       "      <td>180000000.0</td>\n",
       "      <td>2016.0</td>\n",
       "      <td>10000.0</td>\n",
       "      <td>6.6</td>\n",
       "      <td>2.35</td>\n",
       "      <td>29000</td>\n",
       "    </tr>\n",
       "    <tr>\n",
       "      <th>187</th>\n",
       "      <td>Color</td>\n",
       "      <td>Bill Condon</td>\n",
       "      <td>322.0</td>\n",
       "      <td>115.0</td>\n",
       "      <td>386.0</td>\n",
       "      <td>12000.0</td>\n",
       "      <td>Kristen Stewart</td>\n",
       "      <td>21000.0</td>\n",
       "      <td>292298923.0</td>\n",
       "      <td>Adventure|Drama|Fantasy|Romance</td>\n",
       "      <td>...</td>\n",
       "      <td>329.0</td>\n",
       "      <td>English</td>\n",
       "      <td>USA</td>\n",
       "      <td>PG-13</td>\n",
       "      <td>120000000.0</td>\n",
       "      <td>2012.0</td>\n",
       "      <td>17000.0</td>\n",
       "      <td>5.5</td>\n",
       "      <td>2.35</td>\n",
       "      <td>65000</td>\n",
       "    </tr>\n",
       "    <tr>\n",
       "      <th>204</th>\n",
       "      <td>Color</td>\n",
       "      <td>Hideaki Anno</td>\n",
       "      <td>1.0</td>\n",
       "      <td>120.0</td>\n",
       "      <td>28.0</td>\n",
       "      <td>12.0</td>\n",
       "      <td>Shin'ya Tsukamoto</td>\n",
       "      <td>544.0</td>\n",
       "      <td>NaN</td>\n",
       "      <td>Action|Adventure|Drama|Horror|Sci-Fi</td>\n",
       "      <td>...</td>\n",
       "      <td>13.0</td>\n",
       "      <td>Japanese</td>\n",
       "      <td>Japan</td>\n",
       "      <td>NaN</td>\n",
       "      <td>NaN</td>\n",
       "      <td>2016.0</td>\n",
       "      <td>106.0</td>\n",
       "      <td>8.2</td>\n",
       "      <td>2.35</td>\n",
       "      <td>0</td>\n",
       "    </tr>\n",
       "    <tr>\n",
       "      <th>303</th>\n",
       "      <td>Color</td>\n",
       "      <td>Joe Wright</td>\n",
       "      <td>256.0</td>\n",
       "      <td>111.0</td>\n",
       "      <td>456.0</td>\n",
       "      <td>394.0</td>\n",
       "      <td>Cara Delevingne</td>\n",
       "      <td>20000.0</td>\n",
       "      <td>34964818.0</td>\n",
       "      <td>Adventure|Family|Fantasy</td>\n",
       "      <td>...</td>\n",
       "      <td>186.0</td>\n",
       "      <td>English</td>\n",
       "      <td>USA</td>\n",
       "      <td>PG</td>\n",
       "      <td>150000000.0</td>\n",
       "      <td>2015.0</td>\n",
       "      <td>548.0</td>\n",
       "      <td>5.8</td>\n",
       "      <td>2.35</td>\n",
       "      <td>24000</td>\n",
       "    </tr>\n",
       "    <tr>\n",
       "      <th>389</th>\n",
       "      <td>Color</td>\n",
       "      <td>Josh Trank</td>\n",
       "      <td>369.0</td>\n",
       "      <td>100.0</td>\n",
       "      <td>128.0</td>\n",
       "      <td>78.0</td>\n",
       "      <td>Reg E. Cathey</td>\n",
       "      <td>596.0</td>\n",
       "      <td>56114221.0</td>\n",
       "      <td>Action|Adventure|Sci-Fi</td>\n",
       "      <td>...</td>\n",
       "      <td>695.0</td>\n",
       "      <td>English</td>\n",
       "      <td>USA</td>\n",
       "      <td>PG-13</td>\n",
       "      <td>120000000.0</td>\n",
       "      <td>2015.0</td>\n",
       "      <td>360.0</td>\n",
       "      <td>4.3</td>\n",
       "      <td>2.35</td>\n",
       "      <td>41000</td>\n",
       "    </tr>\n",
       "    <tr>\n",
       "      <th>...</th>\n",
       "      <td>...</td>\n",
       "      <td>...</td>\n",
       "      <td>...</td>\n",
       "      <td>...</td>\n",
       "      <td>...</td>\n",
       "      <td>...</td>\n",
       "      <td>...</td>\n",
       "      <td>...</td>\n",
       "      <td>...</td>\n",
       "      <td>...</td>\n",
       "      <td>...</td>\n",
       "      <td>...</td>\n",
       "      <td>...</td>\n",
       "      <td>...</td>\n",
       "      <td>...</td>\n",
       "      <td>...</td>\n",
       "      <td>...</td>\n",
       "      <td>...</td>\n",
       "      <td>...</td>\n",
       "      <td>...</td>\n",
       "      <td>...</td>\n",
       "    </tr>\n",
       "    <tr>\n",
       "      <th>4942</th>\n",
       "      <td>Color</td>\n",
       "      <td>Paul Schrader</td>\n",
       "      <td>130.0</td>\n",
       "      <td>93.0</td>\n",
       "      <td>261.0</td>\n",
       "      <td>697.0</td>\n",
       "      <td>Ruby Dee</td>\n",
       "      <td>783.0</td>\n",
       "      <td>NaN</td>\n",
       "      <td>Fantasy|Horror|Thriller</td>\n",
       "      <td>...</td>\n",
       "      <td>106.0</td>\n",
       "      <td>English</td>\n",
       "      <td>USA</td>\n",
       "      <td>R</td>\n",
       "      <td>18000000.0</td>\n",
       "      <td>1982.0</td>\n",
       "      <td>782.0</td>\n",
       "      <td>6.1</td>\n",
       "      <td>1.85</td>\n",
       "      <td>0</td>\n",
       "    </tr>\n",
       "    <tr>\n",
       "      <th>4950</th>\n",
       "      <td>Color</td>\n",
       "      <td>David Hewlett</td>\n",
       "      <td>8.0</td>\n",
       "      <td>88.0</td>\n",
       "      <td>686.0</td>\n",
       "      <td>405.0</td>\n",
       "      <td>David Hewlett</td>\n",
       "      <td>847.0</td>\n",
       "      <td>NaN</td>\n",
       "      <td>Comedy</td>\n",
       "      <td>...</td>\n",
       "      <td>46.0</td>\n",
       "      <td>English</td>\n",
       "      <td>Canada</td>\n",
       "      <td>NaN</td>\n",
       "      <td>120000.0</td>\n",
       "      <td>2007.0</td>\n",
       "      <td>686.0</td>\n",
       "      <td>7.0</td>\n",
       "      <td>1.78</td>\n",
       "      <td>377</td>\n",
       "    </tr>\n",
       "    <tr>\n",
       "      <th>4951</th>\n",
       "      <td>Black and White</td>\n",
       "      <td>George A. Romero</td>\n",
       "      <td>284.0</td>\n",
       "      <td>96.0</td>\n",
       "      <td>0.0</td>\n",
       "      <td>56.0</td>\n",
       "      <td>Duane Jones</td>\n",
       "      <td>125.0</td>\n",
       "      <td>NaN</td>\n",
       "      <td>Drama|Horror|Mystery</td>\n",
       "      <td>...</td>\n",
       "      <td>580.0</td>\n",
       "      <td>English</td>\n",
       "      <td>USA</td>\n",
       "      <td>Unrated</td>\n",
       "      <td>114000.0</td>\n",
       "      <td>1968.0</td>\n",
       "      <td>108.0</td>\n",
       "      <td>8.0</td>\n",
       "      <td>1.85</td>\n",
       "      <td>0</td>\n",
       "    </tr>\n",
       "    <tr>\n",
       "      <th>4971</th>\n",
       "      <td>Color</td>\n",
       "      <td>Dennis Iliadis</td>\n",
       "      <td>241.0</td>\n",
       "      <td>114.0</td>\n",
       "      <td>29.0</td>\n",
       "      <td>616.0</td>\n",
       "      <td>Monica Potter</td>\n",
       "      <td>956.0</td>\n",
       "      <td>32721635.0</td>\n",
       "      <td>Crime|Horror|Thriller</td>\n",
       "      <td>...</td>\n",
       "      <td>279.0</td>\n",
       "      <td>English</td>\n",
       "      <td>USA</td>\n",
       "      <td>R</td>\n",
       "      <td>15000000.0</td>\n",
       "      <td>2009.0</td>\n",
       "      <td>878.0</td>\n",
       "      <td>6.6</td>\n",
       "      <td>1.85</td>\n",
       "      <td>0</td>\n",
       "    </tr>\n",
       "    <tr>\n",
       "      <th>5012</th>\n",
       "      <td>Color</td>\n",
       "      <td>David Ayer</td>\n",
       "      <td>233.0</td>\n",
       "      <td>109.0</td>\n",
       "      <td>453.0</td>\n",
       "      <td>120.0</td>\n",
       "      <td>Martin Donovan</td>\n",
       "      <td>1000.0</td>\n",
       "      <td>10499968.0</td>\n",
       "      <td>Action|Crime|Drama|Thriller</td>\n",
       "      <td>...</td>\n",
       "      <td>212.0</td>\n",
       "      <td>English</td>\n",
       "      <td>USA</td>\n",
       "      <td>R</td>\n",
       "      <td>35000000.0</td>\n",
       "      <td>2014.0</td>\n",
       "      <td>206.0</td>\n",
       "      <td>5.7</td>\n",
       "      <td>1.85</td>\n",
       "      <td>10000</td>\n",
       "    </tr>\n",
       "  </tbody>\n",
       "</table>\n",
       "<p>124 rows × 28 columns</p>\n",
       "</div>"
      ]
     },
     "execution_count": 17,
     "metadata": {},
     "output_type": "execute_result"
    }
   ],
   "execution_count": 17
  },
  {
   "cell_type": "markdown",
   "id": "1a95e0287ed9046a",
   "metadata": {},
   "source": [
    "### Uitschieters"
   ]
  },
  {
   "cell_type": "code",
   "id": "a1daa232ad9b4a69",
   "metadata": {
    "ExecuteTime": {
     "end_time": "2024-10-09T21:11:12.940855Z",
     "start_time": "2024-10-09T21:11:12.935154Z"
    }
   },
   "source": [
    "def bepaal_uitschieters(kolom):\n",
    "\n",
    "        # Q1, Q3 en IQR bepalen\n",
    "        q1 = data_analyse[kolom].quantile(0.25)\n",
    "        q3 = data_analyse[kolom].quantile(0.75)\n",
    "        iqr = q3 - q1\n",
    "\n",
    "        # Limieten uitschieters berekenen\n",
    "        klein_laag = q1 - 1.5 * iqr\n",
    "        klein_hoog = q3 + 1.5 * iqr\n",
    "        extreem_laag = q1 - 3 * iqr\n",
    "        extreem_hoog = q3 + 3 * iqr\n",
    "\n",
    "        print(f\"Kolom: {kolom}\")\n",
    "        print(F\"Totaal aantal waarden: {data_analyse[kolom].count()}\")\n",
    "        # Kleine uitschieters (1.5 - 3 IQR)\n",
    "        kleine_uitschieters = data_analyse[kolom][((data_analyse[kolom] < klein_laag) & (data_analyse[kolom] > extreem_laag)) | ((data_analyse[kolom] > klein_hoog) & (data_analyse[kolom] < extreem_hoog))]\n",
    "        print(f\"Kleine uitschieters: {kleine_uitschieters.count()} ({kleine_uitschieters.count() / data_analyse[kolom].count() * 100:.2f}%)\")\n",
    "    \n",
    "        # Extreme uitschieters (3+ IQR)\n",
    "        extreme_uitschieters = data_analyse[kolom][(data_analyse[kolom] < extreem_laag) | (data_analyse[kolom] > extreem_hoog)]\n",
    "        print(f\"Extreme uitschieters: {extreme_uitschieters.count()} ({extreme_uitschieters.count() / data_analyse[kolom].count() * 100:.2f}%)\")"
   ],
   "outputs": [],
   "execution_count": 18
  },
  {
   "cell_type": "code",
   "id": "dc1c07b2",
   "metadata": {
    "ExecuteTime": {
     "end_time": "2024-10-09T21:11:13.013564Z",
     "start_time": "2024-10-09T21:11:13.007610Z"
    }
   },
   "source": [
    "bepaal_uitschieters('director_facebook_likes')"
   ],
   "outputs": [
    {
     "name": "stdout",
     "output_type": "stream",
     "text": [
      "Kolom: director_facebook_likes\n",
      "Totaal aantal waarden: 4939\n",
      "Kleine uitschieters: 268 (5.43%)\n",
      "Extreme uitschieters: 333 (6.74%)\n"
     ]
    }
   ],
   "execution_count": 19
  },
  {
   "cell_type": "code",
   "id": "f2929942",
   "metadata": {
    "ExecuteTime": {
     "end_time": "2024-10-09T21:11:13.082338Z",
     "start_time": "2024-10-09T21:11:13.074405Z"
    }
   },
   "source": [
    "bepaal_uitschieters('actor_1_facebook_likes')"
   ],
   "outputs": [
    {
     "name": "stdout",
     "output_type": "stream",
     "text": [
      "Kolom: actor_1_facebook_likes\n",
      "Totaal aantal waarden: 5036\n",
      "Kleine uitschieters: 118 (2.34%)\n",
      "Extreme uitschieters: 52 (1.03%)\n"
     ]
    }
   ],
   "execution_count": 20
  },
  {
   "cell_type": "code",
   "id": "3619c0b0",
   "metadata": {
    "ExecuteTime": {
     "end_time": "2024-10-09T21:11:13.161810Z",
     "start_time": "2024-10-09T21:11:13.154725Z"
    }
   },
   "source": [
    "bepaal_uitschieters('actor_2_facebook_likes')"
   ],
   "outputs": [
    {
     "name": "stdout",
     "output_type": "stream",
     "text": [
      "Kolom: actor_2_facebook_likes\n",
      "Totaal aantal waarden: 5030\n",
      "Kleine uitschieters: 100 (1.99%)\n",
      "Extreme uitschieters: 538 (10.70%)\n"
     ]
    }
   ],
   "execution_count": 21
  },
  {
   "cell_type": "code",
   "id": "dc1d1356",
   "metadata": {
    "ExecuteTime": {
     "end_time": "2024-10-09T21:11:13.266383Z",
     "start_time": "2024-10-09T21:11:13.258872Z"
    }
   },
   "source": [
    "bepaal_uitschieters('actor_3_facebook_likes')"
   ],
   "outputs": [
    {
     "name": "stdout",
     "output_type": "stream",
     "text": [
      "Kolom: actor_3_facebook_likes\n",
      "Totaal aantal waarden: 5020\n",
      "Kleine uitschieters: 27 (0.54%)\n",
      "Extreme uitschieters: 146 (2.91%)\n"
     ]
    }
   ],
   "execution_count": 22
  },
  {
   "cell_type": "code",
   "id": "7f3e5570",
   "metadata": {
    "ExecuteTime": {
     "end_time": "2024-10-09T21:11:13.358345Z",
     "start_time": "2024-10-09T21:11:13.350146Z"
    }
   },
   "source": [
    "bepaal_uitschieters('cast_total_facebook_likes')"
   ],
   "outputs": [
    {
     "name": "stdout",
     "output_type": "stream",
     "text": [
      "Kolom: cast_total_facebook_likes\n",
      "Totaal aantal waarden: 5043\n",
      "Kleine uitschieters: 244 (4.84%)\n",
      "Extreme uitschieters: 110 (2.18%)\n"
     ]
    }
   ],
   "execution_count": 23
  },
  {
   "cell_type": "code",
   "id": "a9891640",
   "metadata": {
    "ExecuteTime": {
     "end_time": "2024-10-09T21:11:13.408775Z",
     "start_time": "2024-10-09T21:11:13.400578Z"
    }
   },
   "source": [
    "bepaal_uitschieters('movie_facebook_likes')"
   ],
   "outputs": [
    {
     "name": "stdout",
     "output_type": "stream",
     "text": [
      "Kolom: movie_facebook_likes\n",
      "Totaal aantal waarden: 5043\n",
      "Kleine uitschieters: 181 (3.59%)\n",
      "Extreme uitschieters: 930 (18.44%)\n"
     ]
    }
   ],
   "execution_count": 24
  },
  {
   "cell_type": "code",
   "id": "eddd4fb0",
   "metadata": {
    "ExecuteTime": {
     "end_time": "2024-10-09T21:11:13.454527Z",
     "start_time": "2024-10-09T21:11:13.447780Z"
    }
   },
   "source": [
    "bepaal_uitschieters('budget')"
   ],
   "outputs": [
    {
     "name": "stdout",
     "output_type": "stream",
     "text": [
      "Kolom: budget\n",
      "Totaal aantal waarden: 4551\n",
      "Kleine uitschieters: 200 (4.39%)\n",
      "Extreme uitschieters: 118 (2.59%)\n"
     ]
    }
   ],
   "execution_count": 25
  },
  {
   "cell_type": "code",
   "id": "42632b5e",
   "metadata": {
    "ExecuteTime": {
     "end_time": "2024-10-09T21:11:13.498546Z",
     "start_time": "2024-10-09T21:11:13.492038Z"
    }
   },
   "source": [
    "bepaal_uitschieters('gross')"
   ],
   "outputs": [
    {
     "name": "stdout",
     "output_type": "stream",
     "text": [
      "Kolom: gross\n",
      "Totaal aantal waarden: 4159\n",
      "Kleine uitschieters: 187 (4.50%)\n",
      "Extreme uitschieters: 119 (2.86%)\n"
     ]
    }
   ],
   "execution_count": 26
  },
  {
   "cell_type": "markdown",
   "id": "5edd885e",
   "metadata": {},
   "source": [
    "## Waarnemingen\n",
    "\n",
    "- movie_facebook_likes heeft 930 extreme uitschieters, dat is behoorlijk veel. Zoals eerder benoemd, komt dit waarschijnlijk doordat er veel films zijn zonder facebook pagina, wat geregistreerd wordt als 0 likes.\n",
    "\n",
    "- imdb_score heeft 0 extreme uitschieters. Dit lijkt ons logisch omdat de imdb score voor een film altijd tussen de 1 en 10 ligt. Er zal dus nooit een waarde van bijvoorbeeld 100 moeten zijn, wat een extreme uitschieter zou zijn.\n",
    "\n",
    "- De kolommen movie_facebook_likes en imdb_score hebben beide 5043 waarden, maar budget en gross hebben minder waarden (4551 en 4159 waarden).  \n",
    "We zullen hier een oplossing voor moeten vinden, door bijvoorbeeld de rijen met missende waarden te droppen van de dataset.\n",
    "\n",
    "- Q1 voor movie_facebook_likes is 0, dit betekent dat ten minste 25% van de films 0 facebook likes hebben. Dit komt waarschijnlijk omdat deze films geen facebook-pagina hebben."
   ]
  },
  {
   "cell_type": "markdown",
   "id": "4d6ab33ae8201a5e",
   "metadata": {},
   "source": [
    "# 3. Data preparation\n",
    "\n",
    "\n",
    "## Data Cleaning"
   ]
  },
  {
   "cell_type": "markdown",
   "id": "d0a8d8c6fe7d8852",
   "metadata": {},
   "source": [
    "### Verwerken van de IMDb-link\n",
    "In deze stap verwijderen we de volledige IMDb-link omdat we deze niet nodig hebben voor onze analyse. We extraheren echter de `imdb_id` uit de link, die we later kunnen gebruiken om de dataset te koppelen aan een externe dataset.\n"
   ]
  },
  {
   "cell_type": "code",
   "id": "ef793c4d749b89c9",
   "metadata": {
    "ExecuteTime": {
     "end_time": "2024-10-09T21:11:13.594213Z",
     "start_time": "2024-10-09T21:11:13.587885Z"
    }
   },
   "source": [
    "dataset['movie_imdb_link'] = dataset['movie_imdb_link'].str.slice(start=28, stop=-17)"
   ],
   "outputs": [],
   "execution_count": 28
  },
  {
   "cell_type": "markdown",
   "id": "875c487abcff0878",
   "metadata": {},
   "source": [
    "### kolomnamen\n",
    "In deze stap wijzigen we de kolomnamen van de dataset naar het Nederlands voor een betere leesbaarheid en consistentie. Dit helpt om de data-analyse en rapportage te vergemakkelijken.\n"
   ]
  },
  {
   "cell_type": "code",
   "id": "2c0b5fd2dc2a48e7",
   "metadata": {
    "ExecuteTime": {
     "end_time": "2024-10-09T21:11:13.643112Z",
     "start_time": "2024-10-09T21:11:13.638138Z"
    }
   },
   "source": [
    "dataset.rename(columns={\n",
    "    'director_name': 'regisseur',\n",
    "    'director_facebook_likes': 'regisseur_likes',\n",
    "    'actor_1_name': 'acteur_1',\n",
    "    'actor_1_facebook_likes': 'acteur_1_likes',\n",
    "    'actor_2_name': 'acteur_2',\n",
    "    'actor_2_facebook_likes': 'acteur_2_likes',\n",
    "    'actor_3_name': 'acteur_3',\n",
    "    'actor_3_facebook_likes': 'acteur_3_likes',\n",
    "    'cast_total_facebook_likes': 'cast_totaal_likes',\n",
    "    'movie_facebook_likes': 'film_likes',\n",
    "    'movie_title': 'titel',\n",
    "    'movie_imdb_link': 'imdb_id',\n",
    "    'gross': 'omzet',\n",
    "    'country': 'land',\n",
    "    'budget': 'budget',\n",
    "    'imdb_score': 'imdb_score',\n",
    "}, inplace=True)"
   ],
   "outputs": [],
   "execution_count": 29
  },
  {
   "cell_type": "markdown",
   "id": "f8a975cc7ce2165a",
   "metadata": {},
   "source": [
    "### Drop NaN\n",
    "In deze stap controleren we op ontbrekende waarden in de kolommen die essentieel zijn voor onze analyses. We hebben ervoor gekozen om rijen met ontbrekende waarden te verwijderen in plaats van ze op te vullen, omdat het invullen van ontbrekende gegevens kan leiden tot vertekening van de analyses.\n"
   ]
  },
  {
   "cell_type": "code",
   "id": "afa884720ac34b8d",
   "metadata": {
    "ExecuteTime": {
     "end_time": "2024-10-09T21:11:13.686657Z",
     "start_time": "2024-10-09T21:11:13.676329Z"
    }
   },
   "source": [
    "columns_to_check = [\n",
    "    'regisseur',\n",
    "    'acteur_1',\n",
    "    'acteur_2',\n",
    "    'acteur_3',\n",
    "    'regisseur_likes',\n",
    "    'acteur_1_likes',\n",
    "    'acteur_2_likes',\n",
    "    'acteur_3_likes',\n",
    "    'budget',\n",
    "    'omzet'\n",
    "]\n",
    "\n",
    "# Controleer op ontbrekende waarden in de specifieke kolommen\n",
    "missing_values = dataset[columns_to_check].isna().sum()\n",
    "\n",
    "# Print de resultaten\n",
    "print(\"Ontbrekende waarden per kolom:\\n\", missing_values)\n",
    "\n",
    "dataset = dataset.dropna(subset=columns_to_check)"
   ],
   "outputs": [
    {
     "name": "stdout",
     "output_type": "stream",
     "text": [
      "Ontbrekende waarden per kolom:\n",
      " regisseur          104\n",
      "acteur_1             7\n",
      "acteur_2            13\n",
      "acteur_3            23\n",
      "regisseur_likes    104\n",
      "acteur_1_likes       7\n",
      "acteur_2_likes      13\n",
      "acteur_3_likes      23\n",
      "budget             492\n",
      "omzet              884\n",
      "dtype: int64\n"
     ]
    }
   ],
   "execution_count": 30
  },
  {
   "metadata": {},
   "cell_type": "markdown",
   "source": "### Verwijderen trailing spaces in de films dataset (titel kolom)",
   "id": "e0ee74e7119e6c6c"
  },
  {
   "metadata": {
    "ExecuteTime": {
     "end_time": "2024-10-09T21:11:13.728734Z",
     "start_time": "2024-10-09T21:11:13.722293Z"
    }
   },
   "cell_type": "code",
   "source": [
    "print(dataset['titel'][0])\n",
    "print(f\"{len(dataset['titel'][0])} karakters\")\n",
    "\n",
    "dataset['titel'] = dataset['titel'].str.rstrip()\n",
    "\n",
    "print(dataset['titel'][0])\n",
    "print(f\"{len(dataset['titel'][0])} karakters\")"
   ],
   "id": "6d3ad66ed768000c",
   "outputs": [
    {
     "name": "stdout",
     "output_type": "stream",
     "text": [
      "Avatar \n",
      "7 karakters\n",
      "Avatar\n",
      "6 karakters\n"
     ]
    }
   ],
   "execution_count": 31
  },
  {
   "cell_type": "markdown",
   "id": "1196974a962cd27b",
   "metadata": {},
   "source": [
    "### Drop Duplicates \n",
    "In deze stap controleren we de dataset op duplicaten. Duplicaten kunnen ontstaan door foutieve gegevensinvoer of tijdens het samenvoegen van meerdere datasets.\n",
    "\n",
    "In deze code controleren we specifiek op duplicaten op basis van de kolom `titel`, omdat we ervan uitgaan dat elke film een unieke titel moet hebben.\n",
    " \n",
    "Na het identificeren van de duplicaten, verwijderen we deze om ervoor te zorgen dat onze dataset alleen unieke films bevat.\n"
   ]
  },
  {
   "cell_type": "code",
   "id": "7b1b6f6c338f2b38",
   "metadata": {
    "ExecuteTime": {
     "end_time": "2024-10-09T21:11:13.772638Z",
     "start_time": "2024-10-09T21:11:13.764936Z"
    }
   },
   "source": [
    "# Controleert het aantal duplicates in de dataset.\n",
    "totaal_duplicates = dataset.duplicated(['titel']).sum()\n",
    "print(f\"Aantal duplicates in de dataset: {totaal_duplicates}\")\n",
    "\n",
    "# Verwijder duplicates gebaseerd op de 'titel' kolom\n",
    "dataset = dataset.drop_duplicates(['titel'])\n",
    "\n",
    "# Controleer opnieuw of er nog duplicates zijn\n",
    "remaining_duplicates = dataset.duplicated(['titel']).sum()\n",
    "print(f\"Aantal duplicates na verwijdering: {remaining_duplicates}\")"
   ],
   "outputs": [
    {
     "name": "stdout",
     "output_type": "stream",
     "text": [
      "Aantal duplicates in de dataset: 102\n",
      "Aantal duplicates na verwijdering: 0\n"
     ]
    }
   ],
   "execution_count": 32
  },
  {
   "cell_type": "markdown",
   "id": "5778bc8765d04e67",
   "metadata": {},
   "source": [
    "### Local Currency to USD"
   ]
  },
  {
   "cell_type": "code",
   "id": "49aa56976666ea16",
   "metadata": {
    "ExecuteTime": {
     "end_time": "2024-10-09T21:11:13.892231Z",
     "start_time": "2024-10-09T21:11:13.809969Z"
    }
   },
   "source": [
    "# Lees het CSV-bestand met de wisselkoersen\n",
    "land_valuta_koers = pd.read_csv('land_valuta_koers.csv')\n",
    "\n",
    "# Maak een dictionary voor de wisselkoersen\n",
    "valuta_naar_usd_dict = pd.Series(land_valuta_koers['Koers_naar_USD'].values, index=land_valuta_koers['Land']).to_dict()\n",
    "\n",
    "# Pas de omzet aan op basis van het land en de wisselkoers en rond af op 2 decimalen\n",
    "dataset['omzet'] = dataset.apply(\n",
    "    lambda row: round(row['omzet'] * valuta_naar_usd_dict.get(row['land'], 1), 2),  # Gebruik 1 als standaardwaarde\n",
    "    axis=1\n",
    ")\n",
    "\n",
    "# Pas het budget aan op basis van het land en de wisselkoers en rond af op 2 decimalen\n",
    "dataset['budget'] = dataset.apply(\n",
    "    lambda row: round(row['budget'] * valuta_naar_usd_dict.get(row['land'], 1), 2),  # Gebruik 1 als standaardwaarde\n",
    "    axis=1\n",
    ")\n",
    "\n",
    "\n",
    "# de eerste paar rijen om te controleren of de omzet goed is aangepast\n",
    "dataset[['land', 'budget', 'omzet']].head()"
   ],
   "outputs": [
    {
     "data": {
      "text/plain": [
       "  land       budget         omzet\n",
       "0  USA  237000000.0  7.605058e+08\n",
       "1  USA  300000000.0  3.094042e+08\n",
       "2   UK  325850000.0  2.660987e+08\n",
       "3  USA  250000000.0  4.481306e+08\n",
       "5  USA  263700000.0  7.305868e+07"
      ],
      "text/html": [
       "<div>\n",
       "<style scoped>\n",
       "    .dataframe tbody tr th:only-of-type {\n",
       "        vertical-align: middle;\n",
       "    }\n",
       "\n",
       "    .dataframe tbody tr th {\n",
       "        vertical-align: top;\n",
       "    }\n",
       "\n",
       "    .dataframe thead th {\n",
       "        text-align: right;\n",
       "    }\n",
       "</style>\n",
       "<table border=\"1\" class=\"dataframe\">\n",
       "  <thead>\n",
       "    <tr style=\"text-align: right;\">\n",
       "      <th></th>\n",
       "      <th>land</th>\n",
       "      <th>budget</th>\n",
       "      <th>omzet</th>\n",
       "    </tr>\n",
       "  </thead>\n",
       "  <tbody>\n",
       "    <tr>\n",
       "      <th>0</th>\n",
       "      <td>USA</td>\n",
       "      <td>237000000.0</td>\n",
       "      <td>7.605058e+08</td>\n",
       "    </tr>\n",
       "    <tr>\n",
       "      <th>1</th>\n",
       "      <td>USA</td>\n",
       "      <td>300000000.0</td>\n",
       "      <td>3.094042e+08</td>\n",
       "    </tr>\n",
       "    <tr>\n",
       "      <th>2</th>\n",
       "      <td>UK</td>\n",
       "      <td>325850000.0</td>\n",
       "      <td>2.660987e+08</td>\n",
       "    </tr>\n",
       "    <tr>\n",
       "      <th>3</th>\n",
       "      <td>USA</td>\n",
       "      <td>250000000.0</td>\n",
       "      <td>4.481306e+08</td>\n",
       "    </tr>\n",
       "    <tr>\n",
       "      <th>5</th>\n",
       "      <td>USA</td>\n",
       "      <td>263700000.0</td>\n",
       "      <td>7.305868e+07</td>\n",
       "    </tr>\n",
       "  </tbody>\n",
       "</table>\n",
       "</div>"
      ]
     },
     "execution_count": 33,
     "metadata": {},
     "output_type": "execute_result"
    }
   ],
   "execution_count": 33
  },
  {
   "cell_type": "markdown",
   "id": "96f6a029c96a5690",
   "metadata": {},
   "source": [
    "### Kolomvolgorde\n",
    "Het aanpassen van de volgorde van de kolommen in de dataset voor betere leesbaarheid en overzichtelijkheid.\n"
   ]
  },
  {
   "cell_type": "code",
   "id": "1e23b52a5247cf52",
   "metadata": {
    "ExecuteTime": {
     "end_time": "2024-10-09T21:11:13.964333Z",
     "start_time": "2024-10-09T21:11:13.958475Z"
    }
   },
   "source": [
    "dataset = dataset[\n",
    "    [\n",
    "        'titel',              # title\n",
    "        'regisseur',          # director\n",
    "        'regisseur_likes',    # director_facebook_likes\n",
    "        'acteur_1',           # actor_1\n",
    "        'acteur_1_likes',     # actor_1_facebook_likes\n",
    "        'acteur_2',           # actor_2\n",
    "        'acteur_2_likes',     # actor_2_facebook_likes\n",
    "        'acteur_3',           # actor_3\n",
    "        'acteur_3_likes',     # actor_3_facebook_likes\n",
    "        'cast_totaal_likes',   # cast_total_facebook_likes\n",
    "        'film_likes',        # movie_facebook_likes\n",
    "        'imdb_score',         # imdb_score\n",
    "        'imdb_id',            # imdb id\n",
    "        'budget',             # budget\n",
    "        'omzet'               # gross\n",
    "    ]]"
   ],
   "outputs": [],
   "execution_count": 34
  },
  {
   "cell_type": "code",
   "id": "47ef69ef350e9940",
   "metadata": {
    "ExecuteTime": {
     "end_time": "2024-10-09T21:11:14.021703Z",
     "start_time": "2024-10-09T21:11:13.998855Z"
    }
   },
   "source": [
    "dataset.head(10)"
   ],
   "outputs": [
    {
     "data": {
      "text/plain": [
       "                                       titel          regisseur  \\\n",
       "0                                     Avatar      James Cameron   \n",
       "1   Pirates of the Caribbean: At World's End     Gore Verbinski   \n",
       "2                                    Spectre         Sam Mendes   \n",
       "3                      The Dark Knight Rises  Christopher Nolan   \n",
       "5                                John Carter     Andrew Stanton   \n",
       "6                               Spider-Man 3          Sam Raimi   \n",
       "7                                    Tangled       Nathan Greno   \n",
       "8                    Avengers: Age of Ultron        Joss Whedon   \n",
       "9     Harry Potter and the Half-Blood Prince        David Yates   \n",
       "10        Batman v Superman: Dawn of Justice        Zack Snyder   \n",
       "\n",
       "    regisseur_likes         acteur_1  acteur_1_likes           acteur_2  \\\n",
       "0               0.0      CCH Pounder          1000.0   Joel David Moore   \n",
       "1             563.0      Johnny Depp         40000.0      Orlando Bloom   \n",
       "2               0.0  Christoph Waltz         11000.0       Rory Kinnear   \n",
       "3           22000.0        Tom Hardy         27000.0     Christian Bale   \n",
       "5             475.0     Daryl Sabara           640.0    Samantha Morton   \n",
       "6               0.0     J.K. Simmons         24000.0       James Franco   \n",
       "7              15.0     Brad Garrett           799.0       Donna Murphy   \n",
       "8               0.0  Chris Hemsworth         26000.0  Robert Downey Jr.   \n",
       "9             282.0     Alan Rickman         25000.0   Daniel Radcliffe   \n",
       "10              0.0     Henry Cavill         15000.0       Lauren Cohan   \n",
       "\n",
       "    acteur_2_likes              acteur_3  acteur_3_likes  cast_totaal_likes  \\\n",
       "0            936.0             Wes Studi           855.0               4834   \n",
       "1           5000.0        Jack Davenport          1000.0              48350   \n",
       "2            393.0      Stephanie Sigman           161.0              11700   \n",
       "3          23000.0  Joseph Gordon-Levitt         23000.0             106759   \n",
       "5            632.0          Polly Walker           530.0               1873   \n",
       "6          11000.0         Kirsten Dunst          4000.0              46055   \n",
       "7            553.0           M.C. Gainey           284.0               2036   \n",
       "8          21000.0    Scarlett Johansson         19000.0              92000   \n",
       "9          11000.0          Rupert Grint         10000.0              58753   \n",
       "10          4000.0        Alan D. Purwin          2000.0              24450   \n",
       "\n",
       "    film_likes  imdb_score  imdb_id       budget         omzet  \n",
       "0        33000         7.9  0499549  237000000.0  7.605058e+08  \n",
       "1            0         7.1  0449088  300000000.0  3.094042e+08  \n",
       "2        85000         6.8  2379713  325850000.0  2.660987e+08  \n",
       "3       164000         8.5  1345836  250000000.0  4.481306e+08  \n",
       "5        24000         6.6  0401729  263700000.0  7.305868e+07  \n",
       "6            0         6.2  0413300  258000000.0  3.365303e+08  \n",
       "7        29000         7.8  0398286  260000000.0  2.008073e+08  \n",
       "8       118000         7.5  2395427  250000000.0  4.589916e+08  \n",
       "9        10000         7.5  0417741  332500000.0  4.016028e+08  \n",
       "10      197000         6.9  2975590  250000000.0  3.302491e+08  "
      ],
      "text/html": [
       "<div>\n",
       "<style scoped>\n",
       "    .dataframe tbody tr th:only-of-type {\n",
       "        vertical-align: middle;\n",
       "    }\n",
       "\n",
       "    .dataframe tbody tr th {\n",
       "        vertical-align: top;\n",
       "    }\n",
       "\n",
       "    .dataframe thead th {\n",
       "        text-align: right;\n",
       "    }\n",
       "</style>\n",
       "<table border=\"1\" class=\"dataframe\">\n",
       "  <thead>\n",
       "    <tr style=\"text-align: right;\">\n",
       "      <th></th>\n",
       "      <th>titel</th>\n",
       "      <th>regisseur</th>\n",
       "      <th>regisseur_likes</th>\n",
       "      <th>acteur_1</th>\n",
       "      <th>acteur_1_likes</th>\n",
       "      <th>acteur_2</th>\n",
       "      <th>acteur_2_likes</th>\n",
       "      <th>acteur_3</th>\n",
       "      <th>acteur_3_likes</th>\n",
       "      <th>cast_totaal_likes</th>\n",
       "      <th>film_likes</th>\n",
       "      <th>imdb_score</th>\n",
       "      <th>imdb_id</th>\n",
       "      <th>budget</th>\n",
       "      <th>omzet</th>\n",
       "    </tr>\n",
       "  </thead>\n",
       "  <tbody>\n",
       "    <tr>\n",
       "      <th>0</th>\n",
       "      <td>Avatar</td>\n",
       "      <td>James Cameron</td>\n",
       "      <td>0.0</td>\n",
       "      <td>CCH Pounder</td>\n",
       "      <td>1000.0</td>\n",
       "      <td>Joel David Moore</td>\n",
       "      <td>936.0</td>\n",
       "      <td>Wes Studi</td>\n",
       "      <td>855.0</td>\n",
       "      <td>4834</td>\n",
       "      <td>33000</td>\n",
       "      <td>7.9</td>\n",
       "      <td>0499549</td>\n",
       "      <td>237000000.0</td>\n",
       "      <td>7.605058e+08</td>\n",
       "    </tr>\n",
       "    <tr>\n",
       "      <th>1</th>\n",
       "      <td>Pirates of the Caribbean: At World's End</td>\n",
       "      <td>Gore Verbinski</td>\n",
       "      <td>563.0</td>\n",
       "      <td>Johnny Depp</td>\n",
       "      <td>40000.0</td>\n",
       "      <td>Orlando Bloom</td>\n",
       "      <td>5000.0</td>\n",
       "      <td>Jack Davenport</td>\n",
       "      <td>1000.0</td>\n",
       "      <td>48350</td>\n",
       "      <td>0</td>\n",
       "      <td>7.1</td>\n",
       "      <td>0449088</td>\n",
       "      <td>300000000.0</td>\n",
       "      <td>3.094042e+08</td>\n",
       "    </tr>\n",
       "    <tr>\n",
       "      <th>2</th>\n",
       "      <td>Spectre</td>\n",
       "      <td>Sam Mendes</td>\n",
       "      <td>0.0</td>\n",
       "      <td>Christoph Waltz</td>\n",
       "      <td>11000.0</td>\n",
       "      <td>Rory Kinnear</td>\n",
       "      <td>393.0</td>\n",
       "      <td>Stephanie Sigman</td>\n",
       "      <td>161.0</td>\n",
       "      <td>11700</td>\n",
       "      <td>85000</td>\n",
       "      <td>6.8</td>\n",
       "      <td>2379713</td>\n",
       "      <td>325850000.0</td>\n",
       "      <td>2.660987e+08</td>\n",
       "    </tr>\n",
       "    <tr>\n",
       "      <th>3</th>\n",
       "      <td>The Dark Knight Rises</td>\n",
       "      <td>Christopher Nolan</td>\n",
       "      <td>22000.0</td>\n",
       "      <td>Tom Hardy</td>\n",
       "      <td>27000.0</td>\n",
       "      <td>Christian Bale</td>\n",
       "      <td>23000.0</td>\n",
       "      <td>Joseph Gordon-Levitt</td>\n",
       "      <td>23000.0</td>\n",
       "      <td>106759</td>\n",
       "      <td>164000</td>\n",
       "      <td>8.5</td>\n",
       "      <td>1345836</td>\n",
       "      <td>250000000.0</td>\n",
       "      <td>4.481306e+08</td>\n",
       "    </tr>\n",
       "    <tr>\n",
       "      <th>5</th>\n",
       "      <td>John Carter</td>\n",
       "      <td>Andrew Stanton</td>\n",
       "      <td>475.0</td>\n",
       "      <td>Daryl Sabara</td>\n",
       "      <td>640.0</td>\n",
       "      <td>Samantha Morton</td>\n",
       "      <td>632.0</td>\n",
       "      <td>Polly Walker</td>\n",
       "      <td>530.0</td>\n",
       "      <td>1873</td>\n",
       "      <td>24000</td>\n",
       "      <td>6.6</td>\n",
       "      <td>0401729</td>\n",
       "      <td>263700000.0</td>\n",
       "      <td>7.305868e+07</td>\n",
       "    </tr>\n",
       "    <tr>\n",
       "      <th>6</th>\n",
       "      <td>Spider-Man 3</td>\n",
       "      <td>Sam Raimi</td>\n",
       "      <td>0.0</td>\n",
       "      <td>J.K. Simmons</td>\n",
       "      <td>24000.0</td>\n",
       "      <td>James Franco</td>\n",
       "      <td>11000.0</td>\n",
       "      <td>Kirsten Dunst</td>\n",
       "      <td>4000.0</td>\n",
       "      <td>46055</td>\n",
       "      <td>0</td>\n",
       "      <td>6.2</td>\n",
       "      <td>0413300</td>\n",
       "      <td>258000000.0</td>\n",
       "      <td>3.365303e+08</td>\n",
       "    </tr>\n",
       "    <tr>\n",
       "      <th>7</th>\n",
       "      <td>Tangled</td>\n",
       "      <td>Nathan Greno</td>\n",
       "      <td>15.0</td>\n",
       "      <td>Brad Garrett</td>\n",
       "      <td>799.0</td>\n",
       "      <td>Donna Murphy</td>\n",
       "      <td>553.0</td>\n",
       "      <td>M.C. Gainey</td>\n",
       "      <td>284.0</td>\n",
       "      <td>2036</td>\n",
       "      <td>29000</td>\n",
       "      <td>7.8</td>\n",
       "      <td>0398286</td>\n",
       "      <td>260000000.0</td>\n",
       "      <td>2.008073e+08</td>\n",
       "    </tr>\n",
       "    <tr>\n",
       "      <th>8</th>\n",
       "      <td>Avengers: Age of Ultron</td>\n",
       "      <td>Joss Whedon</td>\n",
       "      <td>0.0</td>\n",
       "      <td>Chris Hemsworth</td>\n",
       "      <td>26000.0</td>\n",
       "      <td>Robert Downey Jr.</td>\n",
       "      <td>21000.0</td>\n",
       "      <td>Scarlett Johansson</td>\n",
       "      <td>19000.0</td>\n",
       "      <td>92000</td>\n",
       "      <td>118000</td>\n",
       "      <td>7.5</td>\n",
       "      <td>2395427</td>\n",
       "      <td>250000000.0</td>\n",
       "      <td>4.589916e+08</td>\n",
       "    </tr>\n",
       "    <tr>\n",
       "      <th>9</th>\n",
       "      <td>Harry Potter and the Half-Blood Prince</td>\n",
       "      <td>David Yates</td>\n",
       "      <td>282.0</td>\n",
       "      <td>Alan Rickman</td>\n",
       "      <td>25000.0</td>\n",
       "      <td>Daniel Radcliffe</td>\n",
       "      <td>11000.0</td>\n",
       "      <td>Rupert Grint</td>\n",
       "      <td>10000.0</td>\n",
       "      <td>58753</td>\n",
       "      <td>10000</td>\n",
       "      <td>7.5</td>\n",
       "      <td>0417741</td>\n",
       "      <td>332500000.0</td>\n",
       "      <td>4.016028e+08</td>\n",
       "    </tr>\n",
       "    <tr>\n",
       "      <th>10</th>\n",
       "      <td>Batman v Superman: Dawn of Justice</td>\n",
       "      <td>Zack Snyder</td>\n",
       "      <td>0.0</td>\n",
       "      <td>Henry Cavill</td>\n",
       "      <td>15000.0</td>\n",
       "      <td>Lauren Cohan</td>\n",
       "      <td>4000.0</td>\n",
       "      <td>Alan D. Purwin</td>\n",
       "      <td>2000.0</td>\n",
       "      <td>24450</td>\n",
       "      <td>197000</td>\n",
       "      <td>6.9</td>\n",
       "      <td>2975590</td>\n",
       "      <td>250000000.0</td>\n",
       "      <td>3.302491e+08</td>\n",
       "    </tr>\n",
       "  </tbody>\n",
       "</table>\n",
       "</div>"
      ]
     },
     "execution_count": 35,
     "metadata": {},
     "output_type": "execute_result"
    }
   ],
   "execution_count": 35
  },
  {
   "cell_type": "markdown",
   "id": "bdf3ec7b2a704bf0",
   "metadata": {},
   "source": [
    "### Exporteren Dataset"
   ]
  },
  {
   "cell_type": "code",
   "id": "31f69f544621de06",
   "metadata": {
    "ExecuteTime": {
     "end_time": "2024-10-09T21:11:14.152301Z",
     "start_time": "2024-10-09T21:11:14.108558Z"
    }
   },
   "source": [
    "# Exporteer de dataset naar een CSV-bestand\n",
    "dataset.to_csv('films.csv', index=False)\n",
    "\n",
    "print(\"De dataset is succesvol geëxporteerd naar films.csv.\")"
   ],
   "outputs": [
    {
     "name": "stdout",
     "output_type": "stream",
     "text": [
      "De dataset is succesvol geëxporteerd naar films.csv.\n"
     ]
    }
   ],
   "execution_count": 36
  }
 ],
 "metadata": {
  "kernelspec": {
   "display_name": "cm-env",
   "language": "python",
   "name": "python3"
  },
  "language_info": {
   "codemirror_mode": {
    "name": "ipython",
    "version": 3
   },
   "file_extension": ".py",
   "mimetype": "text/x-python",
   "name": "python",
   "nbconvert_exporter": "python",
   "pygments_lexer": "ipython3",
   "version": "3.12.4"
  }
 },
 "nbformat": 4,
 "nbformat_minor": 5
}
