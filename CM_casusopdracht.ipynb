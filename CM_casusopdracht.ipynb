{
 "cells": [
  {
   "cell_type": "markdown",
   "id": "9792813af899c547",
   "metadata": {},
   "source": [
    "# Casusopdracht - Films\n",
    "\n",
    "**Klas:** V2B\n",
    "**Studenten:** \n",
    "- Roan Gaasbeek\n",
    "- Mathias Hendriks\n",
    "- Luc Pikaar\n"
   ]
  },
  {
   "metadata": {},
   "cell_type": "code",
   "source": [
    "import numpy as np\n",
    "import pandas as pd\n",
    "import seaborn as sns\n",
    "import matplotlib.pyplot as plt\n",
    "import matplotlib.ticker as ticker\n"
   ],
   "id": "44a89e05a94ac61f",
   "outputs": [],
   "execution_count": null
  },
  {
   "metadata": {},
   "cell_type": "markdown",
   "source": [
    "# 1. Business Understanding\n",
    "\n",
    "## Doelstelling\n",
    "Het doel van dit onderzoek is het vaststellen van de belangrijkste kenmerken (zoals budget\n",
    "IMDb-scores, en sociale media populariteit) van films die goed presteren, om te begrijpen welke\n",
    "factoren bijdragen aan succes in de filmindustrie.\n",
    "\n",
    "## Onderzoeksvragen\n",
    "De volgende onderzoeksvragen worden behandeld in deze opdracht:\n",
    "\n",
    "1. In hoeverre is de bruto-omzet van een film te voorspellen op basis van de populariteit op **Facebook** en **IMDB**?\n",
    "2. In hoeverre beïnvloedt het slagen voor de Bechdeltest de bruto-omzet van een film?\n",
    "3. In hoeverre is het mogelijk om logische clusters te vinden o.b.v. onder andere budget en bruto-omzet? Denk aan blockbusters (hoog budget en hoge omzet), flops (hoog budget en lage omzet) of cultfilms (laag budget en hoge omzet). Je mag extra features toevoegen. "
   ],
   "id": "83de1bbcdd822c52"
  },
  {
   "metadata": {},
   "cell_type": "markdown",
   "source": [
    "# 2. Data understanding\n",
    "De tweede fase in **CRISP-DM** is de **data understanding** dit houdt in:\n",
    "- Data Collection\n",
    "- Data Exploration & Analysis\n",
    "\n",
    "## Data Collection\n",
    "\n",
    "### Movies dataset\n",
    "dit is de dataset die we uit deze opdracht hebben meegekregen\n",
    "\n",
    "### Bechdeltest\n",
    "De bechdel test is als volgt:\n",
    "1. It has to have at least two (named) women in it\n",
    "2. Who talk to each other\n",
    "3. About something besides a man\n",
    "\n",
    "https://bechdeltest.com/\n"
   ],
   "id": "15afebd94e3a3d7c"
  },
  {
   "metadata": {},
   "cell_type": "code",
   "source": [
    "dataset = pd.read_csv('movie.csv')\n",
    "bechdel_dataset = pd.read_csv('bechdel.csv')"
   ],
   "id": "875fca4a974d1313",
   "outputs": [],
   "execution_count": null
  },
  {
   "metadata": {},
   "cell_type": "markdown",
   "source": [
    "## Data Exploration & Analysis\n",
    "In deze fase wordt de dataset grondig onderzocht om patronen, relaties en potentieel problematische gegevens te identificeren. Het doel van data exploration is om een eerste inzicht te krijgen in de structuur van de data, trends te ontdekken en belangrijke kenmerken te identificeren die verder onderzocht moeten worden.\n",
    "\n",
    "### Algemene verkenning\n",
    "Om een eerste indruk van de dataset te krijgen, maken we gebruik van de `head`-functie. Deze functie geeft een overzicht van de eerste paar rijen van de dataset, waardoor we snel inzicht krijgen in de structuur van de data."
   ],
   "id": "2547c164443534b9"
  },
  {
   "metadata": {},
   "cell_type": "code",
   "source": "dataset.head()",
   "id": "1a6fbc1d1b96c509",
   "outputs": [],
   "execution_count": null
  },
  {
   "metadata": {},
   "cell_type": "markdown",
   "source": "Om snel een overzicht te krijgen van alle kolommen en mogelijke features in de dataset, maken we gebruik van de `columns`-functie. Hiermee kunnen we eenvoudig de namen van de kolommen bekijken, wat nuttig is voor het bepalen van welke variabelen relevant zijn voor verdere analyse.",
   "id": "5a7b1f374b8a02f"
  },
  {
   "metadata": {},
   "cell_type": "code",
   "source": "dataset.columns",
   "id": "1a4378d063571f76",
   "outputs": [],
   "execution_count": null
  },
  {
   "metadata": {},
   "cell_type": "markdown",
   "source": "Vervolgens gebruiken we de `dtypes`-functie om de datatypen van elke kolom in de dataset te achterhalen. Dit helpt ons te begrijpen welke soort gegevens in elke kolom aanwezig zijn",
   "id": "4ffd5f26aa8dcb47"
  },
  {
   "metadata": {},
   "cell_type": "code",
   "source": "dataset.dtypes",
   "id": "35890e7d780de1ad",
   "outputs": [],
   "execution_count": null
  },
  {
   "metadata": {},
   "cell_type": "markdown",
   "source": "We gebruiken de `describe`-functie om een overzicht te krijgen van de belangrijkste statistieken van de numerieke kolommen in de dataset. Deze functie geeft ons inzicht in de gemiddelde waarden, de spreiding, en de extremen van de data, waardoor we beter begrijpen hoe de gegevens zijn verdeeld.",
   "id": "894d3d7e9e788eca"
  },
  {
   "metadata": {},
   "cell_type": "code",
   "source": "dataset.describe()",
   "id": "b99853c5a1713722",
   "outputs": [],
   "execution_count": null
  },
  {
   "metadata": {},
   "cell_type": "markdown",
   "source": "Voor een samenvatting van de niet-numerieke gegevens specificeren we in de `describe`-functie dat we ook objecttypen willen opnemen door `include='object'` toe te voegen.",
   "id": "1a0de3bbc9c0ba4c"
  },
  {
   "metadata": {},
   "cell_type": "code",
   "source": "dataset.describe(include='object')",
   "id": "cb131da9682ef2c7",
   "outputs": [],
   "execution_count": null
  },
  {
   "metadata": {},
   "cell_type": "markdown",
   "source": [
    "### Variabelen & Meetniveaus\n",
    "\n",
    "In deze analyse zijn de volgende variabelen overwogen met hun verwachte impact op de bruto-omzet (gross):\n",
    "\n",
    "- Director name & Actor names: De bekendheid van de regisseur en de hoofdrolspelers kan invloed hebben op de aantrekkingskracht van de film en daarmee de bruto-omzet.\n",
    "- Facebook Likes: De sociale media populariteit van de regisseur en de acteurs kan de zichtbaarheid van de film vergroten en zo invloed op de bruto-omzet hebben.\n",
    "- Budget: Een hoger budget kan leiden tot hogere bruto-omzet.\n",
    "- IMDB score: Een hogere score op IMDB wijst vaak op betere filmkwaliteit en kan leiden tot meer kijkers en daarmee hogere bruto-omzet.\n",
    "\n",
    "\n",
    "| Feature                 | Afhankelijk/Onafhankelijk | Meetniveau |\n",
    "|:------------------------|:--------------------------|:-----------|\n",
    "| Director Name           | Onafhankelijk             | Nominaal   |\n",
    "| Actor 1 Name            | Onafhankelijk             | Nominaal   |\n",
    "| Actor 2 Name            | Onafhankelijk             | Nominaal   |\n",
    "| Actor 3 Name            | Onafhankelijk             | Nominaal   |\n",
    "| Director Facebook Likes | Onafhankelijk             | Discreet   |\n",
    "| Actor 1 Facebook Likes  | Onafhankelijk             | Discreet   |\n",
    "| Actor 2 Facebook Likes  | Onafhankelijk             | Discreet   |\n",
    "| Actor 3 Facebook Likes  | Onafhankelijk             | Discreet   |\n",
    "| Movie Facebook Likes    | Onafhankelijk             | Discreet   |\n",
    "| Budget                  | Onafhankelijk             | Continu    |\n",
    "| IMDB Score              | Onafhankelijk             | Discreet   |\n",
    "| Gross                   | Afhankelijk               | Continu    |"
   ],
   "id": "b060acd0983750e2"
  },
  {
   "metadata": {},
   "cell_type": "code",
   "source": [
    "kolommen = ['director_name', 'actor_1_name', 'actor_2_name', 'actor_3_name', 'director_facebook_likes', 'actor_1_facebook_likes', 'actor_2_facebook_likes', 'actor_3_facebook_likes', 'cast_total_facebook_likes','movie_facebook_likes', 'budget', 'imdb_score', 'gross']\n",
    "data_analyse = dataset[kolommen]\n",
    "data_analyse.head()\n"
   ],
   "id": "ade8058961df6a2c",
   "outputs": [],
   "execution_count": null
  },
  {
   "metadata": {},
   "cell_type": "code",
   "source": "data_analyse.describe()",
   "id": "e9ceaba0ec53ea32",
   "outputs": [],
   "execution_count": null
  },
  {
   "metadata": {},
   "cell_type": "markdown",
   "source": [
    "### Target\n",
    "De targetvariabele in dit onderzoek is de Bruto-omzet `gross`. Deze variabele vertegenwoordigt de inkomsten van een film.\n",
    "\n",
    "Om inzicht te krijgen in de verspreiding van de bruto-omzetwaarden, zullen er twee histogrammen worden gebruikt. De eerste is zonder limiet hierin is het mogelijk om ook de uitschieters te zien. De tweede is ingezoomd op de waarde tot max 100 Miljoen. Dit helpt om de verdeling van de omzet in de dataset te visualiseren en te identificeren of er sprake is van een normale verdeling, uitschieters of andere patronen die van invloed kunnen zijn op de analyses."
   ],
   "id": "d595b5b2ec119700"
  },
  {
   "metadata": {},
   "cell_type": "code",
   "source": [
    "fig, axes = plt.subplots(1, 2, figsize=(14, 6))\n",
    "gross = data_analyse['gross'].dropna()\n",
    "sns.histplot(gross / 10**6, bins=50, ax=axes[0])\n",
    "axes[0].set_title('Bruto-omzetverdeling')\n",
    "axes[0].set_xlabel('Bruto-omzet (Miljoenen)')\n",
    "axes[0].set_ylabel('Frequentie')\n",
    "\n",
    "sns.histplot(dataset['gross'] / 10**6, bins=200, ax=axes[1])\n",
    "axes[1].set_title('Bruto-omzetverdeling met limiet (Max 100 miljoen)')\n",
    "axes[1].set_xlabel('Bruto-omzet (Miljoenen)')\n",
    "axes[1].set_ylabel('Frequentie')\n",
    "\n",
    "# Zet de x-as limiet tot maximaal 200 miljoen\n",
    "axes[1].set_xlim(0, 100)\n",
    "\n",
    "plt.tight_layout()\n",
    "plt.show()"
   ],
   "id": "4b7674f88b7a5b0d",
   "outputs": [],
   "execution_count": null
  },
  {
   "metadata": {},
   "cell_type": "markdown",
   "source": "Uit de histogrammen blijkt dat een groot deel van de `gross` waarden zich rond nul bevindt. Dit wijst mogelijk op een aanzienlijk aantal ontbrekende of ongeldige waarden in de dataset. Het kan zijn dat voor veel films de bruto-omzet ontbreekt. Dit zou de betrouwbaarheid van verdere analyses kunnen beïnvloeden.",
   "id": "e7609b64f1d404de"
  },
  {
   "metadata": {},
   "cell_type": "code",
   "source": [
    "omzet = data_analyse['gross'].dropna()\n",
    "omzet_log = np.log10(omzet + 1)\n",
    "\n",
    "# Seaborn histogram plotten\n",
    "plt.figure(figsize=(8, 6))\n",
    "sns.histplot(omzet_log, bins=50, color='skyblue', edgecolor='black')\n",
    "\n",
    "# Titel en labels toevoegen\n",
    "plt.title('Bruto-omzet van films')\n",
    "plt.xlabel('Bruto-omzet')\n",
    "plt.ylabel('Aantal films')\n",
    "plt.xticks(ticks=range(10), labels=[\"1\",\"10\",\"100\",\"1k\",\"10k\",\"100k\",\"1M\", \"10M\", \"100M\", \"1B\"])\n",
    "\n",
    "plt.grid(True)\n",
    "plt.show()"
   ],
   "id": "a09abdf93118f873",
   "outputs": [],
   "execution_count": null
  },
  {
   "metadata": {},
   "cell_type": "markdown",
   "source": "Er is gekozen om een log10-transformatie toe te passen op de Bruot-omzet in plaats van een standaard histogram. Dit komt doordat er in de dataset veel films zijn met een bruto-omzet van 0 of zeer lage waarden. Door deze waarden op een lineaire schaal weer te geven, zouden de meeste films in een enkele categorie vallen, wat een \"saaie\" visualisatie oplevert met weinig inzicht in de spreiding van de hogere bruto-omzetten. De logaritmische schaal comprimeert de hoge uitschieters en spreidt de lagere waarden beter uit, waardoor de onderlinge verschillen beter zichtbaar worden en de visualisatie meer informatieve waarde krijgt.",
   "id": "ff1c71975a705d02"
  },
  {
   "metadata": {},
   "cell_type": "markdown",
   "source": [
    "### Features\n",
    "\n",
    "#### Facebook likes\n",
    "Om inzicht te krijgen in de populariteit van de verschillende actoren en de regisseur, hebben we de verdeling van de Facebook-likes per persoon afzonderlijk gevisualiseerd in de vorm van histogrammen. Deze grafieken tonen de frequentie van het aantal likes van de `director`, `acteur 1`, `acteur 2`, `acteur 3`, `cast_total` en de `movie`."
   ],
   "id": "71bc6a1cef156267"
  },
  {
   "metadata": {},
   "cell_type": "code",
   "source": "dataset['director_facebook_likes'].describe()",
   "id": "e058a0b8560dca0d",
   "outputs": [],
   "execution_count": null
  },
  {
   "metadata": {},
   "cell_type": "code",
   "source": [
    "fig, axes = plt.subplots(3, 2, figsize=(12, 10))\n",
    "\n",
    "# Logaritmische transformatie van de 'director_facebook_likes' om uitschieters te comprimeren\n",
    "director_likes = dataset['director_facebook_likes'].dropna()\n",
    "director_likes_log = np.log10(director_likes + 1)\n",
    "sns.histplot(director_likes_log, bins=20, kde=False, ax=axes[0, 0])\n",
    "\n",
    "axes[0, 0].set_title('Regisseur FB Likes')\n",
    "axes[0, 0].set_xlabel('Aantal Likes')\n",
    "axes[0, 0].set_ylabel('Frequentie')\n",
    "axes[0, 0].set_xticks([0, 1, 2, 3, 4, 5])\n",
    "axes[0, 0].set_xticklabels([\"1\",\"10\",\"100\",\"1k\",\"10k\",\"100k\"])\n",
    "\n",
    "# Logaritmische transformatie van de 'actor_1_facebook_likes' om uitschieters te comprimeren\n",
    "actor_1_likes = dataset['actor_1_facebook_likes'].dropna()\n",
    "actor_1_likes_log = np.log10(actor_1_likes + 1)\n",
    "sns.histplot(actor_1_likes_log, bins=20, kde=False, ax=axes[0, 1])\n",
    "\n",
    "axes[0, 1].set_title('Acteur 1 FB Likes')\n",
    "axes[0, 1].set_xlabel('Aantal Likes')\n",
    "axes[0, 1].set_ylabel('Frequentie')\n",
    "axes[0, 1].set_xticks([0, 1, 2, 3, 4, 5, 6])\n",
    "axes[0, 1].set_xticklabels([\"1\",\"10\",\"100\",\"1k\",\"10k\",\"100k\",\"1M\"])\n",
    "\n",
    "# Logaritmische transformatie van de 'actor_2_facebook_likes' om uitschieters te comprimeren\n",
    "actor_2_likes = dataset['actor_2_facebook_likes'].dropna()\n",
    "actor_2_likes_log = np.log10(actor_2_likes + 1)\n",
    "sns.histplot(actor_2_likes_log, bins=20, kde=False, ax=axes[1, 0])\n",
    "\n",
    "axes[1, 0].set_title('Acteur 2 FB Likes')\n",
    "axes[1, 0].set_xlabel('Aantal Likes')\n",
    "axes[1, 0].set_ylabel('Frequentie')\n",
    "axes[1, 0].set_xticks([0, 1, 2, 3, 4, 5, 6])\n",
    "axes[1, 0].set_xticklabels([\"1\",\"10\",\"100\",\"1k\",\"10k\",\"100k\",\"1M\"])\n",
    "\n",
    "# Logaritmische transformatie van de 'actor_3_facebook_likes' om uitschieters te comprimeren\n",
    "actor_3_likes = dataset['actor_3_facebook_likes'].dropna()\n",
    "actor_3_likes_log = np.log10(actor_3_likes + 1)\n",
    "sns.histplot(actor_3_likes_log, bins=20, kde=False, ax=axes[1, 1])\n",
    "\n",
    "axes[1, 1].set_title('Acteur 3 FB Likes')\n",
    "axes[1, 1].set_xlabel('Aantal Likes')\n",
    "axes[1, 1].set_ylabel('Frequentie')\n",
    "axes[1, 1].set_xticks([0, 1, 2, 3, 4, 5, 6])\n",
    "axes[1, 1].set_xticklabels([\"1\",\"10\",\"100\",\"1k\",\"10k\",\"100k\",\"1M\"])\n",
    "\n",
    "# Logaritmische transformatie van de 'cast_total_facebook_likes' om uitschieters te comprimeren\n",
    "cast_total_likes = dataset['cast_total_facebook_likes'].dropna()\n",
    "cast_total_likes_log = np.log10(cast_total_likes + 1)\n",
    "sns.histplot(cast_total_likes_log, bins=20, kde=False, ax=axes[2, 0])\n",
    "\n",
    "axes[2, 0].set_title('Cast Total FB Likes')\n",
    "axes[2, 0].set_xlabel('Aantal Likes')\n",
    "axes[2, 0].set_ylabel('Frequentie')\n",
    "axes[2, 0].set_xticks([0, 1, 2, 3, 4, 5, 6])\n",
    "axes[2, 0].set_xticklabels([\"1\", \"10\", \"100\", \"1k\", \"10k\", \"100k\", \"1M\"])\n",
    "\n",
    "# Logaritmische transformatie van de 'movie_facebook_likes' om uitschieters te comprimeren\n",
    "movie_likes = dataset['movie_facebook_likes'].dropna()\n",
    "movie_likes_log = np.log10(movie_likes + 1)\n",
    "sns.histplot(movie_likes_log, bins=20, kde=False, ax=axes[2, 1])\n",
    "\n",
    "axes[2, 1].set_title('Movie Facebook Likes')\n",
    "axes[2, 1].set_xlabel('Aantal Likes')\n",
    "axes[2, 1].set_ylabel('Frequentie')\n",
    "axes[2, 1].set_xticks([0, 1, 2, 3, 4, 5, 6])\n",
    "axes[2, 1].set_xticklabels([\"1\", \"10\", \"100\", \"1k\", \"10k\", \"100k\", \"1M\"])\n",
    "\n",
    "plt.tight_layout()\n",
    "plt.show()"
   ],
   "id": "a27e9a116a4e0636",
   "outputs": [],
   "execution_count": null
  },
  {
   "metadata": {},
   "cell_type": "markdown",
   "source": "#### IMDB-Score",
   "id": "ad19aa162f610290"
  },
  {
   "metadata": {},
   "cell_type": "code",
   "source": [
    "# Veronderstel dat de dataset al geladen is en IMDb-scores bevat\n",
    "imdb_scores = data_analyse['imdb_score'].dropna()\n",
    "\n",
    "# Maak een boxplot voor de IMDb-scores\n",
    "plt.figure(figsize=(8, 6))\n",
    "sns.boxplot(x=imdb_scores)\n",
    "\n",
    "# Instellen van de titel en labels\n",
    "plt.title('IMDB Scores')\n",
    "plt.ylabel('Cijfer IMDB')\n",
    "\n",
    "# Weergeven van de plot\n",
    "plt.grid(True)\n",
    "plt.show()\n"
   ],
   "id": "1c6a849b1865520f",
   "outputs": [],
   "execution_count": null
  },
  {
   "metadata": {},
   "cell_type": "markdown",
   "source": "#### Budget",
   "id": "573f18cdc6c48361"
  },
  {
   "metadata": {},
   "cell_type": "code",
   "source": [
    "budget = data_analyse['budget'].dropna()\n",
    "budget_log = np.log10(budget + 1)\n",
    "\n",
    "# Seaborn histogram plotten\n",
    "plt.figure(figsize=(8, 6))\n",
    "sns.histplot(budget_log, bins=50, color='skyblue', edgecolor='black')\n",
    "\n",
    "# Titel en labels toevoegen\n",
    "plt.title('Budget')\n",
    "plt.xlabel('Budget')\n",
    "plt.ylabel('Aantal films')\n",
    "plt.xticks(ticks=range(11), labels=[\"1\",\"10\",\"100\",\"1k\",\"10k\",\"100k\",\"1M\", \"10M\", \"100M\", \"1B\", \"10B\"])\n",
    "\n",
    "plt.grid(True)\n",
    "plt.show()"
   ],
   "id": "c096587b32e97846",
   "outputs": [],
   "execution_count": null
  },
  {
   "metadata": {},
   "cell_type": "markdown",
   "source": [
    "## Data Kwaliteit\n",
    "\n",
    "### Missende Waarden\n",
    "Met de functie `isnull` kunnen we controleren hoeveel missende waarden we hebben. Hier voegen we nog een check aan toe om te kijken hoevel waarden 0 zijn"
   ],
   "id": "6312f581b750a775"
  },
  {
   "metadata": {},
   "cell_type": "code",
   "source": "(data_analyse.isnull() | (data_analyse == 0)).sum()\n",
   "id": "ab6acbc0cd62a12d",
   "outputs": [],
   "execution_count": null
  },
  {
   "metadata": {},
   "cell_type": "markdown",
   "source": [
    "### Duplicate data\n",
    "Met de functie `duplicated` checken we of er duplicates in de data zijn. Dit checken we door de waarde van kolommen `movie_title` en `movie_imdb_link` mee te geven aangezien dit eigenlijk de unieke waarden zouden moeten zijn."
   ],
   "id": "385bb83c9fd0d28"
  },
  {
   "metadata": {},
   "cell_type": "code",
   "source": "dataset[dataset.duplicated(['movie_title', 'movie_imdb_link'])]",
   "id": "3cd8f82225d49040",
   "outputs": [],
   "execution_count": null
  },
  {
   "metadata": {},
   "cell_type": "markdown",
   "source": "### Uitschieters",
   "id": "1a95e0287ed9046a"
  },
  {
   "metadata": {},
   "cell_type": "code",
   "source": [
    "for kolom in ['director_facebook_likes', 'actor_1_facebook_likes', 'actor_2_facebook_likes', 'actor_3_facebook_likes', 'cast_total_facebook_likes', 'movie_facebook_likes', 'budget', 'gross']:\n",
    "\n",
    "    # Q1, Q3 en IQR bepalen\n",
    "    q1 = data_analyse[kolom].quantile(0.25)\n",
    "    q3 = data_analyse[kolom].quantile(0.75)\n",
    "    iqr = q3 - q1\n",
    "\n",
    "    # Limieten uitschieters berekenen\n",
    "    klein_laag = q1 - 1.5 * iqr\n",
    "    klein_hoog = q3 + 1.5 * iqr\n",
    "    extreem_laag = q1 - 3 * iqr\n",
    "    extreem_hoog = q3 + 3 * iqr\n",
    "\n",
    "    # Kleine uitschieters (1.5 - 3 IQR)\n",
    "    kleine_uitschieters = data_analyse[kolom][((data_analyse[kolom] < klein_laag) & (data_analyse[kolom] > extreem_laag)) | ((data_analyse[kolom] > klein_hoog) & (data_analyse[kolom] < extreem_hoog))]\n",
    "    print(f\"{kolom.title()} Kleine uitschieters: {kleine_uitschieters.count()}\")\n",
    " \n",
    "    # Extreme uitschieters (3+ IQR)\n",
    "    extreme_uitschieters = data_analyse[kolom][(data_analyse[kolom] < extreem_laag) | (data_analyse[kolom] > extreem_hoog)]\n",
    "    print(f\"{kolom.title()} Extreme uitschieters: {extreme_uitschieters.count()}\")"
   ],
   "id": "a1daa232ad9b4a69",
   "outputs": [],
   "execution_count": null
  },
  {
   "metadata": {},
   "cell_type": "markdown",
   "source": [
    "## Waarnemingen\n",
    "\n",
    "- movie_facebook_likes heeft 930 extreme uitschieters, dat is behoorlijk veel. Zoals eerder benoemd, komt dit waarschijnlijk doordat er veel films zijn zonder facebook pagina, wat geregistreerd wordt als 0 likes.\n",
    "\n",
    "- imdb_score heeft 0 extreme uitschieters. Dit lijkt ons logisch omdat de imdb score voor een film altijd tussen de 1 en 10 ligt. Er zal dus nooit een waarde van bijvoorbeeld 100 moeten zijn, wat een extreme uitschieter zou zijn.\n",
    "\n",
    "- De kolommen movie_facebook_likes en imdb_score hebben beide 5043 waarden, maar budget en gross hebben minder waarden (4551 en 4159 waarden).  \n",
    "We zullen hier een oplossing voor moeten vinden, door bijvoorbeeld de rijen met missende waarden te droppen van de dataset.\n",
    "\n",
    "- Q1 voor movie_facebook_likes is 0, dit betekent dat ten minste 25% van de films 0 facebook likes hebben. Dit komt waarschijnlijk omdat deze films geen facebook-pagina hebben."
   ],
   "id": "acdd79eb6635facf"
  },
  {
   "metadata": {},
   "cell_type": "markdown",
   "source": "# 3. Data preparation\n",
   "id": "4d6ab33ae8201a5e"
  },
  {
   "metadata": {},
   "cell_type": "code",
   "source": [
    "#We hebben de link voor de imdb pagina niet nodig maar hierin staat wel de imdb_id die we later kunnen gebruiken om een externe dataset te koppelen.\n",
    "\n",
    "dataset['movie_imdb_link'] = dataset['movie_imdb_link'].str.slice(start=28, stop=-17)"
   ],
   "id": "ef793c4d749b89c9",
   "outputs": [],
   "execution_count": null
  },
  {
   "metadata": {},
   "cell_type": "code",
   "source": [
    "#Veranderen van een paar column namen\n",
    "dataset.rename(columns={'director_name':'director', 'director_facebook_likes':'director_likes', 'actor_1_name':'actor_1', 'actor_1_facebook_likes':'actor_1_likes', 'actor_2_name':'actor_2', 'actor_2_facebook_likes':'actor_2_likes', 'actor_3_name':'actor_3', 'actor_3_facebook_likes':'actor_3_likes', 'cast_total_facebook_likes':'cast_total_likes', 'movie_facebook_likes':'movie_likes', 'movie_title':'title', 'movie_imdb_link':'imdb_id'}, inplace=True)"
   ],
   "id": "2c0b5fd2dc2a48e7",
   "outputs": [],
   "execution_count": null
  },
  {
   "metadata": {},
   "cell_type": "markdown",
   "source": "### Drop NaN",
   "id": "f8a975cc7ce2165a"
  },
  {
   "metadata": {},
   "cell_type": "code",
   "source": "dataset.dropna(subset=['gross'], inplace=True)",
   "id": "afa884720ac34b8d",
   "outputs": [],
   "execution_count": null
  },
  {
   "metadata": {},
   "cell_type": "markdown",
   "source": "### Drop Duplicates ",
   "id": "1196974a962cd27b"
  },
  {
   "metadata": {},
   "cell_type": "code",
   "source": [
    "# Controleert het aantal duplicates in de dataset.\n",
    "totaal_duplicates = dataset.duplicated().sum()\n",
    "print(f\"Aantal duplicates in de dataset: {totaal_duplicates}\")\n",
    "\n",
    "dataset = dataset.drop_duplicates()"
   ],
   "id": "7b1b6f6c338f2b38",
   "outputs": [],
   "execution_count": null
  },
  {
   "metadata": {},
   "cell_type": "code",
   "source": [
    "## Valuta naar USD voor gross\n",
    "landen = dataset['country'].dropna().unique()\n",
    "\n",
    "## Lijst land naar valuta en valuta naar USD\n",
    "land_naar_valuta = {\n",
    "    'USA': 'USD',\n",
    "    'UK': 'GBP',\n",
    "    'New Zealand': 'NZD',\n",
    "    'Canada': 'CAD',\n",
    "    'Australia': 'AUD',\n",
    "    'Belgium': 'EUR',\n",
    "    'Japan': 'JPY',\n",
    "    'Germany': 'EUR',\n",
    "    'China': 'CNY',\n",
    "    'France': 'EUR',\n",
    "    'Mexico': 'MXN',\n",
    "    'Spain': 'EUR',\n",
    "    'Hong Kong': 'HKD',\n",
    "    'Czech Republic': 'CZK',\n",
    "    'India': 'INR',\n",
    "    'South Korea': 'KRW',\n",
    "    'Peru': 'PEN',\n",
    "    'Italy': 'EUR',\n",
    "    'Russia': 'RUB',\n",
    "    'Denmark': 'DKK',\n",
    "    'Ireland': 'EUR',\n",
    "    'South Africa': 'ZAR',\n",
    "    'Iceland': 'ISK',\n",
    "    'Switzerland': 'CHF',\n",
    "    'Romania': 'RON',\n",
    "    'Netherlands': 'EUR',\n",
    "    'Hungary': 'HUF',\n",
    "    'Greece': 'EUR',\n",
    "    'Sweden': 'SEK',\n",
    "    'Norway': 'NOK',\n",
    "    'Taiwan': 'TWD',\n",
    "    'Cambodia': 'KHR',\n",
    "    'Thailand': 'THB',\n",
    "    'Slovakia': 'EUR',\n",
    "    'Bulgaria': 'BGN',\n",
    "    'Iran': 'IRR',\n",
    "    'Poland': 'PLN',\n",
    "    'Turkey': 'TRY',\n",
    "    'Nigeria': 'NGN',\n",
    "    'Brazil': 'BRL',\n",
    "    'Finland': 'EUR',\n",
    "    'Bahamas': 'BSD',\n",
    "    'Argentina': 'ARS',\n",
    "    'Colombia': 'COP',\n",
    "    'Israel': 'ILS',\n",
    "    'Egypt': 'EGP',\n",
    "    'Indonesia': 'IDR',\n",
    "    'Pakistan': 'PKR',\n",
    "    'Slovenia': 'EUR',\n",
    "    'Dominican Republic': 'DOP',\n",
    "    'United Arab Emirates': 'AED',\n",
    "    'Kenya': 'KES',\n",
    "    'Philippines': 'PHP',\n",
    "    'Libya': 'LYD',\n",
    "}\n",
    "\n",
    "#Koers gebruikt van xe.com (27-09-2024)\n",
    "valuta_naar_usd = {\n",
    "    'USD': 1,\n",
    "    'GBP': 1.33,\n",
    "    'NZD': 0.63,\n",
    "    'CAD': 0.74,\n",
    "    'AUD': 0.68,\n",
    "    'EUR': 1.11,\n",
    "    'JPY': 0.0069,\n",
    "    'CNY': 0.14,\n",
    "    'MXN': 0.05,\n",
    "    'HKD': 0.13,\n",
    "    'CZK': 0.044,\n",
    "    'INR': 0.012,\n",
    "    'KRW': 0.000076,\n",
    "    'PEN': 0.268,\n",
    "    'RUB': 0.0107,\n",
    "    'DKK': 0.15,\n",
    "    'ZAR': 0.058,\n",
    "    'ISK': 0.0074,\n",
    "    'CHF': 1.184,\n",
    "    'RON': 0.224,\n",
    "    'HUF': 0.0028,\n",
    "    'SEK': 0.0987,\n",
    "    'NOK': 0.0948,\n",
    "    'TWD': 0.0317,\n",
    "    'KHR': 0.000245,\n",
    "    'THB': 0.030,\n",
    "    'BGN': 0.57,\n",
    "    'IRR': 0.000023738816,\n",
    "    'PLN': 0.26,\n",
    "    'TRY': 0.029,\n",
    "    'NGN': 0.00060493026,\n",
    "    'BRL': 0.183,\n",
    "    'BSD': 1,\n",
    "    'ARS': 0.010,\n",
    "    'COP': 0.00023999137,\n",
    "    'ILS': 0.27,\n",
    "    'EGP': 0.0206,\n",
    "    'IDR': 0.000066187407,\n",
    "    'PKR': 0.0036020965,\n",
    "    'DOP': 0.0166,\n",
    "    'AED': 0.27,\n",
    "    'KES': 0.0077,\n",
    "    'PHP': 0.017,\n",
    "    'LYD': 0.209,\n",
    "}"
   ],
   "id": "49aa56976666ea16",
   "outputs": [],
   "execution_count": null
  },
  {
   "metadata": {},
   "cell_type": "markdown",
   "source": [
    "\n",
    "## Valuta naar USD voor gross\n"
   ],
   "id": "2f3bf76b17390299"
  },
  {
   "metadata": {},
   "cell_type": "code",
   "source": [
    "dataset['gross'] = dataset.apply(\n",
    "    lambda row: row['gross'] * valuta_naar_usd.get(land_naar_valuta.get(row['country'], 'USD'), 1),\n",
    "    axis=1\n",
    ")"
   ],
   "id": "bb971d13eaf64d68",
   "outputs": [],
   "execution_count": null
  },
  {
   "metadata": {},
   "cell_type": "markdown",
   "source": [
    "## Valuta naar USD voor budget\n",
    "\n"
   ],
   "id": "ea088dad1ee42911"
  },
  {
   "metadata": {},
   "cell_type": "code",
   "source": [
    "dataset['budget'] = dataset.apply(\n",
    "    lambda row: row['budget'] * valuta_naar_usd.get(land_naar_valuta.get(row['country'], 'USD'), 1),\n",
    "    axis=1\n",
    ")\n",
    "dataset[['title', 'country', 'budget', 'gross']].head(10)"
   ],
   "id": "42e261950386974b",
   "outputs": [],
   "execution_count": null
  },
  {
   "metadata": {},
   "cell_type": "code",
   "source": [
    "dataset.drop(['color', 'duration', 'aspect_ratio', 'genres', 'num_voted_users', 'facenumber_in_poster', 'plot_keywords', 'num_user_for_reviews', 'num_critic_for_reviews', 'content_rating', 'title_year', 'language'], axis = 1, inplace=True)\n",
    "\n",
    "dataset = dataset[['title', 'director', 'actor_1', 'actor_2', 'actor_3', 'director_likes', 'actor_1_likes', 'actor_2_likes', 'actor_3_likes', 'cast_total_likes','movie_likes', 'budget', 'imdb_score', 'gross']]\n"
   ],
   "id": "9f6abcb551e0fa4c",
   "outputs": [],
   "execution_count": null
  },
  {
   "metadata": {},
   "cell_type": "code",
   "source": "dataset",
   "id": "1bb16c6ccdd82eab",
   "outputs": [],
   "execution_count": null
  }
 ],
 "metadata": {
  "kernelspec": {
   "display_name": "Python 3 (ipykernel)",
   "language": "python",
   "name": "python3"
  },
  "language_info": {
   "codemirror_mode": {
    "name": "ipython",
    "version": 3
   },
   "file_extension": ".py",
   "mimetype": "text/x-python",
   "name": "python",
   "nbconvert_exporter": "python",
   "pygments_lexer": "ipython3",
   "version": "3.11.5"
  }
 },
 "nbformat": 4,
 "nbformat_minor": 5
}
