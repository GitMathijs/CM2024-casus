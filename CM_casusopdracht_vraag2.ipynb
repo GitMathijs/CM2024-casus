{
 "cells": [
  {
   "metadata": {},
   "cell_type": "markdown",
   "source": [
    "# Casusopdracht - Onderzoeksvraag 2\n",
    "\n",
    "*Klas*: V2B\n",
    "*Studenten*: \n",
    "- Roan Gaasbeek\n",
    "- Luc Pikaar\n",
    "- Mathijs de Jong"
   ],
   "id": "11299acf487c1416"
  },
  {
   "metadata": {},
   "cell_type": "markdown",
   "source": "Dit bestand bouwt voort op de algemene stappen die zijn uitgevoerd in het bestand `CM_casusopdracht.ipynb`. In dat bestand zijn de fasen **Business Understanding**, **Data Understanding** en **Algemene Data Preparation** behandeld. In dit bestand gaan we verder met **Data Preparation** specifiek voor deze onderzoeksvraag en starten we de **Modelling**-fase.",
   "id": "a24bbc676d1f7ff2"
  },
  {
   "metadata": {},
   "cell_type": "markdown",
   "source": [
    "## 1. Business Understanding\n",
    "\n",
    "### Onderzoeksvraag\n",
    " In hoeverre kan de IMDB-score van een film (targetvariabele) worden voorspeld op basis van de sociale media-populariteit van de cast (zoals Facebook-likes) en de bechdeltest rating uit de externe dataset?"
   ],
   "id": "821f441c25566327"
  }
 ],
 "metadata": {
  "kernelspec": {
   "display_name": "Python 3",
   "language": "python",
   "name": "python3"
  },
  "language_info": {
   "codemirror_mode": {
    "name": "ipython",
    "version": 2
   },
   "file_extension": ".py",
   "mimetype": "text/x-python",
   "name": "python",
   "nbconvert_exporter": "python",
   "pygments_lexer": "ipython2",
   "version": "2.7.6"
  }
 },
 "nbformat": 4,
 "nbformat_minor": 5
}
